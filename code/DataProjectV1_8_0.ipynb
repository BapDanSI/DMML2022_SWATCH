{
  "cells": [
    {
      "cell_type": "markdown",
      "metadata": {
        "id": "9b95c744-4332-4dd3-84dd-150bb67b1e65"
      },
      "source": [
        "#DATAMINING PROJECT V1.8\n",
        "***From Baptiste Danichert & Ahmed Balibala***\n",
        "\n",
        "**Last update**: getting a better score\n",
        "\n",
        "**Description:** You have noticed that to improve one’s skills in a new foreign language, it is important to read texts in that language. These texts have to be at the reader’s language level. However, it is difficult to find texts that are close to someone’s knowledge level (A1 to C2). You have decided to build a model for English speakers that predicts the difficulty of a French written text. This can be then used, e.g., in a recommendation system, to recommend texts, e.g, recent news articles that are appropriate for someone’s language level. If someone is at A1 French level, it is inappropriate to present a text at B2 level, as she won’t be able to understand it. Ideally, a text should have many known words and may have a few words that are unknown so that the person can improve.\n",
        "\n"
      ],
      "id": "9b95c744-4332-4dd3-84dd-150bb67b1e65"
    },
    {
      "cell_type": "markdown",
      "metadata": {
        "id": "2535074a-62bd-4200-bf54-cb4e1c5fe08d"
      },
      "source": [
        "# 1. Loading the training data"
      ],
      "id": "2535074a-62bd-4200-bf54-cb4e1c5fe08d"
    },
    {
      "cell_type": "code",
      "execution_count": null,
      "metadata": {
        "id": "efb00cef-ee9a-4f65-b26d-665a2af4a495"
      },
      "outputs": [],
      "source": [
        "import pandas as pd\n",
        "import numpy as np\n",
        "import seaborn as sns\n",
        "import warnings\n",
        "warnings.filterwarnings('ignore')"
      ],
      "id": "efb00cef-ee9a-4f65-b26d-665a2af4a495"
    },
    {
      "cell_type": "code",
      "execution_count": null,
      "metadata": {
        "id": "c236a273-585d-4de2-bb3e-fd0388bd72e5"
      },
      "outputs": [],
      "source": [
        "df = pd.read_csv('https://raw.githubusercontent.com/BapDanSI/DataMiningProject/main/data/training_data.csv')\n",
        "df_pred = pd.read_csv('https://raw.githubusercontent.com/BapDanSI/DataMiningProject/main/data/unlabelled_test_data.csv')"
      ],
      "id": "c236a273-585d-4de2-bb3e-fd0388bd72e5"
    },
    {
      "cell_type": "code",
      "source": [
        "df_pred.head()"
      ],
      "metadata": {
        "colab": {
          "base_uri": "https://localhost:8080/"
        },
        "id": "aCb1V_K_J14M",
        "outputId": "93e5a701-7b38-4d02-9569-b0b4367e97fb"
      },
      "id": "aCb1V_K_J14M",
      "execution_count": null,
      "outputs": [
        {
          "output_type": "execute_result",
          "data": {
            "text/plain": [
              "   id                                           sentence\n",
              "0   0  Nous dûmes nous excuser des propos que nous eû...\n",
              "1   1  Vous ne pouvez pas savoir le plaisir que j'ai ...\n",
              "2   2  Et, paradoxalement, boire froid n'est pas la b...\n",
              "3   3  Ce n'est pas étonnant, car c'est une saison my...\n",
              "4   4  Le corps de Golo lui-même, d'une essence aussi..."
            ],
            "text/html": [
              "\n",
              "  <div id=\"df-3b79d854-4b28-4eee-8bb8-4516f391a8cc\">\n",
              "    <div class=\"colab-df-container\">\n",
              "      <div>\n",
              "<style scoped>\n",
              "    .dataframe tbody tr th:only-of-type {\n",
              "        vertical-align: middle;\n",
              "    }\n",
              "\n",
              "    .dataframe tbody tr th {\n",
              "        vertical-align: top;\n",
              "    }\n",
              "\n",
              "    .dataframe thead th {\n",
              "        text-align: right;\n",
              "    }\n",
              "</style>\n",
              "<table border=\"1\" class=\"dataframe\">\n",
              "  <thead>\n",
              "    <tr style=\"text-align: right;\">\n",
              "      <th></th>\n",
              "      <th>id</th>\n",
              "      <th>sentence</th>\n",
              "    </tr>\n",
              "  </thead>\n",
              "  <tbody>\n",
              "    <tr>\n",
              "      <th>0</th>\n",
              "      <td>0</td>\n",
              "      <td>Nous dûmes nous excuser des propos que nous eû...</td>\n",
              "    </tr>\n",
              "    <tr>\n",
              "      <th>1</th>\n",
              "      <td>1</td>\n",
              "      <td>Vous ne pouvez pas savoir le plaisir que j'ai ...</td>\n",
              "    </tr>\n",
              "    <tr>\n",
              "      <th>2</th>\n",
              "      <td>2</td>\n",
              "      <td>Et, paradoxalement, boire froid n'est pas la b...</td>\n",
              "    </tr>\n",
              "    <tr>\n",
              "      <th>3</th>\n",
              "      <td>3</td>\n",
              "      <td>Ce n'est pas étonnant, car c'est une saison my...</td>\n",
              "    </tr>\n",
              "    <tr>\n",
              "      <th>4</th>\n",
              "      <td>4</td>\n",
              "      <td>Le corps de Golo lui-même, d'une essence aussi...</td>\n",
              "    </tr>\n",
              "  </tbody>\n",
              "</table>\n",
              "</div>\n",
              "      <button class=\"colab-df-convert\" onclick=\"convertToInteractive('df-3b79d854-4b28-4eee-8bb8-4516f391a8cc')\"\n",
              "              title=\"Convert this dataframe to an interactive table.\"\n",
              "              style=\"display:none;\">\n",
              "        \n",
              "  <svg xmlns=\"http://www.w3.org/2000/svg\" height=\"24px\"viewBox=\"0 0 24 24\"\n",
              "       width=\"24px\">\n",
              "    <path d=\"M0 0h24v24H0V0z\" fill=\"none\"/>\n",
              "    <path d=\"M18.56 5.44l.94 2.06.94-2.06 2.06-.94-2.06-.94-.94-2.06-.94 2.06-2.06.94zm-11 1L8.5 8.5l.94-2.06 2.06-.94-2.06-.94L8.5 2.5l-.94 2.06-2.06.94zm10 10l.94 2.06.94-2.06 2.06-.94-2.06-.94-.94-2.06-.94 2.06-2.06.94z\"/><path d=\"M17.41 7.96l-1.37-1.37c-.4-.4-.92-.59-1.43-.59-.52 0-1.04.2-1.43.59L10.3 9.45l-7.72 7.72c-.78.78-.78 2.05 0 2.83L4 21.41c.39.39.9.59 1.41.59.51 0 1.02-.2 1.41-.59l7.78-7.78 2.81-2.81c.8-.78.8-2.07 0-2.86zM5.41 20L4 18.59l7.72-7.72 1.47 1.35L5.41 20z\"/>\n",
              "  </svg>\n",
              "      </button>\n",
              "      \n",
              "  <style>\n",
              "    .colab-df-container {\n",
              "      display:flex;\n",
              "      flex-wrap:wrap;\n",
              "      gap: 12px;\n",
              "    }\n",
              "\n",
              "    .colab-df-convert {\n",
              "      background-color: #E8F0FE;\n",
              "      border: none;\n",
              "      border-radius: 50%;\n",
              "      cursor: pointer;\n",
              "      display: none;\n",
              "      fill: #1967D2;\n",
              "      height: 32px;\n",
              "      padding: 0 0 0 0;\n",
              "      width: 32px;\n",
              "    }\n",
              "\n",
              "    .colab-df-convert:hover {\n",
              "      background-color: #E2EBFA;\n",
              "      box-shadow: 0px 1px 2px rgba(60, 64, 67, 0.3), 0px 1px 3px 1px rgba(60, 64, 67, 0.15);\n",
              "      fill: #174EA6;\n",
              "    }\n",
              "\n",
              "    [theme=dark] .colab-df-convert {\n",
              "      background-color: #3B4455;\n",
              "      fill: #D2E3FC;\n",
              "    }\n",
              "\n",
              "    [theme=dark] .colab-df-convert:hover {\n",
              "      background-color: #434B5C;\n",
              "      box-shadow: 0px 1px 3px 1px rgba(0, 0, 0, 0.15);\n",
              "      filter: drop-shadow(0px 1px 2px rgba(0, 0, 0, 0.3));\n",
              "      fill: #FFFFFF;\n",
              "    }\n",
              "  </style>\n",
              "\n",
              "      <script>\n",
              "        const buttonEl =\n",
              "          document.querySelector('#df-3b79d854-4b28-4eee-8bb8-4516f391a8cc button.colab-df-convert');\n",
              "        buttonEl.style.display =\n",
              "          google.colab.kernel.accessAllowed ? 'block' : 'none';\n",
              "\n",
              "        async function convertToInteractive(key) {\n",
              "          const element = document.querySelector('#df-3b79d854-4b28-4eee-8bb8-4516f391a8cc');\n",
              "          const dataTable =\n",
              "            await google.colab.kernel.invokeFunction('convertToInteractive',\n",
              "                                                     [key], {});\n",
              "          if (!dataTable) return;\n",
              "\n",
              "          const docLinkHtml = 'Like what you see? Visit the ' +\n",
              "            '<a target=\"_blank\" href=https://colab.research.google.com/notebooks/data_table.ipynb>data table notebook</a>'\n",
              "            + ' to learn more about interactive tables.';\n",
              "          element.innerHTML = '';\n",
              "          dataTable['output_type'] = 'display_data';\n",
              "          await google.colab.output.renderOutput(dataTable, element);\n",
              "          const docLink = document.createElement('div');\n",
              "          docLink.innerHTML = docLinkHtml;\n",
              "          element.appendChild(docLink);\n",
              "        }\n",
              "      </script>\n",
              "    </div>\n",
              "  </div>\n",
              "  "
            ]
          },
          "metadata": {},
          "execution_count": 25
        }
      ]
    },
    {
      "cell_type": "code",
      "source": [
        "df.head()"
      ],
      "metadata": {
        "colab": {
          "base_uri": "https://localhost:8080/"
        },
        "id": "tGnKB_yEJ7HD",
        "outputId": "672393b7-e996-453e-ab8c-65d96af44d74"
      },
      "id": "tGnKB_yEJ7HD",
      "execution_count": null,
      "outputs": [
        {
          "output_type": "execute_result",
          "data": {
            "text/plain": [
              "   id                                           sentence difficulty\n",
              "0   0  Les coûts kilométriques réels peuvent diverger...         C1\n",
              "1   1  Le bleu, c'est ma couleur préférée mais je n'a...         A1\n",
              "2   2  Le test de niveau en français est sur le site ...         A1\n",
              "3   3           Est-ce que ton mari est aussi de Boston?         A1\n",
              "4   4  Dans les écoles de commerce, dans les couloirs...         B1"
            ],
            "text/html": [
              "\n",
              "  <div id=\"df-924178e4-9c7e-40a5-9482-c20335907ad2\">\n",
              "    <div class=\"colab-df-container\">\n",
              "      <div>\n",
              "<style scoped>\n",
              "    .dataframe tbody tr th:only-of-type {\n",
              "        vertical-align: middle;\n",
              "    }\n",
              "\n",
              "    .dataframe tbody tr th {\n",
              "        vertical-align: top;\n",
              "    }\n",
              "\n",
              "    .dataframe thead th {\n",
              "        text-align: right;\n",
              "    }\n",
              "</style>\n",
              "<table border=\"1\" class=\"dataframe\">\n",
              "  <thead>\n",
              "    <tr style=\"text-align: right;\">\n",
              "      <th></th>\n",
              "      <th>id</th>\n",
              "      <th>sentence</th>\n",
              "      <th>difficulty</th>\n",
              "    </tr>\n",
              "  </thead>\n",
              "  <tbody>\n",
              "    <tr>\n",
              "      <th>0</th>\n",
              "      <td>0</td>\n",
              "      <td>Les coûts kilométriques réels peuvent diverger...</td>\n",
              "      <td>C1</td>\n",
              "    </tr>\n",
              "    <tr>\n",
              "      <th>1</th>\n",
              "      <td>1</td>\n",
              "      <td>Le bleu, c'est ma couleur préférée mais je n'a...</td>\n",
              "      <td>A1</td>\n",
              "    </tr>\n",
              "    <tr>\n",
              "      <th>2</th>\n",
              "      <td>2</td>\n",
              "      <td>Le test de niveau en français est sur le site ...</td>\n",
              "      <td>A1</td>\n",
              "    </tr>\n",
              "    <tr>\n",
              "      <th>3</th>\n",
              "      <td>3</td>\n",
              "      <td>Est-ce que ton mari est aussi de Boston?</td>\n",
              "      <td>A1</td>\n",
              "    </tr>\n",
              "    <tr>\n",
              "      <th>4</th>\n",
              "      <td>4</td>\n",
              "      <td>Dans les écoles de commerce, dans les couloirs...</td>\n",
              "      <td>B1</td>\n",
              "    </tr>\n",
              "  </tbody>\n",
              "</table>\n",
              "</div>\n",
              "      <button class=\"colab-df-convert\" onclick=\"convertToInteractive('df-924178e4-9c7e-40a5-9482-c20335907ad2')\"\n",
              "              title=\"Convert this dataframe to an interactive table.\"\n",
              "              style=\"display:none;\">\n",
              "        \n",
              "  <svg xmlns=\"http://www.w3.org/2000/svg\" height=\"24px\"viewBox=\"0 0 24 24\"\n",
              "       width=\"24px\">\n",
              "    <path d=\"M0 0h24v24H0V0z\" fill=\"none\"/>\n",
              "    <path d=\"M18.56 5.44l.94 2.06.94-2.06 2.06-.94-2.06-.94-.94-2.06-.94 2.06-2.06.94zm-11 1L8.5 8.5l.94-2.06 2.06-.94-2.06-.94L8.5 2.5l-.94 2.06-2.06.94zm10 10l.94 2.06.94-2.06 2.06-.94-2.06-.94-.94-2.06-.94 2.06-2.06.94z\"/><path d=\"M17.41 7.96l-1.37-1.37c-.4-.4-.92-.59-1.43-.59-.52 0-1.04.2-1.43.59L10.3 9.45l-7.72 7.72c-.78.78-.78 2.05 0 2.83L4 21.41c.39.39.9.59 1.41.59.51 0 1.02-.2 1.41-.59l7.78-7.78 2.81-2.81c.8-.78.8-2.07 0-2.86zM5.41 20L4 18.59l7.72-7.72 1.47 1.35L5.41 20z\"/>\n",
              "  </svg>\n",
              "      </button>\n",
              "      \n",
              "  <style>\n",
              "    .colab-df-container {\n",
              "      display:flex;\n",
              "      flex-wrap:wrap;\n",
              "      gap: 12px;\n",
              "    }\n",
              "\n",
              "    .colab-df-convert {\n",
              "      background-color: #E8F0FE;\n",
              "      border: none;\n",
              "      border-radius: 50%;\n",
              "      cursor: pointer;\n",
              "      display: none;\n",
              "      fill: #1967D2;\n",
              "      height: 32px;\n",
              "      padding: 0 0 0 0;\n",
              "      width: 32px;\n",
              "    }\n",
              "\n",
              "    .colab-df-convert:hover {\n",
              "      background-color: #E2EBFA;\n",
              "      box-shadow: 0px 1px 2px rgba(60, 64, 67, 0.3), 0px 1px 3px 1px rgba(60, 64, 67, 0.15);\n",
              "      fill: #174EA6;\n",
              "    }\n",
              "\n",
              "    [theme=dark] .colab-df-convert {\n",
              "      background-color: #3B4455;\n",
              "      fill: #D2E3FC;\n",
              "    }\n",
              "\n",
              "    [theme=dark] .colab-df-convert:hover {\n",
              "      background-color: #434B5C;\n",
              "      box-shadow: 0px 1px 3px 1px rgba(0, 0, 0, 0.15);\n",
              "      filter: drop-shadow(0px 1px 2px rgba(0, 0, 0, 0.3));\n",
              "      fill: #FFFFFF;\n",
              "    }\n",
              "  </style>\n",
              "\n",
              "      <script>\n",
              "        const buttonEl =\n",
              "          document.querySelector('#df-924178e4-9c7e-40a5-9482-c20335907ad2 button.colab-df-convert');\n",
              "        buttonEl.style.display =\n",
              "          google.colab.kernel.accessAllowed ? 'block' : 'none';\n",
              "\n",
              "        async function convertToInteractive(key) {\n",
              "          const element = document.querySelector('#df-924178e4-9c7e-40a5-9482-c20335907ad2');\n",
              "          const dataTable =\n",
              "            await google.colab.kernel.invokeFunction('convertToInteractive',\n",
              "                                                     [key], {});\n",
              "          if (!dataTable) return;\n",
              "\n",
              "          const docLinkHtml = 'Like what you see? Visit the ' +\n",
              "            '<a target=\"_blank\" href=https://colab.research.google.com/notebooks/data_table.ipynb>data table notebook</a>'\n",
              "            + ' to learn more about interactive tables.';\n",
              "          element.innerHTML = '';\n",
              "          dataTable['output_type'] = 'display_data';\n",
              "          await google.colab.output.renderOutput(dataTable, element);\n",
              "          const docLink = document.createElement('div');\n",
              "          docLink.innerHTML = docLinkHtml;\n",
              "          element.appendChild(docLink);\n",
              "        }\n",
              "      </script>\n",
              "    </div>\n",
              "  </div>\n",
              "  "
            ]
          },
          "metadata": {},
          "execution_count": 26
        }
      ]
    },
    {
      "cell_type": "markdown",
      "metadata": {
        "id": "2b16163c-97fe-4498-9f17-43c9e006c052"
      },
      "source": [
        "# 2. Dataframe analysis\n"
      ],
      "id": "2b16163c-97fe-4498-9f17-43c9e006c052"
    },
    {
      "cell_type": "code",
      "execution_count": null,
      "metadata": {
        "colab": {
          "base_uri": "https://localhost:8080/"
        },
        "id": "2cd9a579-ea5a-4784-8618-db9c78da73d2",
        "outputId": "11acb67b-edd2-403b-ee0d-fa67b37fd348"
      },
      "outputs": [
        {
          "output_type": "execute_result",
          "data": {
            "text/plain": [
              "(4800, 3)"
            ]
          },
          "metadata": {},
          "execution_count": 27
        }
      ],
      "source": [
        "df.shape"
      ],
      "id": "2cd9a579-ea5a-4784-8618-db9c78da73d2"
    },
    {
      "cell_type": "markdown",
      "metadata": {
        "id": "7855622d-9196-4b1f-9aa4-4655c6395ee7"
      },
      "source": [
        "-> 4800 rows and 2 columns (excluding first column \"id\")"
      ],
      "id": "7855622d-9196-4b1f-9aa4-4655c6395ee7"
    },
    {
      "cell_type": "code",
      "execution_count": null,
      "metadata": {
        "colab": {
          "base_uri": "https://localhost:8080/"
        },
        "id": "5431a208-4167-412d-a126-38e70c7eee7d",
        "outputId": "b76f33df-dcce-42ab-ffa5-a7a02d9fbd7c"
      },
      "outputs": [
        {
          "output_type": "execute_result",
          "data": {
            "text/plain": [
              "id            0\n",
              "sentence      0\n",
              "difficulty    0\n",
              "dtype: int64"
            ]
          },
          "metadata": {},
          "execution_count": 28
        }
      ],
      "source": [
        "df.isnull().sum()"
      ],
      "id": "5431a208-4167-412d-a126-38e70c7eee7d"
    },
    {
      "cell_type": "markdown",
      "metadata": {
        "id": "e2fece64-23ff-43a4-9232-9d8471470502"
      },
      "source": [
        "-> no NAs"
      ],
      "id": "e2fece64-23ff-43a4-9232-9d8471470502"
    },
    {
      "cell_type": "code",
      "execution_count": null,
      "metadata": {
        "colab": {
          "base_uri": "https://localhost:8080/"
        },
        "id": "103665f5-d9f3-449e-a976-02847f92adf2",
        "outputId": "f177f154-40d1-4cb5-e78c-620bbd8e8259"
      },
      "outputs": [
        {
          "output_type": "execute_result",
          "data": {
            "text/plain": [
              "False    4800\n",
              "dtype: int64"
            ]
          },
          "metadata": {},
          "execution_count": 29
        }
      ],
      "source": [
        "df.duplicated(subset=\"sentence\").value_counts()"
      ],
      "id": "103665f5-d9f3-449e-a976-02847f92adf2"
    },
    {
      "cell_type": "markdown",
      "metadata": {
        "id": "GmiS9BcW-nMD"
      },
      "source": [
        "-> no duplicate in the data"
      ],
      "id": "GmiS9BcW-nMD"
    },
    {
      "cell_type": "markdown",
      "source": [
        "#3.  Baseline"
      ],
      "metadata": {
        "id": "IpDCZoOFvcnf"
      },
      "id": "IpDCZoOFvcnf"
    },
    {
      "cell_type": "code",
      "source": [
        "np.random.seed = 0"
      ],
      "metadata": {
        "id": "ZmFYriXHOngk"
      },
      "id": "ZmFYriXHOngk",
      "execution_count": null,
      "outputs": []
    },
    {
      "cell_type": "code",
      "source": [
        "base_rate = max(df.value_counts('difficulty'))/df.shape[0]\n",
        "print('Base rate:', round(base_rate,4))"
      ],
      "metadata": {
        "colab": {
          "base_uri": "https://localhost:8080/"
        },
        "id": "QQKu9HnhvNLH",
        "outputId": "c0878d35-43e8-4924-bf8e-5ab1bd1b58d6"
      },
      "id": "QQKu9HnhvNLH",
      "execution_count": null,
      "outputs": [
        {
          "output_type": "stream",
          "name": "stdout",
          "text": [
            "Base rate: 0.1694\n"
          ]
        }
      ]
    },
    {
      "cell_type": "markdown",
      "source": [
        "# 4. Tokinizer function"
      ],
      "metadata": {
        "id": "iS2IoZDpzang"
      },
      "id": "iS2IoZDpzang"
    },
    {
      "cell_type": "code",
      "source": [
        "!pip install -U pip setuptools wheel\n",
        "!pip install -U spacy\n",
        "!pip install -U wordstats\n",
        "!python -m spacy download fr_core_news_sm\n",
        "from spacy.lang.fr.stop_words import STOP_WORDS as fr_stopwords\n",
        "from wordstats import Word, common_words\n",
        "from collections import Counter\n",
        "import string\n",
        "import nltk\n",
        "import spacy\n",
        "nlp = spacy.load(\"fr_core_news_sm\")"
      ],
      "metadata": {
        "id": "u1qN9wn3zzxq",
        "colab": {
          "base_uri": "https://localhost:8080/"
        },
        "outputId": "63b1cc47-5dd4-4c47-8450-40d38bb0229a"
      },
      "id": "u1qN9wn3zzxq",
      "execution_count": null,
      "outputs": [
        {
          "output_type": "stream",
          "name": "stdout",
          "text": [
            "Looking in indexes: https://pypi.org/simple, https://us-python.pkg.dev/colab-wheels/public/simple/\n",
            "Requirement already satisfied: pip in /usr/local/lib/python3.8/dist-packages (21.1.3)\n",
            "Collecting pip\n",
            "  Downloading pip-22.3.1-py3-none-any.whl (2.1 MB)\n",
            "\u001b[K     |████████████████████████████████| 2.1 MB 4.9 MB/s \n",
            "\u001b[?25hRequirement already satisfied: setuptools in /usr/local/lib/python3.8/dist-packages (57.4.0)\n",
            "Collecting setuptools\n",
            "  Downloading setuptools-65.6.3-py3-none-any.whl (1.2 MB)\n",
            "\u001b[K     |████████████████████████████████| 1.2 MB 50.3 MB/s \n",
            "\u001b[?25hRequirement already satisfied: wheel in /usr/local/lib/python3.8/dist-packages (0.38.4)\n",
            "Installing collected packages: setuptools, pip\n",
            "  Attempting uninstall: setuptools\n",
            "    Found existing installation: setuptools 57.4.0\n",
            "    Uninstalling setuptools-57.4.0:\n",
            "      Successfully uninstalled setuptools-57.4.0\n",
            "  Attempting uninstall: pip\n",
            "    Found existing installation: pip 21.1.3\n",
            "    Uninstalling pip-21.1.3:\n",
            "      Successfully uninstalled pip-21.1.3\n",
            "\u001b[31mERROR: pip's dependency resolver does not currently take into account all the packages that are installed. This behaviour is the source of the following dependency conflicts.\n",
            "ipython 7.9.0 requires jedi>=0.10, which is not installed.\u001b[0m\n",
            "Successfully installed pip-22.3.1 setuptools-65.6.3\n"
          ]
        },
        {
          "output_type": "display_data",
          "data": {
            "application/vnd.colab-display-data+json": {
              "pip_warning": {
                "packages": [
                  "pkg_resources"
                ]
              }
            }
          },
          "metadata": {}
        },
        {
          "output_type": "stream",
          "name": "stdout",
          "text": [
            "Looking in indexes: https://pypi.org/simple, https://us-python.pkg.dev/colab-wheels/public/simple/\n",
            "Requirement already satisfied: spacy in /usr/local/lib/python3.8/dist-packages (3.4.4)\n",
            "Requirement already satisfied: pathy>=0.3.5 in /usr/local/lib/python3.8/dist-packages (from spacy) (0.10.1)\n",
            "Requirement already satisfied: wasabi<1.1.0,>=0.9.1 in /usr/local/lib/python3.8/dist-packages (from spacy) (0.10.1)\n",
            "Requirement already satisfied: catalogue<2.1.0,>=2.0.6 in /usr/local/lib/python3.8/dist-packages (from spacy) (2.0.8)\n",
            "Requirement already satisfied: thinc<8.2.0,>=8.1.0 in /usr/local/lib/python3.8/dist-packages (from spacy) (8.1.5)\n",
            "Requirement already satisfied: srsly<3.0.0,>=2.4.3 in /usr/local/lib/python3.8/dist-packages (from spacy) (2.4.5)\n",
            "Requirement already satisfied: tqdm<5.0.0,>=4.38.0 in /usr/local/lib/python3.8/dist-packages (from spacy) (4.64.1)\n",
            "Requirement already satisfied: langcodes<4.0.0,>=3.2.0 in /usr/local/lib/python3.8/dist-packages (from spacy) (3.3.0)\n",
            "Requirement already satisfied: requests<3.0.0,>=2.13.0 in /usr/local/lib/python3.8/dist-packages (from spacy) (2.23.0)\n",
            "Requirement already satisfied: smart-open<7.0.0,>=5.2.1 in /usr/local/lib/python3.8/dist-packages (from spacy) (6.3.0)\n",
            "Requirement already satisfied: murmurhash<1.1.0,>=0.28.0 in /usr/local/lib/python3.8/dist-packages (from spacy) (1.0.9)\n",
            "Requirement already satisfied: preshed<3.1.0,>=3.0.2 in /usr/local/lib/python3.8/dist-packages (from spacy) (3.0.8)\n",
            "Requirement already satisfied: numpy>=1.15.0 in /usr/local/lib/python3.8/dist-packages (from spacy) (1.21.6)\n",
            "Requirement already satisfied: packaging>=20.0 in /usr/local/lib/python3.8/dist-packages (from spacy) (21.3)\n",
            "Requirement already satisfied: spacy-loggers<2.0.0,>=1.0.0 in /usr/local/lib/python3.8/dist-packages (from spacy) (1.0.4)\n",
            "Requirement already satisfied: spacy-legacy<3.1.0,>=3.0.10 in /usr/local/lib/python3.8/dist-packages (from spacy) (3.0.10)\n",
            "Requirement already satisfied: jinja2 in /usr/local/lib/python3.8/dist-packages (from spacy) (2.11.3)\n",
            "Requirement already satisfied: typer<0.8.0,>=0.3.0 in /usr/local/lib/python3.8/dist-packages (from spacy) (0.7.0)\n",
            "Requirement already satisfied: setuptools in /usr/local/lib/python3.8/dist-packages (from spacy) (65.6.3)\n",
            "Requirement already satisfied: cymem<2.1.0,>=2.0.2 in /usr/local/lib/python3.8/dist-packages (from spacy) (2.0.7)\n",
            "Requirement already satisfied: pydantic!=1.8,!=1.8.1,<1.11.0,>=1.7.4 in /usr/local/lib/python3.8/dist-packages (from spacy) (1.10.2)\n",
            "Requirement already satisfied: pyparsing!=3.0.5,>=2.0.2 in /usr/local/lib/python3.8/dist-packages (from packaging>=20.0->spacy) (3.0.9)\n",
            "Requirement already satisfied: typing-extensions>=4.1.0 in /usr/local/lib/python3.8/dist-packages (from pydantic!=1.8,!=1.8.1,<1.11.0,>=1.7.4->spacy) (4.4.0)\n",
            "Requirement already satisfied: chardet<4,>=3.0.2 in /usr/local/lib/python3.8/dist-packages (from requests<3.0.0,>=2.13.0->spacy) (3.0.4)\n",
            "Requirement already satisfied: idna<3,>=2.5 in /usr/local/lib/python3.8/dist-packages (from requests<3.0.0,>=2.13.0->spacy) (2.10)\n",
            "Requirement already satisfied: certifi>=2017.4.17 in /usr/local/lib/python3.8/dist-packages (from requests<3.0.0,>=2.13.0->spacy) (2022.12.7)\n",
            "Requirement already satisfied: urllib3!=1.25.0,!=1.25.1,<1.26,>=1.21.1 in /usr/local/lib/python3.8/dist-packages (from requests<3.0.0,>=2.13.0->spacy) (1.24.3)\n",
            "Requirement already satisfied: confection<1.0.0,>=0.0.1 in /usr/local/lib/python3.8/dist-packages (from thinc<8.2.0,>=8.1.0->spacy) (0.0.3)\n",
            "Requirement already satisfied: blis<0.8.0,>=0.7.8 in /usr/local/lib/python3.8/dist-packages (from thinc<8.2.0,>=8.1.0->spacy) (0.7.9)\n",
            "Requirement already satisfied: click<9.0.0,>=7.1.1 in /usr/local/lib/python3.8/dist-packages (from typer<0.8.0,>=0.3.0->spacy) (7.1.2)\n",
            "Requirement already satisfied: MarkupSafe>=0.23 in /usr/local/lib/python3.8/dist-packages (from jinja2->spacy) (2.0.1)\n",
            "\u001b[33mWARNING: Running pip as the 'root' user can result in broken permissions and conflicting behaviour with the system package manager. It is recommended to use a virtual environment instead: https://pip.pypa.io/warnings/venv\u001b[0m\u001b[33m\n",
            "\u001b[0mLooking in indexes: https://pypi.org/simple, https://us-python.pkg.dev/colab-wheels/public/simple/\n",
            "Collecting wordstats\n",
            "  Downloading wordstats-1.0.7.tar.gz (3.6 MB)\n",
            "\u001b[2K     \u001b[90m━━━━━━━━━━━━━━━━━━━━━━━━━━━━━━━━━━━━━━━━\u001b[0m \u001b[32m3.6/3.6 MB\u001b[0m \u001b[31m21.2 MB/s\u001b[0m eta \u001b[36m0:00:00\u001b[0m\n",
            "\u001b[?25h  Preparing metadata (setup.py) ... \u001b[?25l\u001b[?25hdone\n",
            "Collecting configobj\n",
            "  Downloading configobj-5.0.6.tar.gz (33 kB)\n",
            "  Preparing metadata (setup.py) ... \u001b[?25l\u001b[?25hdone\n",
            "Requirement already satisfied: sqlalchemy in /usr/local/lib/python3.8/dist-packages (from wordstats) (1.4.45)\n",
            "Requirement already satisfied: six in /usr/local/lib/python3.8/dist-packages (from configobj->wordstats) (1.15.0)\n",
            "Requirement already satisfied: greenlet!=0.4.17 in /usr/local/lib/python3.8/dist-packages (from sqlalchemy->wordstats) (2.0.1)\n",
            "Building wheels for collected packages: wordstats, configobj\n",
            "  Building wheel for wordstats (setup.py) ... \u001b[?25l\u001b[?25hdone\n",
            "  Created wheel for wordstats: filename=wordstats-1.0.7-py3-none-any.whl size=3616363 sha256=4f57d0304b169d632f234e9e385bffc3b1567a04adc253856d2b01f277387307\n",
            "  Stored in directory: /root/.cache/pip/wheels/07/27/7d/24ade697c516ed02f369a90c5fec463286a6a67a299f75b711\n",
            "  Building wheel for configobj (setup.py) ... \u001b[?25l\u001b[?25hdone\n",
            "  Created wheel for configobj: filename=configobj-5.0.6-py3-none-any.whl size=34527 sha256=182d7b4a46291286a6287a78dcf332e3b0923848d5e877a3074af482b238b176\n",
            "  Stored in directory: /root/.cache/pip/wheels/e0/ea/e1/7b17c0af6f0228de33d82556dbad4fe823d90696fc50f2c81d\n",
            "Successfully built wordstats configobj\n",
            "Installing collected packages: configobj, wordstats\n",
            "Successfully installed configobj-5.0.6 wordstats-1.0.7\n",
            "\u001b[33mWARNING: Running pip as the 'root' user can result in broken permissions and conflicting behaviour with the system package manager. It is recommended to use a virtual environment instead: https://pip.pypa.io/warnings/venv\u001b[0m\u001b[33m\n",
            "\u001b[0m/usr/local/lib/python3.8/dist-packages/torch/cuda/__init__.py:497: UserWarning: Can't initialize NVML\n",
            "  warnings.warn(\"Can't initialize NVML\")\n",
            "2022-12-21 12:02:22.607197: E tensorflow/stream_executor/cuda/cuda_driver.cc:271] failed call to cuInit: CUDA_ERROR_NO_DEVICE: no CUDA-capable device is detected\n",
            "Looking in indexes: https://pypi.org/simple, https://us-python.pkg.dev/colab-wheels/public/simple/\n",
            "Collecting fr-core-news-sm==3.4.0\n",
            "  Downloading https://github.com/explosion/spacy-models/releases/download/fr_core_news_sm-3.4.0/fr_core_news_sm-3.4.0-py3-none-any.whl (16.3 MB)\n",
            "\u001b[2K     \u001b[90m━━━━━━━━━━━━━━━━━━━━━━━━━━━━━━━━━━━━━━━━\u001b[0m \u001b[32m16.3/16.3 MB\u001b[0m \u001b[31m61.0 MB/s\u001b[0m eta \u001b[36m0:00:00\u001b[0m\n",
            "\u001b[?25hRequirement already satisfied: spacy<3.5.0,>=3.4.0 in /usr/local/lib/python3.8/dist-packages (from fr-core-news-sm==3.4.0) (3.4.4)\n",
            "Requirement already satisfied: numpy>=1.15.0 in /usr/local/lib/python3.8/dist-packages (from spacy<3.5.0,>=3.4.0->fr-core-news-sm==3.4.0) (1.21.6)\n",
            "Requirement already satisfied: srsly<3.0.0,>=2.4.3 in /usr/local/lib/python3.8/dist-packages (from spacy<3.5.0,>=3.4.0->fr-core-news-sm==3.4.0) (2.4.5)\n",
            "Requirement already satisfied: pydantic!=1.8,!=1.8.1,<1.11.0,>=1.7.4 in /usr/local/lib/python3.8/dist-packages (from spacy<3.5.0,>=3.4.0->fr-core-news-sm==3.4.0) (1.10.2)\n",
            "Requirement already satisfied: smart-open<7.0.0,>=5.2.1 in /usr/local/lib/python3.8/dist-packages (from spacy<3.5.0,>=3.4.0->fr-core-news-sm==3.4.0) (6.3.0)\n",
            "Requirement already satisfied: preshed<3.1.0,>=3.0.2 in /usr/local/lib/python3.8/dist-packages (from spacy<3.5.0,>=3.4.0->fr-core-news-sm==3.4.0) (3.0.8)\n",
            "Requirement already satisfied: cymem<2.1.0,>=2.0.2 in /usr/local/lib/python3.8/dist-packages (from spacy<3.5.0,>=3.4.0->fr-core-news-sm==3.4.0) (2.0.7)\n",
            "Requirement already satisfied: setuptools in /usr/local/lib/python3.8/dist-packages (from spacy<3.5.0,>=3.4.0->fr-core-news-sm==3.4.0) (65.6.3)\n",
            "Requirement already satisfied: requests<3.0.0,>=2.13.0 in /usr/local/lib/python3.8/dist-packages (from spacy<3.5.0,>=3.4.0->fr-core-news-sm==3.4.0) (2.23.0)\n",
            "Requirement already satisfied: packaging>=20.0 in /usr/local/lib/python3.8/dist-packages (from spacy<3.5.0,>=3.4.0->fr-core-news-sm==3.4.0) (21.3)\n",
            "Requirement already satisfied: catalogue<2.1.0,>=2.0.6 in /usr/local/lib/python3.8/dist-packages (from spacy<3.5.0,>=3.4.0->fr-core-news-sm==3.4.0) (2.0.8)\n",
            "Requirement already satisfied: langcodes<4.0.0,>=3.2.0 in /usr/local/lib/python3.8/dist-packages (from spacy<3.5.0,>=3.4.0->fr-core-news-sm==3.4.0) (3.3.0)\n",
            "Requirement already satisfied: murmurhash<1.1.0,>=0.28.0 in /usr/local/lib/python3.8/dist-packages (from spacy<3.5.0,>=3.4.0->fr-core-news-sm==3.4.0) (1.0.9)\n",
            "Requirement already satisfied: tqdm<5.0.0,>=4.38.0 in /usr/local/lib/python3.8/dist-packages (from spacy<3.5.0,>=3.4.0->fr-core-news-sm==3.4.0) (4.64.1)\n",
            "Requirement already satisfied: wasabi<1.1.0,>=0.9.1 in /usr/local/lib/python3.8/dist-packages (from spacy<3.5.0,>=3.4.0->fr-core-news-sm==3.4.0) (0.10.1)\n",
            "Requirement already satisfied: thinc<8.2.0,>=8.1.0 in /usr/local/lib/python3.8/dist-packages (from spacy<3.5.0,>=3.4.0->fr-core-news-sm==3.4.0) (8.1.5)\n",
            "Requirement already satisfied: typer<0.8.0,>=0.3.0 in /usr/local/lib/python3.8/dist-packages (from spacy<3.5.0,>=3.4.0->fr-core-news-sm==3.4.0) (0.7.0)\n",
            "Requirement already satisfied: jinja2 in /usr/local/lib/python3.8/dist-packages (from spacy<3.5.0,>=3.4.0->fr-core-news-sm==3.4.0) (2.11.3)\n",
            "Requirement already satisfied: spacy-legacy<3.1.0,>=3.0.10 in /usr/local/lib/python3.8/dist-packages (from spacy<3.5.0,>=3.4.0->fr-core-news-sm==3.4.0) (3.0.10)\n",
            "Requirement already satisfied: pathy>=0.3.5 in /usr/local/lib/python3.8/dist-packages (from spacy<3.5.0,>=3.4.0->fr-core-news-sm==3.4.0) (0.10.1)\n",
            "Requirement already satisfied: spacy-loggers<2.0.0,>=1.0.0 in /usr/local/lib/python3.8/dist-packages (from spacy<3.5.0,>=3.4.0->fr-core-news-sm==3.4.0) (1.0.4)\n",
            "Requirement already satisfied: pyparsing!=3.0.5,>=2.0.2 in /usr/local/lib/python3.8/dist-packages (from packaging>=20.0->spacy<3.5.0,>=3.4.0->fr-core-news-sm==3.4.0) (3.0.9)\n",
            "Requirement already satisfied: typing-extensions>=4.1.0 in /usr/local/lib/python3.8/dist-packages (from pydantic!=1.8,!=1.8.1,<1.11.0,>=1.7.4->spacy<3.5.0,>=3.4.0->fr-core-news-sm==3.4.0) (4.4.0)\n",
            "Requirement already satisfied: chardet<4,>=3.0.2 in /usr/local/lib/python3.8/dist-packages (from requests<3.0.0,>=2.13.0->spacy<3.5.0,>=3.4.0->fr-core-news-sm==3.4.0) (3.0.4)\n",
            "Requirement already satisfied: idna<3,>=2.5 in /usr/local/lib/python3.8/dist-packages (from requests<3.0.0,>=2.13.0->spacy<3.5.0,>=3.4.0->fr-core-news-sm==3.4.0) (2.10)\n",
            "Requirement already satisfied: certifi>=2017.4.17 in /usr/local/lib/python3.8/dist-packages (from requests<3.0.0,>=2.13.0->spacy<3.5.0,>=3.4.0->fr-core-news-sm==3.4.0) (2022.12.7)\n",
            "Requirement already satisfied: urllib3!=1.25.0,!=1.25.1,<1.26,>=1.21.1 in /usr/local/lib/python3.8/dist-packages (from requests<3.0.0,>=2.13.0->spacy<3.5.0,>=3.4.0->fr-core-news-sm==3.4.0) (1.24.3)\n",
            "Requirement already satisfied: confection<1.0.0,>=0.0.1 in /usr/local/lib/python3.8/dist-packages (from thinc<8.2.0,>=8.1.0->spacy<3.5.0,>=3.4.0->fr-core-news-sm==3.4.0) (0.0.3)\n",
            "Requirement already satisfied: blis<0.8.0,>=0.7.8 in /usr/local/lib/python3.8/dist-packages (from thinc<8.2.0,>=8.1.0->spacy<3.5.0,>=3.4.0->fr-core-news-sm==3.4.0) (0.7.9)\n",
            "Requirement already satisfied: click<9.0.0,>=7.1.1 in /usr/local/lib/python3.8/dist-packages (from typer<0.8.0,>=0.3.0->spacy<3.5.0,>=3.4.0->fr-core-news-sm==3.4.0) (7.1.2)\n",
            "Requirement already satisfied: MarkupSafe>=0.23 in /usr/local/lib/python3.8/dist-packages (from jinja2->spacy<3.5.0,>=3.4.0->fr-core-news-sm==3.4.0) (2.0.1)\n",
            "Installing collected packages: fr-core-news-sm\n",
            "Successfully installed fr-core-news-sm-3.4.0\n",
            "\u001b[33mWARNING: Running pip as the 'root' user can result in broken permissions and conflicting behaviour with the system package manager. It is recommended to use a virtual environment instead: https://pip.pypa.io/warnings/venv\u001b[0m\u001b[33m\n",
            "\u001b[0m\u001b[38;5;2m✔ Download and installation successful\u001b[0m\n",
            "You can now load the package via spacy.load('fr_core_news_sm')\n"
          ]
        }
      ]
    },
    {
      "cell_type": "code",
      "source": [
        "df['n_diff'] = df['difficulty'].replace(['A1', 'A2', 'B1', 'B2', 'C1', 'C2'], [1,2,3,4,5,6])"
      ],
      "metadata": {
        "id": "PhZs7kuQ4Bta"
      },
      "id": "PhZs7kuQ4Bta",
      "execution_count": null,
      "outputs": []
    },
    {
      "cell_type": "code",
      "source": [
        "punctuations = string.punctuation\n",
        "punctuations"
      ],
      "metadata": {
        "colab": {
          "base_uri": "https://localhost:8080/"
        },
        "id": "TvJBv0gszdMI",
        "outputId": "c66e477a-a829-489d-df44-bc7609a4cdfd"
      },
      "id": "TvJBv0gszdMI",
      "execution_count": null,
      "outputs": [
        {
          "output_type": "execute_result",
          "data": {
            "text/plain": [
              "'!\"#$%&\\'()*+,-./:;<=>?@[\\\\]^_`{|}~'"
            ],
            "application/vnd.google.colaboratory.intrinsic+json": {
              "type": "string"
            }
          },
          "metadata": {},
          "execution_count": 34
        }
      ]
    },
    {
      "cell_type": "code",
      "source": [
        "stop_words=spacy.lang.fr.stop_words.STOP_WORDS\n",
        "\n",
        "# Create tokenizer function\n",
        "def spacy_tokenizer(sentence):\n",
        "    # Create token object, which is used to create documents with linguistic annotations.\n",
        "    mytokens = nlp(sentence)\n",
        "\n",
        "    # Lemmatize each token and convert each token into lowercase\n",
        "    mytokens = [ word.lemma_.lower().strip() for word in mytokens ]\n",
        "\n",
        "\n",
        "    # Remove stop words and punctuation\n",
        "    mytokens = [ word for word in mytokens if word not in stop_words and word not in punctuations ]\n",
        "\n",
        "    # Return preprocessed list of tokens\n",
        "    return mytokens"
      ],
      "metadata": {
        "id": "6eka6O7X0uRO"
      },
      "id": "6eka6O7X0uRO",
      "execution_count": null,
      "outputs": []
    },
    {
      "cell_type": "code",
      "source": [
        "from sklearn.feature_extraction.text import CountVectorizer, TfidfVectorizer\n",
        "tfidf_vector = TfidfVectorizer(tokenizer=spacy_tokenizer) # we use the above defined tokenizer"
      ],
      "metadata": {
        "id": "wzdI_mA-1xmB"
      },
      "id": "wzdI_mA-1xmB",
      "execution_count": null,
      "outputs": []
    },
    {
      "cell_type": "markdown",
      "metadata": {
        "id": "1ed9b8ac-ceff-49e6-8eba-75f4ebdca118"
      },
      "source": [
        "# 5. Classification Algorithms\n",
        "\n",
        "Dependent variable (y) is the column named \"difficulty\".\n",
        "<br>We split the data into 80% training and 20% test set.\n"
      ],
      "id": "1ed9b8ac-ceff-49e6-8eba-75f4ebdca118"
    },
    {
      "cell_type": "code",
      "source": [
        "y = df['difficulty']\n",
        "X = df[\"sentence\"]\n",
        "X_pred = df_pred[\"sentence\"]"
      ],
      "metadata": {
        "id": "_SuSQwepLpjG"
      },
      "id": "_SuSQwepLpjG",
      "execution_count": null,
      "outputs": []
    },
    {
      "cell_type": "markdown",
      "metadata": {
        "id": "851a232b-52ae-4fef-b899-f4fdc366ca40"
      },
      "source": [
        "### i. Logistic Regression.\n",
        "We use the following parameters for the LogisticRegressionCV():\n",
        "\n",
        "* cross-validation to 5 folds\n",
        "* maximum interation to 1000\n",
        "* random state to 0"
      ],
      "id": "851a232b-52ae-4fef-b899-f4fdc366ca40"
    },
    {
      "cell_type": "code",
      "source": [
        "from sklearn.feature_extraction.text import CountVectorizer, TfidfVectorizer\n",
        "from sklearn.linear_model import LogisticRegression, LogisticRegressionCV\n",
        "from sklearn.preprocessing import StandardScaler\n",
        "from sklearn.pipeline import Pipeline\n",
        "from sklearn.model_selection import train_test_split\n",
        "from sklearn.metrics import confusion_matrix, accuracy_score, precision_score, recall_score, f1_score"
      ],
      "metadata": {
        "id": "tkJ877iFyfro"
      },
      "id": "tkJ877iFyfro",
      "execution_count": null,
      "outputs": []
    },
    {
      "cell_type": "code",
      "source": [
        "np.random.seed = 0\n",
        "X_train, X_test, y_train, y_test = train_test_split(X, y, test_size=0.2, random_state=0)\n",
        "\n",
        "classifier = LogisticRegression()\n",
        "\n",
        "pl = Pipeline([('vectorizer', tfidf_vector),\n",
        "                 ('classifier', classifier)])\n",
        "\n",
        "pl.fit(X_train, y_train)"
      ],
      "metadata": {
        "id": "XoDPpHjGYb2L",
        "colab": {
          "base_uri": "https://localhost:8080/"
        },
        "outputId": "4e6baeae-0702-4c5e-9cab-d058d6e9949e"
      },
      "id": "XoDPpHjGYb2L",
      "execution_count": null,
      "outputs": [
        {
          "output_type": "execute_result",
          "data": {
            "text/plain": [
              "Pipeline(steps=[('vectorizer',\n",
              "                 TfidfVectorizer(tokenizer=<function spacy_tokenizer at 0x7f4fca98b9d0>)),\n",
              "                ('classifier', LogisticRegression())])"
            ]
          },
          "metadata": {},
          "execution_count": 39
        }
      ]
    },
    {
      "cell_type": "code",
      "source": [
        "def evaluate(true, pred):\n",
        "    precision = precision_score(true, pred,average='macro')\n",
        "    recall = recall_score(true, pred,average='macro')\n",
        "    f1 = f1_score(true, pred,average='macro')\n",
        "    print(f\"CONFUSION MATRIX:\\n{confusion_matrix(true, pred)}\")\n",
        "    print(f\"ACCURACY SCORE:\\n{accuracy_score(true, pred):.4f}\")\n",
        "    print(f\"CLASSIFICATION REPORT:\\n\\tPrecision: {precision:.4f}\\n\\tRecall: {recall:.4f}\\n\\tF1_Score: {f1:.4f}\")"
      ],
      "metadata": {
        "id": "nASQzP4h7iu1"
      },
      "id": "nASQzP4h7iu1",
      "execution_count": null,
      "outputs": []
    },
    {
      "cell_type": "code",
      "source": [
        "y_pred = pl.predict(X_test)\n",
        "\n",
        "evaluate(y_test, y_pred)"
      ],
      "metadata": {
        "colab": {
          "base_uri": "https://localhost:8080/"
        },
        "id": "T_tGXeW9ZbJe",
        "outputId": "9b8ecd7e-32db-47d0-d65e-463d7762cfc0"
      },
      "id": "T_tGXeW9ZbJe",
      "execution_count": null,
      "outputs": [
        {
          "output_type": "stream",
          "name": "stdout",
          "text": [
            "CONFUSION MATRIX:\n",
            "[[71 45 22  7  8  8]\n",
            " [44 54 31 13 12 10]\n",
            " [25 29 49 21 14 22]\n",
            " [10 11 16 56 25 26]\n",
            " [15  4 17 25 72 40]\n",
            " [ 7  6 12 23 31 79]]\n",
            "ACCURACY SCORE:\n",
            "0.3969\n",
            "CLASSIFICATION REPORT:\n",
            "\tPrecision: 0.3944\n",
            "\tRecall: 0.3969\n",
            "\tF1_Score: 0.3948\n"
          ]
        }
      ]
    },
    {
      "cell_type": "code",
      "source": [
        "predict = pl.predict(X_pred)"
      ],
      "metadata": {
        "id": "mkzoV43wUXg7"
      },
      "id": "mkzoV43wUXg7",
      "execution_count": null,
      "outputs": []
    },
    {
      "cell_type": "code",
      "source": [
        "submission= pd.DataFrame()\n",
        "submission['id']= df_pred.index\n",
        "submission['difficulty'] = predict"
      ],
      "metadata": {
        "id": "ATPRd253PKOi"
      },
      "id": "ATPRd253PKOi",
      "execution_count": null,
      "outputs": []
    },
    {
      "cell_type": "code",
      "source": [
        "submission.to_csv(\"submission.csv\", index=False)"
      ],
      "metadata": {
        "id": "e5Xw5TVOVcHH"
      },
      "id": "e5Xw5TVOVcHH",
      "execution_count": null,
      "outputs": []
    },
    {
      "cell_type": "markdown",
      "metadata": {
        "id": "e11dd429-ad14-423c-9259-c6a3ee7c0d14"
      },
      "source": [
        "### ii. kNNeighbours"
      ],
      "id": "e11dd429-ad14-423c-9259-c6a3ee7c0d14"
    },
    {
      "cell_type": "code",
      "execution_count": null,
      "metadata": {
        "id": "75f2e491-b232-4843-9c4a-605c8993ce66",
        "colab": {
          "base_uri": "https://localhost:8080/"
        },
        "outputId": "f35f8e4f-e76b-4458-ced8-f78dfe851e9c"
      },
      "outputs": [
        {
          "output_type": "stream",
          "name": "stdout",
          "text": [
            "Hyperparameters: {'n_neighbors': 91, 'p': 2, 'weights': 'distance'}\n"
          ]
        }
      ],
      "source": [
        "from sklearn.neighbors import KNeighborsClassifier\n",
        "from sklearn.model_selection import GridSearchCV\n",
        "\n",
        "grid = {'n_neighbors':np.arange(1,100),\n",
        "        'p':np.arange(1,3),\n",
        "        'weights':['uniform','distance']}\n",
        "\n",
        "knn = KNeighborsClassifier()\n",
        "classifier_knn = GridSearchCV(knn, grid, cv=5)\n",
        "\n",
        "pl_knn = Pipeline([('vectorizer', tfidf_vector),\n",
        "                 ('classifier', classifier_knn)])\n",
        "\n",
        "pl_knn.fit(X_train, y_train)\n",
        "\n",
        "print(\"Hyperparameters:\", classifier_knn.best_params_)"
      ],
      "id": "75f2e491-b232-4843-9c4a-605c8993ce66"
    },
    {
      "cell_type": "code",
      "execution_count": null,
      "metadata": {
        "id": "ed483f3e-f0e5-413b-bd2c-872ce23ef324",
        "colab": {
          "base_uri": "https://localhost:8080/"
        },
        "outputId": "5e0fa47b-b223-4f9f-9db9-b1ca8e6d4e13"
      },
      "outputs": [
        {
          "output_type": "stream",
          "name": "stdout",
          "text": [
            "CONFUSION MATRIX:\n",
            "[[131   2   1   0  22   5]\n",
            " [132   6   5   0  14   7]\n",
            " [121   5  13   1  10  10]\n",
            " [ 91   0   7   2  24  20]\n",
            " [110   1   5   2  30  25]\n",
            " [104   0   7   2  11  34]]\n",
            "ACCURACY SCORE:\n",
            "0.2250\n",
            "CLASSIFICATION REPORT:\n",
            "\tPrecision: 0.3089\n",
            "\tRecall: 0.2223\n",
            "\tF1_Score: 0.1679\n"
          ]
        }
      ],
      "source": [
        "y_knn_predict = pl_knn.predict(X_test)\n",
        "evaluate(y_test, y_knn_predict)"
      ],
      "id": "ed483f3e-f0e5-413b-bd2c-872ce23ef324"
    },
    {
      "cell_type": "code",
      "source": [
        "knn_predict = pl_knn.predict(X_pred)\n",
        "submission_knn= pd.DataFrame()\n",
        "submission_knn['id']= df_pred.index\n",
        "submission_knn['difficulty'] = knn_predict\n",
        "submission_knn.to_csv(\"submissionknn.csv\", index=False)"
      ],
      "metadata": {
        "id": "_CtTVrqAbjZu"
      },
      "id": "_CtTVrqAbjZu",
      "execution_count": null,
      "outputs": []
    },
    {
      "cell_type": "markdown",
      "metadata": {
        "id": "303c76ba-3145-44cc-8bf2-b3126a7e8d1e"
      },
      "source": [
        "###  iii. Decision Trees"
      ],
      "id": "303c76ba-3145-44cc-8bf2-b3126a7e8d1e"
    },
    {
      "cell_type": "code",
      "execution_count": null,
      "metadata": {
        "id": "671ccc9f-8938-455f-a81c-32e0f72eae3a",
        "colab": {
          "base_uri": "https://localhost:8080/"
        },
        "outputId": "dd44ce95-51c8-49cd-dbb9-feeeaef9487c"
      },
      "outputs": [
        {
          "output_type": "stream",
          "name": "stdout",
          "text": [
            "CONFUSION MATRIX:\n",
            "[[90 40 25  3  2  1]\n",
            " [63 60 29  7  2  3]\n",
            " [38 40 47 16  8 11]\n",
            " [21 20 29 31 14 29]\n",
            " [23 17 29 28 41 35]\n",
            " [24 18 17 30 25 44]]\n",
            "ACCURACY SCORE:\n",
            "0.3260\n",
            "CLASSIFICATION REPORT:\n",
            "\tPrecision: 0.3325\n",
            "\tRecall: 0.3249\n",
            "\tF1_Score: 0.3174\n"
          ]
        }
      ],
      "source": [
        "from sklearn.tree import DecisionTreeClassifier\n",
        "\n",
        "dtc = DecisionTreeClassifier()\n",
        "pl_dtc = Pipeline([('vectorizer', tfidf_vector),\n",
        "                 ('classifier', dtc)])\n",
        "pl_dtc.fit(X_train, y_train)\n",
        "y_pred_dtc = pl_dtc.predict(X_test)\n",
        "\n",
        "evaluate(y_test, y_pred_dtc)"
      ],
      "id": "671ccc9f-8938-455f-a81c-32e0f72eae3a"
    },
    {
      "cell_type": "code",
      "source": [
        "dtc_predict = pl_dtc.predict(X_pred)\n",
        "submission_dtc= pd.DataFrame()\n",
        "submission_dtc['id']= df_pred.index\n",
        "submission_dtc['difficulty'] = dtc_predict\n",
        "submission_dtc.to_csv(\"submissiondtc.csv\", index=False)"
      ],
      "metadata": {
        "id": "fQtbzd0q72Ci"
      },
      "id": "fQtbzd0q72Ci",
      "execution_count": null,
      "outputs": []
    },
    {
      "cell_type": "markdown",
      "metadata": {
        "id": "c16f0415-3d38-4e34-9da0-72e9136a0275"
      },
      "source": [
        "### iv. Random Forest Model"
      ],
      "id": "c16f0415-3d38-4e34-9da0-72e9136a0275"
    },
    {
      "cell_type": "code",
      "execution_count": null,
      "metadata": {
        "id": "6c9cd5fd-8887-4620-b129-79b3d98a4985",
        "colab": {
          "base_uri": "https://localhost:8080/"
        },
        "outputId": "680295d0-83e5-4361-89b7-b3c876b5209b"
      },
      "outputs": [
        {
          "output_type": "stream",
          "name": "stdout",
          "text": [
            "CONFUSION MATRIX:\n",
            "[[111  31  14   3   1   1]\n",
            " [ 92  49  16   4   2   1]\n",
            " [ 50  40  44  13   5   8]\n",
            " [ 40  14  21  40   9  20]\n",
            " [ 44  13  17  29  49  21]\n",
            " [ 34   9  11  22  18  64]]\n",
            "ACCURACY SCORE:\n",
            "0.3719\n",
            "CLASSIFICATION REPORT:\n",
            "\tPrecision: 0.4119\n",
            "\tRecall: 0.3715\n",
            "\tF1_Score: 0.3664\n"
          ]
        }
      ],
      "source": [
        "from sklearn.ensemble import RandomForestClassifier\n",
        "rfc = RandomForestClassifier()\n",
        "pl_rfc = Pipeline([('vectorizer', tfidf_vector),\n",
        "                 ('classifier', rfc)])\n",
        "\n",
        "pl_rfc.fit(X_train, y_train)\n",
        "\n",
        "y_pred_rfc = pl_rfc.predict(X_test)\n",
        "\n",
        "evaluate(y_test, y_pred_rfc)"
      ],
      "id": "6c9cd5fd-8887-4620-b129-79b3d98a4985"
    },
    {
      "cell_type": "code",
      "source": [
        "rfc_predict = pl_rfc.predict(X_pred)\n",
        "submission_rfc= pd.DataFrame()\n",
        "submission_rfc['id']= df_pred.index\n",
        "submission_rfc['difficulty'] = rfc_predict\n",
        "submission_rfc.to_csv(\"submissionrfc.csv\", index=False)"
      ],
      "metadata": {
        "id": "zdpqS6XQ9Fka"
      },
      "id": "zdpqS6XQ9Fka",
      "execution_count": null,
      "outputs": []
    },
    {
      "cell_type": "markdown",
      "source": [
        "### v. Support Vector Classifier"
      ],
      "metadata": {
        "id": "t5cvCAopGqnu"
      },
      "id": "t5cvCAopGqnu"
    },
    {
      "cell_type": "code",
      "source": [
        "from sklearn.svm import SVC\n",
        "\n",
        "svc = SVC()\n",
        "pl_svc = Pipeline([('vectorizer', tfidf_vector),\n",
        "                 ('classifier', svc)])\n",
        "\n",
        "pl_svc.fit(X_train, y_train)\n",
        "\n",
        "y_pred_svc = pl_svc.predict(X_test)\n",
        "\n",
        "evaluate(y_test, y_pred_svc)"
      ],
      "metadata": {
        "id": "eGcgutdQHFPL",
        "colab": {
          "base_uri": "https://localhost:8080/"
        },
        "outputId": "39d89001-c81f-4126-ff59-b32f89b72b12"
      },
      "id": "eGcgutdQHFPL",
      "execution_count": null,
      "outputs": [
        {
          "output_type": "stream",
          "name": "stdout",
          "text": [
            "CONFUSION MATRIX:\n",
            "[[75 40 20 10  8  8]\n",
            " [47 51 34 11 11 10]\n",
            " [18 27 55 27 11 22]\n",
            " [ 6 11 11 70 17 29]\n",
            " [ 7  5 14 39 65 43]\n",
            " [ 7  5 10 27 27 82]]\n",
            "ACCURACY SCORE:\n",
            "0.4146\n",
            "CLASSIFICATION REPORT:\n",
            "\tPrecision: 0.4147\n",
            "\tRecall: 0.4169\n",
            "\tF1_Score: 0.4125\n"
          ]
        }
      ]
    },
    {
      "cell_type": "code",
      "source": [
        "svc_predict = pl_svc.predict(X_pred)\n",
        "submission_svc= pd.DataFrame()\n",
        "submission_svc['id']= df_pred.index\n",
        "submission_svc['difficulty'] = svc_predict\n",
        "submission_svc.to_csv(\"submissionsvc.csv\", index=False)"
      ],
      "metadata": {
        "id": "-1tqMhHUoOWT"
      },
      "id": "-1tqMhHUoOWT",
      "execution_count": null,
      "outputs": []
    },
    {
      "cell_type": "markdown",
      "source": [
        "###vi. AdaBoostClassifier"
      ],
      "metadata": {
        "id": "ONXQmeIaosS7"
      },
      "id": "ONXQmeIaosS7"
    },
    {
      "cell_type": "code",
      "source": [
        "from sklearn.ensemble import AdaBoostClassifier\n",
        "\n",
        "abc = AdaBoostClassifier()\n",
        "pl_abc = Pipeline([('vectorizer', tfidf_vector),\n",
        "                 ('classifier', abc)])\n",
        "\n",
        "pl_abc.fit(X_train, y_train)\n",
        "\n",
        "y_pred_abc = pl_abc.predict(X_test)\n",
        "\n",
        "evaluate(y_test, y_pred_abc)"
      ],
      "metadata": {
        "id": "WucIMtbKor2-",
        "colab": {
          "base_uri": "https://localhost:8080/"
        },
        "outputId": "1c6ef684-1952-4293-dbbb-a9e7ddeb1d84"
      },
      "id": "WucIMtbKor2-",
      "execution_count": null,
      "outputs": [
        {
          "output_type": "stream",
          "name": "stdout",
          "text": [
            "CONFUSION MATRIX:\n",
            "[[ 36  30  11  82   0   2]\n",
            " [ 25  42  23  72   1   1]\n",
            " [  7  24  17 106   0   6]\n",
            " [  2   9   2 125   2   4]\n",
            " [  2   8   7 133   5  18]\n",
            " [  3   6   2 120   3  24]]\n",
            "ACCURACY SCORE:\n",
            "0.2594\n",
            "CLASSIFICATION REPORT:\n",
            "\tPrecision: 0.3657\n",
            "\tRecall: 0.2725\n",
            "\tF1_Score: 0.2257\n"
          ]
        }
      ]
    },
    {
      "cell_type": "code",
      "source": [
        "from sklearn.neural_network import MLPClassifier\n",
        "\n",
        "mlpc = MLPClassifier()\n",
        "pl_mlpc = Pipeline([('vectorizer', tfidf_vector),\n",
        "                 ('classifier', mlpc)])\n",
        "\n",
        "pl_mlpc.fit(X_train, y_train)\n",
        "\n",
        "y_pred_mlpc = pl_mlpc.predict(X_test)\n",
        "\n",
        "evaluate(y_test, y_pred_mlpc)"
      ],
      "metadata": {
        "id": "utYUWabypc4e",
        "colab": {
          "base_uri": "https://localhost:8080/"
        },
        "outputId": "b74d3153-6df2-4310-9202-f0dff5d1b917"
      },
      "id": "utYUWabypc4e",
      "execution_count": null,
      "outputs": [
        {
          "output_type": "stream",
          "name": "stdout",
          "text": [
            "CONFUSION MATRIX:\n",
            "[[93 38 24  5  0  1]\n",
            " [64 53 33  6  4  4]\n",
            " [35 39 63  8  8  7]\n",
            " [19 19 35 46 12 13]\n",
            " [21 12 27 28 58 27]\n",
            " [20 14 22 23 24 55]]\n",
            "ACCURACY SCORE:\n",
            "0.3833\n",
            "CLASSIFICATION REPORT:\n",
            "\tPrecision: 0.4064\n",
            "\tRecall: 0.3829\n",
            "\tF1_Score: 0.3823\n"
          ]
        }
      ]
    },
    {
      "cell_type": "code",
      "source": [
        "mlpc_predict = pl_mlpc.predict(X_pred)\n",
        "submission_mlpc= pd.DataFrame()\n",
        "submission_mlpc['id']= df_pred.index\n",
        "submission_mlpc['difficulty'] = mlpc_predict\n",
        "submission_mlpc.to_csv(\"submissionmlpc.csv\", index=False)"
      ],
      "metadata": {
        "id": "YMpAdpswqa-a"
      },
      "id": "YMpAdpswqa-a",
      "execution_count": null,
      "outputs": []
    },
    {
      "cell_type": "markdown",
      "source": [
        "#6. Comparing the models"
      ],
      "metadata": {
        "id": "d1WnYdGa1W9r"
      },
      "id": "d1WnYdGa1W9r"
    },
    {
      "cell_type": "code",
      "source": [
        "import pandas as pd\n",
        "\n",
        "df_comparison = pd.DataFrame(columns=['Model_Name', 'Base_Rate', 'Precisions','Recall','F1-Score', 'Accuracy'])\n",
        "\n",
        "\n",
        "df_comparison['Model_Name'] = ['Logistic Reg', 'KNN', 'Tree', 'Random Forest', 'Support Vector', 'AdaBooster', 'MLPC']\n",
        "df_comparison['Base_Rate'] = ['0.1694', '0.1694', '0.1694', '0.1694', '0.1694', '0.1694', '0.1694']\n",
        "df_comparison['Precisions'] = ['0.3944', '0.3089', '0.3325','0.4119', '0.4147', '0.3657', '0.4064']\n",
        "df_comparison['Recall'] = ['0.3969', '0.2223', '0.3249','0.3715', '0.4169', '0.2725', '0.3829']\n",
        "df_comparison['F1-Score'] = ['0.3948', '0.1679', '0.3174','0.3664', '0.4125', '0.2257', '0.3823']\n",
        "df_comparison['Accuracy'] = ['0.3969', '0.2250', '0.3260','0.3719', '0.4146', '0.2594', '0.3833']\n",
        "\n",
        "\n",
        "df_comparison"
      ],
      "metadata": {
        "colab": {
          "base_uri": "https://localhost:8080/",
          "height": 269
        },
        "id": "BnIZVCmV1ZO1",
        "outputId": "ed2c138a-4779-4502-e1ee-b2ff79ae5d30"
      },
      "id": "BnIZVCmV1ZO1",
      "execution_count": 1,
      "outputs": [
        {
          "output_type": "execute_result",
          "data": {
            "text/plain": [
              "       Model_Name Base_Rate Precisions  Recall F1-Score Accuracy\n",
              "0    Logistic Reg    0.1694     0.3944  0.3969   0.3948   0.3969\n",
              "1             KNN    0.1694     0.3089  0.2223   0.1679   0.2250\n",
              "2            Tree    0.1694     0.3325  0.3249   0.3174   0.3260\n",
              "3   Random Forest    0.1694     0.4119  0.3715   0.3664   0.3719\n",
              "4  Support Vector    0.1694     0.4147  0.4169   0.4125   0.4146\n",
              "5      AdaBooster    0.1694     0.3657  0.2725   0.2257   0.2594\n",
              "6            MLPC    0.1694     0.4064  0.3829   0.3823   0.3833"
            ],
            "text/html": [
              "\n",
              "  <div id=\"df-722c54b2-004c-4087-a6eb-af05cfe80f14\">\n",
              "    <div class=\"colab-df-container\">\n",
              "      <div>\n",
              "<style scoped>\n",
              "    .dataframe tbody tr th:only-of-type {\n",
              "        vertical-align: middle;\n",
              "    }\n",
              "\n",
              "    .dataframe tbody tr th {\n",
              "        vertical-align: top;\n",
              "    }\n",
              "\n",
              "    .dataframe thead th {\n",
              "        text-align: right;\n",
              "    }\n",
              "</style>\n",
              "<table border=\"1\" class=\"dataframe\">\n",
              "  <thead>\n",
              "    <tr style=\"text-align: right;\">\n",
              "      <th></th>\n",
              "      <th>Model_Name</th>\n",
              "      <th>Base_Rate</th>\n",
              "      <th>Precisions</th>\n",
              "      <th>Recall</th>\n",
              "      <th>F1-Score</th>\n",
              "      <th>Accuracy</th>\n",
              "    </tr>\n",
              "  </thead>\n",
              "  <tbody>\n",
              "    <tr>\n",
              "      <th>0</th>\n",
              "      <td>Logistic Reg</td>\n",
              "      <td>0.1694</td>\n",
              "      <td>0.3944</td>\n",
              "      <td>0.3969</td>\n",
              "      <td>0.3948</td>\n",
              "      <td>0.3969</td>\n",
              "    </tr>\n",
              "    <tr>\n",
              "      <th>1</th>\n",
              "      <td>KNN</td>\n",
              "      <td>0.1694</td>\n",
              "      <td>0.3089</td>\n",
              "      <td>0.2223</td>\n",
              "      <td>0.1679</td>\n",
              "      <td>0.2250</td>\n",
              "    </tr>\n",
              "    <tr>\n",
              "      <th>2</th>\n",
              "      <td>Tree</td>\n",
              "      <td>0.1694</td>\n",
              "      <td>0.3325</td>\n",
              "      <td>0.3249</td>\n",
              "      <td>0.3174</td>\n",
              "      <td>0.3260</td>\n",
              "    </tr>\n",
              "    <tr>\n",
              "      <th>3</th>\n",
              "      <td>Random Forest</td>\n",
              "      <td>0.1694</td>\n",
              "      <td>0.4119</td>\n",
              "      <td>0.3715</td>\n",
              "      <td>0.3664</td>\n",
              "      <td>0.3719</td>\n",
              "    </tr>\n",
              "    <tr>\n",
              "      <th>4</th>\n",
              "      <td>Support Vector</td>\n",
              "      <td>0.1694</td>\n",
              "      <td>0.4147</td>\n",
              "      <td>0.4169</td>\n",
              "      <td>0.4125</td>\n",
              "      <td>0.4146</td>\n",
              "    </tr>\n",
              "    <tr>\n",
              "      <th>5</th>\n",
              "      <td>AdaBooster</td>\n",
              "      <td>0.1694</td>\n",
              "      <td>0.3657</td>\n",
              "      <td>0.2725</td>\n",
              "      <td>0.2257</td>\n",
              "      <td>0.2594</td>\n",
              "    </tr>\n",
              "    <tr>\n",
              "      <th>6</th>\n",
              "      <td>MLPC</td>\n",
              "      <td>0.1694</td>\n",
              "      <td>0.4064</td>\n",
              "      <td>0.3829</td>\n",
              "      <td>0.3823</td>\n",
              "      <td>0.3833</td>\n",
              "    </tr>\n",
              "  </tbody>\n",
              "</table>\n",
              "</div>\n",
              "      <button class=\"colab-df-convert\" onclick=\"convertToInteractive('df-722c54b2-004c-4087-a6eb-af05cfe80f14')\"\n",
              "              title=\"Convert this dataframe to an interactive table.\"\n",
              "              style=\"display:none;\">\n",
              "        \n",
              "  <svg xmlns=\"http://www.w3.org/2000/svg\" height=\"24px\"viewBox=\"0 0 24 24\"\n",
              "       width=\"24px\">\n",
              "    <path d=\"M0 0h24v24H0V0z\" fill=\"none\"/>\n",
              "    <path d=\"M18.56 5.44l.94 2.06.94-2.06 2.06-.94-2.06-.94-.94-2.06-.94 2.06-2.06.94zm-11 1L8.5 8.5l.94-2.06 2.06-.94-2.06-.94L8.5 2.5l-.94 2.06-2.06.94zm10 10l.94 2.06.94-2.06 2.06-.94-2.06-.94-.94-2.06-.94 2.06-2.06.94z\"/><path d=\"M17.41 7.96l-1.37-1.37c-.4-.4-.92-.59-1.43-.59-.52 0-1.04.2-1.43.59L10.3 9.45l-7.72 7.72c-.78.78-.78 2.05 0 2.83L4 21.41c.39.39.9.59 1.41.59.51 0 1.02-.2 1.41-.59l7.78-7.78 2.81-2.81c.8-.78.8-2.07 0-2.86zM5.41 20L4 18.59l7.72-7.72 1.47 1.35L5.41 20z\"/>\n",
              "  </svg>\n",
              "      </button>\n",
              "      \n",
              "  <style>\n",
              "    .colab-df-container {\n",
              "      display:flex;\n",
              "      flex-wrap:wrap;\n",
              "      gap: 12px;\n",
              "    }\n",
              "\n",
              "    .colab-df-convert {\n",
              "      background-color: #E8F0FE;\n",
              "      border: none;\n",
              "      border-radius: 50%;\n",
              "      cursor: pointer;\n",
              "      display: none;\n",
              "      fill: #1967D2;\n",
              "      height: 32px;\n",
              "      padding: 0 0 0 0;\n",
              "      width: 32px;\n",
              "    }\n",
              "\n",
              "    .colab-df-convert:hover {\n",
              "      background-color: #E2EBFA;\n",
              "      box-shadow: 0px 1px 2px rgba(60, 64, 67, 0.3), 0px 1px 3px 1px rgba(60, 64, 67, 0.15);\n",
              "      fill: #174EA6;\n",
              "    }\n",
              "\n",
              "    [theme=dark] .colab-df-convert {\n",
              "      background-color: #3B4455;\n",
              "      fill: #D2E3FC;\n",
              "    }\n",
              "\n",
              "    [theme=dark] .colab-df-convert:hover {\n",
              "      background-color: #434B5C;\n",
              "      box-shadow: 0px 1px 3px 1px rgba(0, 0, 0, 0.15);\n",
              "      filter: drop-shadow(0px 1px 2px rgba(0, 0, 0, 0.3));\n",
              "      fill: #FFFFFF;\n",
              "    }\n",
              "  </style>\n",
              "\n",
              "      <script>\n",
              "        const buttonEl =\n",
              "          document.querySelector('#df-722c54b2-004c-4087-a6eb-af05cfe80f14 button.colab-df-convert');\n",
              "        buttonEl.style.display =\n",
              "          google.colab.kernel.accessAllowed ? 'block' : 'none';\n",
              "\n",
              "        async function convertToInteractive(key) {\n",
              "          const element = document.querySelector('#df-722c54b2-004c-4087-a6eb-af05cfe80f14');\n",
              "          const dataTable =\n",
              "            await google.colab.kernel.invokeFunction('convertToInteractive',\n",
              "                                                     [key], {});\n",
              "          if (!dataTable) return;\n",
              "\n",
              "          const docLinkHtml = 'Like what you see? Visit the ' +\n",
              "            '<a target=\"_blank\" href=https://colab.research.google.com/notebooks/data_table.ipynb>data table notebook</a>'\n",
              "            + ' to learn more about interactive tables.';\n",
              "          element.innerHTML = '';\n",
              "          dataTable['output_type'] = 'display_data';\n",
              "          await google.colab.output.renderOutput(dataTable, element);\n",
              "          const docLink = document.createElement('div');\n",
              "          docLink.innerHTML = docLinkHtml;\n",
              "          element.appendChild(docLink);\n",
              "        }\n",
              "      </script>\n",
              "    </div>\n",
              "  </div>\n",
              "  "
            ]
          },
          "metadata": {},
          "execution_count": 1
        }
      ]
    }
  ],
  "metadata": {
    "colab": {
      "provenance": [],
      "collapsed_sections": [
        "2535074a-62bd-4200-bf54-cb4e1c5fe08d",
        "2b16163c-97fe-4498-9f17-43c9e006c052",
        "IpDCZoOFvcnf",
        "iS2IoZDpzang"
      ]
    },
    "kernelspec": {
      "display_name": "Python 3 (ipykernel)",
      "language": "python",
      "name": "python3"
    },
    "language_info": {
      "codemirror_mode": {
        "name": "ipython",
        "version": 3
      },
      "file_extension": ".py",
      "mimetype": "text/x-python",
      "name": "python",
      "nbconvert_exporter": "python",
      "pygments_lexer": "ipython3",
      "version": "3.9.12"
    }
  },
  "nbformat": 4,
  "nbformat_minor": 5
}