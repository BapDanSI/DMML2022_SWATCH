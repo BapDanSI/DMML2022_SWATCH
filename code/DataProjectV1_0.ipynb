{
  "cells": [
    {
      "cell_type": "markdown",
      "metadata": {
        "id": "9b95c744-4332-4dd3-84dd-150bb67b1e65"
      },
      "source": [
        "#DATAMINING PROJECT V1.0\n",
        "***From Baptiste Danichert & Ahmed Balibala***\n",
        "\n",
        "**Last update**: adding new models\n",
        "\n",
        "**Description:** You have noticed that to improve one’s skills in a new foreign language, it is important to read texts in that language. These texts have to be at the reader’s language level. However, it is difficult to find texts that are close to someone’s knowledge level (A1 to C2). You have decided to build a model for English speakers that predicts the difficulty of a French written text. This can be then used, e.g., in a recommendation system, to recommend texts, e.g, recent news articles that are appropriate for someone’s language level. If someone is at A1 French level, it is inappropriate to present a text at B2 level, as she won’t be able to understand it. Ideally, a text should have many known words and may have a few words that are unknown so that the person can improve.\n",
        "\n"
      ],
      "id": "9b95c744-4332-4dd3-84dd-150bb67b1e65"
    },
    {
      "cell_type": "markdown",
      "metadata": {
        "id": "2535074a-62bd-4200-bf54-cb4e1c5fe08d"
      },
      "source": [
        "# 1. Loading the training data"
      ],
      "id": "2535074a-62bd-4200-bf54-cb4e1c5fe08d"
    },
    {
      "cell_type": "code",
      "execution_count": null,
      "metadata": {
        "id": "efb00cef-ee9a-4f65-b26d-665a2af4a495"
      },
      "outputs": [],
      "source": [
        "import pandas as pd\n",
        "import numpy as np"
      ],
      "id": "efb00cef-ee9a-4f65-b26d-665a2af4a495"
    },
    {
      "cell_type": "code",
      "execution_count": null,
      "metadata": {
        "id": "c236a273-585d-4de2-bb3e-fd0388bd72e5"
      },
      "outputs": [],
      "source": [
        "df = pd.read_csv('https://raw.githubusercontent.com/BapDanSI/DataMiningProject/main/data/training_data.csv')\n",
        "df_pred = pd.read_csv('https://raw.githubusercontent.com/BapDanSI/DataMiningProject/main/data/unlabelled_test_data.csv')"
      ],
      "id": "c236a273-585d-4de2-bb3e-fd0388bd72e5"
    },
    {
      "cell_type": "code",
      "source": [
        "df_pred.head()"
      ],
      "metadata": {
        "colab": {
          "base_uri": "https://localhost:8080/"
        },
        "id": "aCb1V_K_J14M",
        "outputId": "dccb1a18-9c25-4d55-9634-a46485a0cf8a"
      },
      "id": "aCb1V_K_J14M",
      "execution_count": null,
      "outputs": [
        {
          "output_type": "execute_result",
          "data": {
            "text/plain": [
              "   id                                           sentence\n",
              "0   0  Nous dûmes nous excuser des propos que nous eû...\n",
              "1   1  Vous ne pouvez pas savoir le plaisir que j'ai ...\n",
              "2   2  Et, paradoxalement, boire froid n'est pas la b...\n",
              "3   3  Ce n'est pas étonnant, car c'est une saison my...\n",
              "4   4  Le corps de Golo lui-même, d'une essence aussi..."
            ],
            "text/html": [
              "\n",
              "  <div id=\"df-b5eeb5fa-dd34-43b2-bcf9-cb3d41837377\">\n",
              "    <div class=\"colab-df-container\">\n",
              "      <div>\n",
              "<style scoped>\n",
              "    .dataframe tbody tr th:only-of-type {\n",
              "        vertical-align: middle;\n",
              "    }\n",
              "\n",
              "    .dataframe tbody tr th {\n",
              "        vertical-align: top;\n",
              "    }\n",
              "\n",
              "    .dataframe thead th {\n",
              "        text-align: right;\n",
              "    }\n",
              "</style>\n",
              "<table border=\"1\" class=\"dataframe\">\n",
              "  <thead>\n",
              "    <tr style=\"text-align: right;\">\n",
              "      <th></th>\n",
              "      <th>id</th>\n",
              "      <th>sentence</th>\n",
              "    </tr>\n",
              "  </thead>\n",
              "  <tbody>\n",
              "    <tr>\n",
              "      <th>0</th>\n",
              "      <td>0</td>\n",
              "      <td>Nous dûmes nous excuser des propos que nous eû...</td>\n",
              "    </tr>\n",
              "    <tr>\n",
              "      <th>1</th>\n",
              "      <td>1</td>\n",
              "      <td>Vous ne pouvez pas savoir le plaisir que j'ai ...</td>\n",
              "    </tr>\n",
              "    <tr>\n",
              "      <th>2</th>\n",
              "      <td>2</td>\n",
              "      <td>Et, paradoxalement, boire froid n'est pas la b...</td>\n",
              "    </tr>\n",
              "    <tr>\n",
              "      <th>3</th>\n",
              "      <td>3</td>\n",
              "      <td>Ce n'est pas étonnant, car c'est une saison my...</td>\n",
              "    </tr>\n",
              "    <tr>\n",
              "      <th>4</th>\n",
              "      <td>4</td>\n",
              "      <td>Le corps de Golo lui-même, d'une essence aussi...</td>\n",
              "    </tr>\n",
              "  </tbody>\n",
              "</table>\n",
              "</div>\n",
              "      <button class=\"colab-df-convert\" onclick=\"convertToInteractive('df-b5eeb5fa-dd34-43b2-bcf9-cb3d41837377')\"\n",
              "              title=\"Convert this dataframe to an interactive table.\"\n",
              "              style=\"display:none;\">\n",
              "        \n",
              "  <svg xmlns=\"http://www.w3.org/2000/svg\" height=\"24px\"viewBox=\"0 0 24 24\"\n",
              "       width=\"24px\">\n",
              "    <path d=\"M0 0h24v24H0V0z\" fill=\"none\"/>\n",
              "    <path d=\"M18.56 5.44l.94 2.06.94-2.06 2.06-.94-2.06-.94-.94-2.06-.94 2.06-2.06.94zm-11 1L8.5 8.5l.94-2.06 2.06-.94-2.06-.94L8.5 2.5l-.94 2.06-2.06.94zm10 10l.94 2.06.94-2.06 2.06-.94-2.06-.94-.94-2.06-.94 2.06-2.06.94z\"/><path d=\"M17.41 7.96l-1.37-1.37c-.4-.4-.92-.59-1.43-.59-.52 0-1.04.2-1.43.59L10.3 9.45l-7.72 7.72c-.78.78-.78 2.05 0 2.83L4 21.41c.39.39.9.59 1.41.59.51 0 1.02-.2 1.41-.59l7.78-7.78 2.81-2.81c.8-.78.8-2.07 0-2.86zM5.41 20L4 18.59l7.72-7.72 1.47 1.35L5.41 20z\"/>\n",
              "  </svg>\n",
              "      </button>\n",
              "      \n",
              "  <style>\n",
              "    .colab-df-container {\n",
              "      display:flex;\n",
              "      flex-wrap:wrap;\n",
              "      gap: 12px;\n",
              "    }\n",
              "\n",
              "    .colab-df-convert {\n",
              "      background-color: #E8F0FE;\n",
              "      border: none;\n",
              "      border-radius: 50%;\n",
              "      cursor: pointer;\n",
              "      display: none;\n",
              "      fill: #1967D2;\n",
              "      height: 32px;\n",
              "      padding: 0 0 0 0;\n",
              "      width: 32px;\n",
              "    }\n",
              "\n",
              "    .colab-df-convert:hover {\n",
              "      background-color: #E2EBFA;\n",
              "      box-shadow: 0px 1px 2px rgba(60, 64, 67, 0.3), 0px 1px 3px 1px rgba(60, 64, 67, 0.15);\n",
              "      fill: #174EA6;\n",
              "    }\n",
              "\n",
              "    [theme=dark] .colab-df-convert {\n",
              "      background-color: #3B4455;\n",
              "      fill: #D2E3FC;\n",
              "    }\n",
              "\n",
              "    [theme=dark] .colab-df-convert:hover {\n",
              "      background-color: #434B5C;\n",
              "      box-shadow: 0px 1px 3px 1px rgba(0, 0, 0, 0.15);\n",
              "      filter: drop-shadow(0px 1px 2px rgba(0, 0, 0, 0.3));\n",
              "      fill: #FFFFFF;\n",
              "    }\n",
              "  </style>\n",
              "\n",
              "      <script>\n",
              "        const buttonEl =\n",
              "          document.querySelector('#df-b5eeb5fa-dd34-43b2-bcf9-cb3d41837377 button.colab-df-convert');\n",
              "        buttonEl.style.display =\n",
              "          google.colab.kernel.accessAllowed ? 'block' : 'none';\n",
              "\n",
              "        async function convertToInteractive(key) {\n",
              "          const element = document.querySelector('#df-b5eeb5fa-dd34-43b2-bcf9-cb3d41837377');\n",
              "          const dataTable =\n",
              "            await google.colab.kernel.invokeFunction('convertToInteractive',\n",
              "                                                     [key], {});\n",
              "          if (!dataTable) return;\n",
              "\n",
              "          const docLinkHtml = 'Like what you see? Visit the ' +\n",
              "            '<a target=\"_blank\" href=https://colab.research.google.com/notebooks/data_table.ipynb>data table notebook</a>'\n",
              "            + ' to learn more about interactive tables.';\n",
              "          element.innerHTML = '';\n",
              "          dataTable['output_type'] = 'display_data';\n",
              "          await google.colab.output.renderOutput(dataTable, element);\n",
              "          const docLink = document.createElement('div');\n",
              "          docLink.innerHTML = docLinkHtml;\n",
              "          element.appendChild(docLink);\n",
              "        }\n",
              "      </script>\n",
              "    </div>\n",
              "  </div>\n",
              "  "
            ]
          },
          "metadata": {},
          "execution_count": 3
        }
      ]
    },
    {
      "cell_type": "code",
      "source": [
        "df.head()"
      ],
      "metadata": {
        "colab": {
          "base_uri": "https://localhost:8080/"
        },
        "id": "tGnKB_yEJ7HD",
        "outputId": "e60fdce2-3492-4e5a-dc2e-c1c68b94e40a"
      },
      "id": "tGnKB_yEJ7HD",
      "execution_count": null,
      "outputs": [
        {
          "output_type": "execute_result",
          "data": {
            "text/plain": [
              "   id                                           sentence difficulty\n",
              "0   0  Les coûts kilométriques réels peuvent diverger...         C1\n",
              "1   1  Le bleu, c'est ma couleur préférée mais je n'a...         A1\n",
              "2   2  Le test de niveau en français est sur le site ...         A1\n",
              "3   3           Est-ce que ton mari est aussi de Boston?         A1\n",
              "4   4  Dans les écoles de commerce, dans les couloirs...         B1"
            ],
            "text/html": [
              "\n",
              "  <div id=\"df-2d02e347-015c-424d-8f66-b07a9b0e407a\">\n",
              "    <div class=\"colab-df-container\">\n",
              "      <div>\n",
              "<style scoped>\n",
              "    .dataframe tbody tr th:only-of-type {\n",
              "        vertical-align: middle;\n",
              "    }\n",
              "\n",
              "    .dataframe tbody tr th {\n",
              "        vertical-align: top;\n",
              "    }\n",
              "\n",
              "    .dataframe thead th {\n",
              "        text-align: right;\n",
              "    }\n",
              "</style>\n",
              "<table border=\"1\" class=\"dataframe\">\n",
              "  <thead>\n",
              "    <tr style=\"text-align: right;\">\n",
              "      <th></th>\n",
              "      <th>id</th>\n",
              "      <th>sentence</th>\n",
              "      <th>difficulty</th>\n",
              "    </tr>\n",
              "  </thead>\n",
              "  <tbody>\n",
              "    <tr>\n",
              "      <th>0</th>\n",
              "      <td>0</td>\n",
              "      <td>Les coûts kilométriques réels peuvent diverger...</td>\n",
              "      <td>C1</td>\n",
              "    </tr>\n",
              "    <tr>\n",
              "      <th>1</th>\n",
              "      <td>1</td>\n",
              "      <td>Le bleu, c'est ma couleur préférée mais je n'a...</td>\n",
              "      <td>A1</td>\n",
              "    </tr>\n",
              "    <tr>\n",
              "      <th>2</th>\n",
              "      <td>2</td>\n",
              "      <td>Le test de niveau en français est sur le site ...</td>\n",
              "      <td>A1</td>\n",
              "    </tr>\n",
              "    <tr>\n",
              "      <th>3</th>\n",
              "      <td>3</td>\n",
              "      <td>Est-ce que ton mari est aussi de Boston?</td>\n",
              "      <td>A1</td>\n",
              "    </tr>\n",
              "    <tr>\n",
              "      <th>4</th>\n",
              "      <td>4</td>\n",
              "      <td>Dans les écoles de commerce, dans les couloirs...</td>\n",
              "      <td>B1</td>\n",
              "    </tr>\n",
              "  </tbody>\n",
              "</table>\n",
              "</div>\n",
              "      <button class=\"colab-df-convert\" onclick=\"convertToInteractive('df-2d02e347-015c-424d-8f66-b07a9b0e407a')\"\n",
              "              title=\"Convert this dataframe to an interactive table.\"\n",
              "              style=\"display:none;\">\n",
              "        \n",
              "  <svg xmlns=\"http://www.w3.org/2000/svg\" height=\"24px\"viewBox=\"0 0 24 24\"\n",
              "       width=\"24px\">\n",
              "    <path d=\"M0 0h24v24H0V0z\" fill=\"none\"/>\n",
              "    <path d=\"M18.56 5.44l.94 2.06.94-2.06 2.06-.94-2.06-.94-.94-2.06-.94 2.06-2.06.94zm-11 1L8.5 8.5l.94-2.06 2.06-.94-2.06-.94L8.5 2.5l-.94 2.06-2.06.94zm10 10l.94 2.06.94-2.06 2.06-.94-2.06-.94-.94-2.06-.94 2.06-2.06.94z\"/><path d=\"M17.41 7.96l-1.37-1.37c-.4-.4-.92-.59-1.43-.59-.52 0-1.04.2-1.43.59L10.3 9.45l-7.72 7.72c-.78.78-.78 2.05 0 2.83L4 21.41c.39.39.9.59 1.41.59.51 0 1.02-.2 1.41-.59l7.78-7.78 2.81-2.81c.8-.78.8-2.07 0-2.86zM5.41 20L4 18.59l7.72-7.72 1.47 1.35L5.41 20z\"/>\n",
              "  </svg>\n",
              "      </button>\n",
              "      \n",
              "  <style>\n",
              "    .colab-df-container {\n",
              "      display:flex;\n",
              "      flex-wrap:wrap;\n",
              "      gap: 12px;\n",
              "    }\n",
              "\n",
              "    .colab-df-convert {\n",
              "      background-color: #E8F0FE;\n",
              "      border: none;\n",
              "      border-radius: 50%;\n",
              "      cursor: pointer;\n",
              "      display: none;\n",
              "      fill: #1967D2;\n",
              "      height: 32px;\n",
              "      padding: 0 0 0 0;\n",
              "      width: 32px;\n",
              "    }\n",
              "\n",
              "    .colab-df-convert:hover {\n",
              "      background-color: #E2EBFA;\n",
              "      box-shadow: 0px 1px 2px rgba(60, 64, 67, 0.3), 0px 1px 3px 1px rgba(60, 64, 67, 0.15);\n",
              "      fill: #174EA6;\n",
              "    }\n",
              "\n",
              "    [theme=dark] .colab-df-convert {\n",
              "      background-color: #3B4455;\n",
              "      fill: #D2E3FC;\n",
              "    }\n",
              "\n",
              "    [theme=dark] .colab-df-convert:hover {\n",
              "      background-color: #434B5C;\n",
              "      box-shadow: 0px 1px 3px 1px rgba(0, 0, 0, 0.15);\n",
              "      filter: drop-shadow(0px 1px 2px rgba(0, 0, 0, 0.3));\n",
              "      fill: #FFFFFF;\n",
              "    }\n",
              "  </style>\n",
              "\n",
              "      <script>\n",
              "        const buttonEl =\n",
              "          document.querySelector('#df-2d02e347-015c-424d-8f66-b07a9b0e407a button.colab-df-convert');\n",
              "        buttonEl.style.display =\n",
              "          google.colab.kernel.accessAllowed ? 'block' : 'none';\n",
              "\n",
              "        async function convertToInteractive(key) {\n",
              "          const element = document.querySelector('#df-2d02e347-015c-424d-8f66-b07a9b0e407a');\n",
              "          const dataTable =\n",
              "            await google.colab.kernel.invokeFunction('convertToInteractive',\n",
              "                                                     [key], {});\n",
              "          if (!dataTable) return;\n",
              "\n",
              "          const docLinkHtml = 'Like what you see? Visit the ' +\n",
              "            '<a target=\"_blank\" href=https://colab.research.google.com/notebooks/data_table.ipynb>data table notebook</a>'\n",
              "            + ' to learn more about interactive tables.';\n",
              "          element.innerHTML = '';\n",
              "          dataTable['output_type'] = 'display_data';\n",
              "          await google.colab.output.renderOutput(dataTable, element);\n",
              "          const docLink = document.createElement('div');\n",
              "          docLink.innerHTML = docLinkHtml;\n",
              "          element.appendChild(docLink);\n",
              "        }\n",
              "      </script>\n",
              "    </div>\n",
              "  </div>\n",
              "  "
            ]
          },
          "metadata": {},
          "execution_count": 4
        }
      ]
    },
    {
      "cell_type": "markdown",
      "metadata": {
        "id": "2b16163c-97fe-4498-9f17-43c9e006c052"
      },
      "source": [
        "# 2. Dataframe analysis\n"
      ],
      "id": "2b16163c-97fe-4498-9f17-43c9e006c052"
    },
    {
      "cell_type": "code",
      "execution_count": null,
      "metadata": {
        "colab": {
          "base_uri": "https://localhost:8080/"
        },
        "id": "2cd9a579-ea5a-4784-8618-db9c78da73d2",
        "outputId": "3bd1ec8f-8922-4d61-81d5-0343430e85c5"
      },
      "outputs": [
        {
          "output_type": "execute_result",
          "data": {
            "text/plain": [
              "(4800, 3)"
            ]
          },
          "metadata": {},
          "execution_count": 5
        }
      ],
      "source": [
        "df.shape"
      ],
      "id": "2cd9a579-ea5a-4784-8618-db9c78da73d2"
    },
    {
      "cell_type": "markdown",
      "metadata": {
        "id": "7855622d-9196-4b1f-9aa4-4655c6395ee7"
      },
      "source": [
        "-> 4800 rows and 2 columns (excluding first column \"id\")"
      ],
      "id": "7855622d-9196-4b1f-9aa4-4655c6395ee7"
    },
    {
      "cell_type": "code",
      "execution_count": null,
      "metadata": {
        "colab": {
          "base_uri": "https://localhost:8080/"
        },
        "id": "5431a208-4167-412d-a126-38e70c7eee7d",
        "outputId": "a9adaedc-d7a3-4fcf-806b-838018b571e5"
      },
      "outputs": [
        {
          "output_type": "execute_result",
          "data": {
            "text/plain": [
              "id            0\n",
              "sentence      0\n",
              "difficulty    0\n",
              "dtype: int64"
            ]
          },
          "metadata": {},
          "execution_count": 6
        }
      ],
      "source": [
        "df.isnull().sum()"
      ],
      "id": "5431a208-4167-412d-a126-38e70c7eee7d"
    },
    {
      "cell_type": "markdown",
      "metadata": {
        "id": "e2fece64-23ff-43a4-9232-9d8471470502"
      },
      "source": [
        "-> no NAs"
      ],
      "id": "e2fece64-23ff-43a4-9232-9d8471470502"
    },
    {
      "cell_type": "code",
      "execution_count": null,
      "metadata": {
        "colab": {
          "base_uri": "https://localhost:8080/"
        },
        "id": "103665f5-d9f3-449e-a976-02847f92adf2",
        "outputId": "f13c8bb2-c427-4f46-856e-0063e95f5be2"
      },
      "outputs": [
        {
          "output_type": "execute_result",
          "data": {
            "text/plain": [
              "False    4800\n",
              "dtype: int64"
            ]
          },
          "metadata": {},
          "execution_count": 7
        }
      ],
      "source": [
        "df.duplicated(subset=\"sentence\").value_counts()"
      ],
      "id": "103665f5-d9f3-449e-a976-02847f92adf2"
    },
    {
      "cell_type": "markdown",
      "metadata": {
        "id": "GmiS9BcW-nMD"
      },
      "source": [
        "-> no duplicate in the data"
      ],
      "id": "GmiS9BcW-nMD"
    },
    {
      "cell_type": "markdown",
      "source": [
        "#3.  Baseline"
      ],
      "metadata": {
        "id": "IpDCZoOFvcnf"
      },
      "id": "IpDCZoOFvcnf"
    },
    {
      "cell_type": "code",
      "source": [
        "np.random.seed = 0"
      ],
      "metadata": {
        "id": "ZmFYriXHOngk"
      },
      "id": "ZmFYriXHOngk",
      "execution_count": null,
      "outputs": []
    },
    {
      "cell_type": "code",
      "source": [
        "base_rate = max(df.value_counts('difficulty'))/df.shape[0]\n",
        "print('Base rate:', round(base_rate,4))"
      ],
      "metadata": {
        "colab": {
          "base_uri": "https://localhost:8080/"
        },
        "id": "QQKu9HnhvNLH",
        "outputId": "979dfb58-83b9-4682-a207-2a1b41645a17"
      },
      "id": "QQKu9HnhvNLH",
      "execution_count": null,
      "outputs": [
        {
          "output_type": "stream",
          "name": "stdout",
          "text": [
            "Base rate: 0.1694\n"
          ]
        }
      ]
    },
    {
      "cell_type": "markdown",
      "metadata": {
        "id": "1ed9b8ac-ceff-49e6-8eba-75f4ebdca118"
      },
      "source": [
        "# 4. Classification Algorithms\n",
        "\n",
        "Dependent variable (y) is the column named \"difficulty\".\n",
        "<br>We split the data into 80% training and 20% test set.\n"
      ],
      "id": "1ed9b8ac-ceff-49e6-8eba-75f4ebdca118"
    },
    {
      "cell_type": "code",
      "source": [
        "y = df['difficulty']\n",
        "X = df['sentence']\n",
        "X_pred = df_pred['sentence']"
      ],
      "metadata": {
        "id": "_SuSQwepLpjG"
      },
      "id": "_SuSQwepLpjG",
      "execution_count": null,
      "outputs": []
    },
    {
      "cell_type": "markdown",
      "metadata": {
        "id": "851a232b-52ae-4fef-b899-f4fdc366ca40"
      },
      "source": [
        "### i. Logistic Regression.\n",
        "We use the following parameters for the LogisticRegressionCV():\n",
        "\n",
        "* cross-validation to 5 folds\n",
        "* maximum interation to 1000\n",
        "* random state to 0"
      ],
      "id": "851a232b-52ae-4fef-b899-f4fdc366ca40"
    },
    {
      "cell_type": "code",
      "source": [
        "from sklearn.feature_extraction.text import CountVectorizer, TfidfVectorizer\n",
        "from sklearn.linear_model import LogisticRegression, LogisticRegressionCV\n",
        "from sklearn.pipeline import Pipeline\n",
        "from sklearn.model_selection import train_test_split\n",
        "from sklearn.metrics import confusion_matrix, accuracy_score, precision_score, recall_score, f1_score"
      ],
      "metadata": {
        "id": "tkJ877iFyfro"
      },
      "id": "tkJ877iFyfro",
      "execution_count": null,
      "outputs": []
    },
    {
      "cell_type": "code",
      "source": [
        "tfidf = TfidfVectorizer(ngram_range=(1, 1))"
      ],
      "metadata": {
        "id": "RRlFzNyzyitq"
      },
      "id": "RRlFzNyzyitq",
      "execution_count": null,
      "outputs": []
    },
    {
      "cell_type": "code",
      "source": [
        "X_train, X_test, y_train, y_test = train_test_split(X, y, test_size=0.2, random_state=0)\n",
        "\n",
        "classifier = LogisticRegressionCV(solver='lbfgs', cv=5, max_iter=1000, random_state=0)\n",
        "pl = Pipeline([('vectorizer', tfidf),\n",
        "                 ('classifier', classifier)])\n",
        "pl.fit(X_train, y_train)"
      ],
      "metadata": {
        "colab": {
          "base_uri": "https://localhost:8080/"
        },
        "id": "J4RfJ_iZylZn",
        "outputId": "2e9e8849-7265-4f8b-ef82-35ce1e63a168"
      },
      "id": "J4RfJ_iZylZn",
      "execution_count": null,
      "outputs": [
        {
          "output_type": "execute_result",
          "data": {
            "text/plain": [
              "Pipeline(steps=[('vectorizer', TfidfVectorizer()),\n",
              "                ('classifier',\n",
              "                 LogisticRegressionCV(cv=5, max_iter=1000, random_state=0))])"
            ]
          },
          "metadata": {},
          "execution_count": 13
        }
      ]
    },
    {
      "cell_type": "code",
      "source": [
        "def evaluate(true, pred):\n",
        "    precision = precision_score(true, pred,average='macro')\n",
        "    recall = recall_score(true, pred,average='macro')\n",
        "    f1 = f1_score(true, pred,average='macro')\n",
        "    print(f\"CONFUSION MATRIX:\\n{confusion_matrix(true, pred)}\")\n",
        "    print(f\"ACCURACY SCORE:\\n{accuracy_score(true, pred):.4f}\")\n",
        "    print(f\"CLASSIFICATION REPORT:\\n\\tPrecision: {precision:.4f}\\n\\tRecall: {recall:.4f}\\n\\tF1_Score: {f1:.4f}\")"
      ],
      "metadata": {
        "id": "INIElRiHz0UX"
      },
      "id": "INIElRiHz0UX",
      "execution_count": null,
      "outputs": []
    },
    {
      "cell_type": "code",
      "source": [
        "y_pred = pl.predict(X_test)\n",
        "evaluate(y_test, y_pred)"
      ],
      "metadata": {
        "colab": {
          "base_uri": "https://localhost:8080/"
        },
        "id": "Sy_GwZGjz2Gd",
        "outputId": "3f89445c-8118-4d64-e2e0-b102afc7b17c"
      },
      "id": "Sy_GwZGjz2Gd",
      "execution_count": null,
      "outputs": [
        {
          "output_type": "stream",
          "name": "stdout",
          "text": [
            "CONFUSION MATRIX:\n",
            "[[91 34 20  9  4  3]\n",
            " [50 62 34  3  5 10]\n",
            " [12 35 72 14  7 20]\n",
            " [ 6  6 18 67 24 23]\n",
            " [ 3  5 13 40 65 47]\n",
            " [ 7  6  9 16 23 97]]\n",
            "ACCURACY SCORE:\n",
            "0.4729\n",
            "CLASSIFICATION REPORT:\n",
            "\tPrecision: 0.4723\n",
            "\tRecall: 0.4747\n",
            "\tF1_Score: 0.4703\n"
          ]
        }
      ]
    },
    {
      "cell_type": "code",
      "source": [
        "predict = pl.predict(X_pred)"
      ],
      "metadata": {
        "id": "mkzoV43wUXg7"
      },
      "id": "mkzoV43wUXg7",
      "execution_count": null,
      "outputs": []
    },
    {
      "cell_type": "code",
      "source": [
        "submission= pd.DataFrame()\n",
        "submission['id']= df_pred.index\n",
        "submission['difficulty'] = predict"
      ],
      "metadata": {
        "id": "ATPRd253PKOi"
      },
      "id": "ATPRd253PKOi",
      "execution_count": null,
      "outputs": []
    },
    {
      "cell_type": "code",
      "source": [
        "submission.to_csv(\"submission.csv\", index=False)"
      ],
      "metadata": {
        "id": "e5Xw5TVOVcHH"
      },
      "id": "e5Xw5TVOVcHH",
      "execution_count": null,
      "outputs": []
    },
    {
      "cell_type": "markdown",
      "metadata": {
        "id": "e11dd429-ad14-423c-9259-c6a3ee7c0d14"
      },
      "source": [
        "### ii. kNNeighbours"
      ],
      "id": "e11dd429-ad14-423c-9259-c6a3ee7c0d14"
    },
    {
      "cell_type": "code",
      "execution_count": null,
      "metadata": {
        "colab": {
          "base_uri": "https://localhost:8080/"
        },
        "id": "75f2e491-b232-4843-9c4a-605c8993ce66",
        "outputId": "75a3fe97-32bb-4be3-89c6-40c4f0af0fcc"
      },
      "outputs": [
        {
          "output_type": "stream",
          "name": "stdout",
          "text": [
            "Hyperparameters: {'n_neighbors': 63, 'p': 2, 'weights': 'distance'}\n"
          ]
        }
      ],
      "source": [
        "from sklearn.neighbors import KNeighborsClassifier\n",
        "from sklearn.model_selection import GridSearchCV\n",
        "\n",
        "grid = {'n_neighbors':np.arange(1,100),\n",
        "        'p':np.arange(1,3),\n",
        "        'weights':['uniform','distance']}\n",
        "\n",
        "knn = KNeighborsClassifier()\n",
        "classifier_knn = GridSearchCV(knn, grid, cv=5)\n",
        "\n",
        "pl_knn = Pipeline([('vectorizer', tfidf),\n",
        "                 ('classifier', classifier_knn)])\n",
        "\n",
        "pl_knn.fit(X_train, y_train)\n",
        "\n",
        "print(\"Hyperparameters:\", classifier_knn.best_params_)"
      ],
      "id": "75f2e491-b232-4843-9c4a-605c8993ce66"
    },
    {
      "cell_type": "code",
      "execution_count": null,
      "metadata": {
        "id": "ed483f3e-f0e5-413b-bd2c-872ce23ef324",
        "colab": {
          "base_uri": "https://localhost:8080/"
        },
        "outputId": "5840db2b-fb51-441c-db46-4b20b53e3560"
      },
      "outputs": [
        {
          "output_type": "stream",
          "name": "stdout",
          "text": [
            "CONFUSION MATRIX:\n",
            "[[105  36  13   0   1   6]\n",
            " [ 83  59  19   0   0   3]\n",
            " [ 60  48  37   3   1  11]\n",
            " [ 18  24  22  32  12  36]\n",
            " [ 14  19  29  22  20  69]\n",
            " [ 18  20  10  10   7  93]]\n",
            "ACCURACY SCORE:\n",
            "0.3604\n",
            "CLASSIFICATION REPORT:\n",
            "\tPrecision: 0.3859\n",
            "\tRecall: 0.3616\n",
            "\tF1_Score: 0.3361\n"
          ]
        }
      ],
      "source": [
        "y_knn_predict = pl_knn.predict(X_test)\n",
        "evaluate(y_test, y_knn_predict)"
      ],
      "id": "ed483f3e-f0e5-413b-bd2c-872ce23ef324"
    },
    {
      "cell_type": "code",
      "source": [
        "knn_predict = pl_knn.predict(X_pred)\n",
        "submission_knn= pd.DataFrame()\n",
        "submission_knn['id']= df_pred.index\n",
        "submission_knn['difficulty'] = knn_predict\n",
        "submission_knn.to_csv(\"submissionknn.csv\", index=False)"
      ],
      "metadata": {
        "id": "_CtTVrqAbjZu"
      },
      "id": "_CtTVrqAbjZu",
      "execution_count": null,
      "outputs": []
    },
    {
      "cell_type": "markdown",
      "metadata": {
        "id": "303c76ba-3145-44cc-8bf2-b3126a7e8d1e"
      },
      "source": [
        "###  iii. Decision Trees"
      ],
      "id": "303c76ba-3145-44cc-8bf2-b3126a7e8d1e"
    },
    {
      "cell_type": "code",
      "execution_count": null,
      "metadata": {
        "id": "671ccc9f-8938-455f-a81c-32e0f72eae3a",
        "colab": {
          "base_uri": "https://localhost:8080/"
        },
        "outputId": "98b34af0-fe3d-4ec4-c199-9fe59fe4d08b"
      },
      "outputs": [
        {
          "output_type": "stream",
          "name": "stdout",
          "text": [
            "CONFUSION MATRIX:\n",
            "[[79 34 28  9  6  5]\n",
            " [46 57 35 16  4  6]\n",
            " [29 42 36 20 16 17]\n",
            " [ 9 17 30 42 26 20]\n",
            " [ 9 16 35 42 38 33]\n",
            " [11 10 30 37 33 37]]\n",
            "ACCURACY SCORE:\n",
            "0.3010\n",
            "CLASSIFICATION REPORT:\n",
            "\tPrecision: 0.3028\n",
            "\tRecall: 0.3015\n",
            "\tF1_Score: 0.2990\n"
          ]
        }
      ],
      "source": [
        "from sklearn.tree import DecisionTreeClassifier\n",
        "\n",
        "dtc = DecisionTreeClassifier()\n",
        "pl_dtc = Pipeline([('vectorizer', tfidf),\n",
        "                 ('classifier', dtc)])\n",
        "pl_dtc.fit(X_train, y_train)\n",
        "y_pred_dtc = pl_dtc.predict(X_test)\n",
        "\n",
        "evaluate(y_test, y_pred_dtc)"
      ],
      "id": "671ccc9f-8938-455f-a81c-32e0f72eae3a"
    },
    {
      "cell_type": "code",
      "source": [
        "dtc_predict = pl_dtc.predict(X_pred)\n",
        "submission_dtc= pd.DataFrame()\n",
        "submission_dtc['id']= df_pred.index\n",
        "submission_dtc['difficulty'] = dtc_predict\n",
        "submission_dtc.to_csv(\"submissiondtc.csv\", index=False)"
      ],
      "metadata": {
        "id": "fQtbzd0q72Ci"
      },
      "id": "fQtbzd0q72Ci",
      "execution_count": null,
      "outputs": []
    },
    {
      "cell_type": "markdown",
      "metadata": {
        "id": "c16f0415-3d38-4e34-9da0-72e9136a0275"
      },
      "source": [
        "### iv. Random Forest Model"
      ],
      "id": "c16f0415-3d38-4e34-9da0-72e9136a0275"
    },
    {
      "cell_type": "code",
      "execution_count": null,
      "metadata": {
        "id": "6c9cd5fd-8887-4620-b129-79b3d98a4985",
        "colab": {
          "base_uri": "https://localhost:8080/"
        },
        "outputId": "c798c61f-acb5-4c37-f697-58dcff091b83"
      },
      "outputs": [
        {
          "output_type": "stream",
          "name": "stdout",
          "text": [
            "CONFUSION MATRIX:\n",
            "[[129  15   9   5   2   1]\n",
            " [ 79  48  26   7   4   0]\n",
            " [ 41  37  52  16  11   3]\n",
            " [ 17  12  15  64  24  12]\n",
            " [ 18   8  26  50  47  24]\n",
            " [ 22   6  14  36  28  52]]\n",
            "ACCURACY SCORE:\n",
            "0.4083\n",
            "CLASSIFICATION REPORT:\n",
            "\tPrecision: 0.4164\n",
            "\tRecall: 0.4107\n",
            "\tF1_Score: 0.3944\n"
          ]
        }
      ],
      "source": [
        "from sklearn.ensemble import RandomForestClassifier\n",
        "rfc = RandomForestClassifier()\n",
        "pl_rfc = Pipeline([('vectorizer', tfidf),\n",
        "                 ('classifier', rfc)])\n",
        "\n",
        "pl_rfc.fit(X_train, y_train)\n",
        "\n",
        "y_pred_rfc = pl_rfc.predict(X_test)\n",
        "\n",
        "evaluate(y_test, y_pred_rfc)"
      ],
      "id": "6c9cd5fd-8887-4620-b129-79b3d98a4985"
    },
    {
      "cell_type": "code",
      "source": [
        "rfc_predict = pl_rfc.predict(X_pred)\n",
        "submission_rfc= pd.DataFrame()\n",
        "submission_rfc['id']= df_pred.index\n",
        "submission_rfc['difficulty'] = rfc_predict\n",
        "submission_rfc.to_csv(\"submissionrfc.csv\", index=False)"
      ],
      "metadata": {
        "id": "zdpqS6XQ9Fka"
      },
      "id": "zdpqS6XQ9Fka",
      "execution_count": null,
      "outputs": []
    },
    {
      "cell_type": "markdown",
      "source": [
        "### v. Support Vector Classifier"
      ],
      "metadata": {
        "id": "t5cvCAopGqnu"
      },
      "id": "t5cvCAopGqnu"
    },
    {
      "cell_type": "code",
      "source": [
        "from sklearn.svm import SVC\n",
        "\n",
        "svc = SVC()\n",
        "pl_svc = Pipeline([('vectorizer', tfidf),\n",
        "                 ('classifier', svc)])\n",
        "\n",
        "pl_svc.fit(X_train, y_train)\n",
        "\n",
        "y_pred_svc = pl_svc.predict(X_test)\n",
        "\n",
        "evaluate(y_test, y_pred_svc)"
      ],
      "metadata": {
        "colab": {
          "base_uri": "https://localhost:8080/"
        },
        "id": "eGcgutdQHFPL",
        "outputId": "f15c386c-d88e-4f3a-836f-654dd7d7aba7"
      },
      "id": "eGcgutdQHFPL",
      "execution_count": null,
      "outputs": [
        {
          "output_type": "stream",
          "name": "stdout",
          "text": [
            "CONFUSION MATRIX:\n",
            "[[89 30 25 13  3  1]\n",
            " [46 68 30  8  6  6]\n",
            " [ 9 38 68 21  9 15]\n",
            " [ 6  4 13 74 23 24]\n",
            " [ 2  2 16 52 63 38]\n",
            " [ 6  6  8 26 25 87]]\n",
            "ACCURACY SCORE:\n",
            "0.4677\n",
            "CLASSIFICATION REPORT:\n",
            "\tPrecision: 0.4711\n",
            "\tRecall: 0.4702\n",
            "\tF1_Score: 0.4671\n"
          ]
        }
      ]
    },
    {
      "cell_type": "code",
      "source": [
        "svc_predict = pl_svc.predict(X_pred)\n",
        "submission_svc= pd.DataFrame()\n",
        "submission_svc['id']= df_pred.index\n",
        "submission_svc['difficulty'] = svc_predict\n",
        "submission_svc.to_csv(\"submissionsvc.csv\", index=False)"
      ],
      "metadata": {
        "id": "-1tqMhHUoOWT"
      },
      "id": "-1tqMhHUoOWT",
      "execution_count": null,
      "outputs": []
    },
    {
      "cell_type": "markdown",
      "source": [
        "###vi. AdaBoostClassifier"
      ],
      "metadata": {
        "id": "ONXQmeIaosS7"
      },
      "id": "ONXQmeIaosS7"
    },
    {
      "cell_type": "code",
      "source": [
        "from sklearn.ensemble import AdaBoostClassifier\n",
        "\n",
        "abc = AdaBoostClassifier()\n",
        "pl_abc = Pipeline([('vectorizer', tfidf),\n",
        "                 ('classifier', abc)])\n",
        "\n",
        "pl_abc.fit(X_train, y_train)\n",
        "\n",
        "y_pred_abc = pl_abc.predict(X_test)\n",
        "\n",
        "evaluate(y_test, y_pred_abc)"
      ],
      "metadata": {
        "colab": {
          "base_uri": "https://localhost:8080/"
        },
        "id": "WucIMtbKor2-",
        "outputId": "72d6b791-2355-4ea8-d17c-bc6d950469ee"
      },
      "id": "WucIMtbKor2-",
      "execution_count": null,
      "outputs": [
        {
          "output_type": "stream",
          "name": "stdout",
          "text": [
            "CONFUSION MATRIX:\n",
            "[[69 50 18 21  1  2]\n",
            " [48 62 25 21  5  3]\n",
            " [22 45 40 27 22  4]\n",
            " [ 7 11  9 60 39 18]\n",
            " [ 5  8 23 54 66 17]\n",
            " [10  9 10 41 58 30]]\n",
            "ACCURACY SCORE:\n",
            "0.3406\n",
            "CLASSIFICATION REPORT:\n",
            "\tPrecision: 0.3504\n",
            "\tRecall: 0.3408\n",
            "\tF1_Score: 0.3353\n"
          ]
        }
      ]
    },
    {
      "cell_type": "markdown",
      "source": [
        "###vii. MLPC Classifier"
      ],
      "metadata": {
        "id": "hLqFrh6qQ6bT"
      },
      "id": "hLqFrh6qQ6bT"
    },
    {
      "cell_type": "code",
      "source": [
        "from sklearn.neural_network import MLPClassifier\n",
        "\n",
        "mlpc = MLPClassifier()\n",
        "pl_mlpc = Pipeline([('vectorizer', tfidf),\n",
        "                 ('classifier', mlpc)])\n",
        "\n",
        "pl_mlpc.fit(X_train, y_train)\n",
        "\n",
        "y_pred_mlpc = pl_mlpc.predict(X_test)\n",
        "\n",
        "evaluate(y_test, y_pred_mlpc)"
      ],
      "metadata": {
        "colab": {
          "base_uri": "https://localhost:8080/"
        },
        "id": "utYUWabypc4e",
        "outputId": "32177f4a-2e6e-4ca1-a28a-2924933a509f"
      },
      "id": "utYUWabypc4e",
      "execution_count": null,
      "outputs": [
        {
          "output_type": "stream",
          "name": "stdout",
          "text": [
            "CONFUSION MATRIX:\n",
            "[[93 47 17  2  0  2]\n",
            " [59 72 26  3  2  2]\n",
            " [19 41 74  8  5 13]\n",
            " [13 16 27 50 23 15]\n",
            " [10 17 15 40 60 31]\n",
            " [16 12 22 18 21 69]]\n",
            "ACCURACY SCORE:\n",
            "0.4354\n",
            "CLASSIFICATION REPORT:\n",
            "\tPrecision: 0.4466\n",
            "\tRecall: 0.4350\n",
            "\tF1_Score: 0.4336\n"
          ]
        }
      ]
    },
    {
      "cell_type": "code",
      "source": [
        "mlpc_predict = pl_mlpc.predict(X_pred)\n",
        "submission_mlpc= pd.DataFrame()\n",
        "submission_mlpc['id']= df_pred.index\n",
        "submission_mlpc['difficulty'] = mlpc_predict\n",
        "submission_mlpc.to_csv(\"submissionmlpc.csv\", index=False)"
      ],
      "metadata": {
        "id": "YMpAdpswqa-a"
      },
      "id": "YMpAdpswqa-a",
      "execution_count": null,
      "outputs": []
    },
    {
      "cell_type": "markdown",
      "source": [
        "#5. Comparing the models"
      ],
      "metadata": {
        "id": "ERtejfYon4Ds"
      },
      "id": "ERtejfYon4Ds"
    },
    {
      "cell_type": "code",
      "source": [
        "import pandas as pd\n",
        "\n",
        "df_comparison = pd.DataFrame(columns=['Model_Name', 'Base_Rate', 'Precisions','Recall','F1-Score', 'Accuracy'])\n",
        "\n",
        "\n",
        "df_comparison['Model_Name'] = ['Logistic Reg', 'KNN', 'Tree', 'Random Forest', 'Support Vector', 'AdaBooster', 'MLPC']\n",
        "df_comparison['Base_Rate'] = ['0.1694', '0.1694', '0.1694', '0.1694', '0.1694', '0.1694', '0.1694']\n",
        "df_comparison['Precisions'] = ['0.4723', '0.3859', '0.3028','0.4164', '0.4711', '0.3504', '0.4466']\n",
        "df_comparison['Recall'] = ['0.4747', '0.3616', '0.3015','0.4107', '0.4702', '0.3408', '0.4350']\n",
        "df_comparison['F1-Score'] = ['0.4703', '0.3361', '0.2990','0.3944', '0.4671', '0.3353', '0.4336']\n",
        "df_comparison['Accuracy'] = ['0.4729', '0.3604', '0.3010','0.4083', '0.4677', '0.3406', '0.4354']\n",
        "\n",
        "\n",
        "df_comparison"
      ],
      "metadata": {
        "colab": {
          "base_uri": "https://localhost:8080/",
          "height": 269
        },
        "id": "TygsNFITn3QJ",
        "outputId": "69da6ed0-f909-46dd-8892-e12543fcc5d0"
      },
      "id": "TygsNFITn3QJ",
      "execution_count": 1,
      "outputs": [
        {
          "output_type": "execute_result",
          "data": {
            "text/plain": [
              "       Model_Name Base_Rate Precisions  Recall F1-Score Accuracy\n",
              "0    Logistic Reg    0.1694     0.4723  0.4747   0.4703   0.4729\n",
              "1             KNN    0.1694     0.3859  0.3616   0.3361   0.3604\n",
              "2            Tree    0.1694     0.3028  0.3015   0.2990   0.3010\n",
              "3   Random Forest    0.1694     0.4164  0.4107   0.3944   0.4083\n",
              "4  Support Vector    0.1694     0.4711  0.4702   0.4671   0.4677\n",
              "5      AdaBooster    0.1694     0.3504  0.3408   0.3353   0.3406\n",
              "6            MLPC    0.1694     0.4466  0.4350   0.4336   0.4354"
            ],
            "text/html": [
              "\n",
              "  <div id=\"df-f59a791e-55d9-4074-a854-c3acf2898aa3\">\n",
              "    <div class=\"colab-df-container\">\n",
              "      <div>\n",
              "<style scoped>\n",
              "    .dataframe tbody tr th:only-of-type {\n",
              "        vertical-align: middle;\n",
              "    }\n",
              "\n",
              "    .dataframe tbody tr th {\n",
              "        vertical-align: top;\n",
              "    }\n",
              "\n",
              "    .dataframe thead th {\n",
              "        text-align: right;\n",
              "    }\n",
              "</style>\n",
              "<table border=\"1\" class=\"dataframe\">\n",
              "  <thead>\n",
              "    <tr style=\"text-align: right;\">\n",
              "      <th></th>\n",
              "      <th>Model_Name</th>\n",
              "      <th>Base_Rate</th>\n",
              "      <th>Precisions</th>\n",
              "      <th>Recall</th>\n",
              "      <th>F1-Score</th>\n",
              "      <th>Accuracy</th>\n",
              "    </tr>\n",
              "  </thead>\n",
              "  <tbody>\n",
              "    <tr>\n",
              "      <th>0</th>\n",
              "      <td>Logistic Reg</td>\n",
              "      <td>0.1694</td>\n",
              "      <td>0.4723</td>\n",
              "      <td>0.4747</td>\n",
              "      <td>0.4703</td>\n",
              "      <td>0.4729</td>\n",
              "    </tr>\n",
              "    <tr>\n",
              "      <th>1</th>\n",
              "      <td>KNN</td>\n",
              "      <td>0.1694</td>\n",
              "      <td>0.3859</td>\n",
              "      <td>0.3616</td>\n",
              "      <td>0.3361</td>\n",
              "      <td>0.3604</td>\n",
              "    </tr>\n",
              "    <tr>\n",
              "      <th>2</th>\n",
              "      <td>Tree</td>\n",
              "      <td>0.1694</td>\n",
              "      <td>0.3028</td>\n",
              "      <td>0.3015</td>\n",
              "      <td>0.2990</td>\n",
              "      <td>0.3010</td>\n",
              "    </tr>\n",
              "    <tr>\n",
              "      <th>3</th>\n",
              "      <td>Random Forest</td>\n",
              "      <td>0.1694</td>\n",
              "      <td>0.4164</td>\n",
              "      <td>0.4107</td>\n",
              "      <td>0.3944</td>\n",
              "      <td>0.4083</td>\n",
              "    </tr>\n",
              "    <tr>\n",
              "      <th>4</th>\n",
              "      <td>Support Vector</td>\n",
              "      <td>0.1694</td>\n",
              "      <td>0.4711</td>\n",
              "      <td>0.4702</td>\n",
              "      <td>0.4671</td>\n",
              "      <td>0.4677</td>\n",
              "    </tr>\n",
              "    <tr>\n",
              "      <th>5</th>\n",
              "      <td>AdaBooster</td>\n",
              "      <td>0.1694</td>\n",
              "      <td>0.3504</td>\n",
              "      <td>0.3408</td>\n",
              "      <td>0.3353</td>\n",
              "      <td>0.3406</td>\n",
              "    </tr>\n",
              "    <tr>\n",
              "      <th>6</th>\n",
              "      <td>MLPC</td>\n",
              "      <td>0.1694</td>\n",
              "      <td>0.4466</td>\n",
              "      <td>0.4350</td>\n",
              "      <td>0.4336</td>\n",
              "      <td>0.4354</td>\n",
              "    </tr>\n",
              "  </tbody>\n",
              "</table>\n",
              "</div>\n",
              "      <button class=\"colab-df-convert\" onclick=\"convertToInteractive('df-f59a791e-55d9-4074-a854-c3acf2898aa3')\"\n",
              "              title=\"Convert this dataframe to an interactive table.\"\n",
              "              style=\"display:none;\">\n",
              "        \n",
              "  <svg xmlns=\"http://www.w3.org/2000/svg\" height=\"24px\"viewBox=\"0 0 24 24\"\n",
              "       width=\"24px\">\n",
              "    <path d=\"M0 0h24v24H0V0z\" fill=\"none\"/>\n",
              "    <path d=\"M18.56 5.44l.94 2.06.94-2.06 2.06-.94-2.06-.94-.94-2.06-.94 2.06-2.06.94zm-11 1L8.5 8.5l.94-2.06 2.06-.94-2.06-.94L8.5 2.5l-.94 2.06-2.06.94zm10 10l.94 2.06.94-2.06 2.06-.94-2.06-.94-.94-2.06-.94 2.06-2.06.94z\"/><path d=\"M17.41 7.96l-1.37-1.37c-.4-.4-.92-.59-1.43-.59-.52 0-1.04.2-1.43.59L10.3 9.45l-7.72 7.72c-.78.78-.78 2.05 0 2.83L4 21.41c.39.39.9.59 1.41.59.51 0 1.02-.2 1.41-.59l7.78-7.78 2.81-2.81c.8-.78.8-2.07 0-2.86zM5.41 20L4 18.59l7.72-7.72 1.47 1.35L5.41 20z\"/>\n",
              "  </svg>\n",
              "      </button>\n",
              "      \n",
              "  <style>\n",
              "    .colab-df-container {\n",
              "      display:flex;\n",
              "      flex-wrap:wrap;\n",
              "      gap: 12px;\n",
              "    }\n",
              "\n",
              "    .colab-df-convert {\n",
              "      background-color: #E8F0FE;\n",
              "      border: none;\n",
              "      border-radius: 50%;\n",
              "      cursor: pointer;\n",
              "      display: none;\n",
              "      fill: #1967D2;\n",
              "      height: 32px;\n",
              "      padding: 0 0 0 0;\n",
              "      width: 32px;\n",
              "    }\n",
              "\n",
              "    .colab-df-convert:hover {\n",
              "      background-color: #E2EBFA;\n",
              "      box-shadow: 0px 1px 2px rgba(60, 64, 67, 0.3), 0px 1px 3px 1px rgba(60, 64, 67, 0.15);\n",
              "      fill: #174EA6;\n",
              "    }\n",
              "\n",
              "    [theme=dark] .colab-df-convert {\n",
              "      background-color: #3B4455;\n",
              "      fill: #D2E3FC;\n",
              "    }\n",
              "\n",
              "    [theme=dark] .colab-df-convert:hover {\n",
              "      background-color: #434B5C;\n",
              "      box-shadow: 0px 1px 3px 1px rgba(0, 0, 0, 0.15);\n",
              "      filter: drop-shadow(0px 1px 2px rgba(0, 0, 0, 0.3));\n",
              "      fill: #FFFFFF;\n",
              "    }\n",
              "  </style>\n",
              "\n",
              "      <script>\n",
              "        const buttonEl =\n",
              "          document.querySelector('#df-f59a791e-55d9-4074-a854-c3acf2898aa3 button.colab-df-convert');\n",
              "        buttonEl.style.display =\n",
              "          google.colab.kernel.accessAllowed ? 'block' : 'none';\n",
              "\n",
              "        async function convertToInteractive(key) {\n",
              "          const element = document.querySelector('#df-f59a791e-55d9-4074-a854-c3acf2898aa3');\n",
              "          const dataTable =\n",
              "            await google.colab.kernel.invokeFunction('convertToInteractive',\n",
              "                                                     [key], {});\n",
              "          if (!dataTable) return;\n",
              "\n",
              "          const docLinkHtml = 'Like what you see? Visit the ' +\n",
              "            '<a target=\"_blank\" href=https://colab.research.google.com/notebooks/data_table.ipynb>data table notebook</a>'\n",
              "            + ' to learn more about interactive tables.';\n",
              "          element.innerHTML = '';\n",
              "          dataTable['output_type'] = 'display_data';\n",
              "          await google.colab.output.renderOutput(dataTable, element);\n",
              "          const docLink = document.createElement('div');\n",
              "          docLink.innerHTML = docLinkHtml;\n",
              "          element.appendChild(docLink);\n",
              "        }\n",
              "      </script>\n",
              "    </div>\n",
              "  </div>\n",
              "  "
            ]
          },
          "metadata": {},
          "execution_count": 1
        }
      ]
    }
  ],
  "metadata": {
    "colab": {
      "provenance": [],
      "collapsed_sections": [
        "2535074a-62bd-4200-bf54-cb4e1c5fe08d",
        "2b16163c-97fe-4498-9f17-43c9e006c052",
        "IpDCZoOFvcnf"
      ]
    },
    "kernelspec": {
      "display_name": "Python 3 (ipykernel)",
      "language": "python",
      "name": "python3"
    },
    "language_info": {
      "codemirror_mode": {
        "name": "ipython",
        "version": 3
      },
      "file_extension": ".py",
      "mimetype": "text/x-python",
      "name": "python",
      "nbconvert_exporter": "python",
      "pygments_lexer": "ipython3",
      "version": "3.9.12"
    }
  },
  "nbformat": 4,
  "nbformat_minor": 5
}