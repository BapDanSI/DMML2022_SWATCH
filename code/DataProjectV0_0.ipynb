{
  "cells": [
    {
      "cell_type": "markdown",
      "metadata": {
        "id": "9b95c744-4332-4dd3-84dd-150bb67b1e65"
      },
      "source": [
        "#DATAMINING PROJECT\n",
        "***From Baptiste Danichert & Ahmed Abdel Aziz***\n",
        "\n",
        "**Last update**: 13.12.22\n",
        "\n",
        "**Description:** You have noticed that to improve one’s skills in a new foreign language, it is important to read texts in that language. These texts have to be at the reader’s language level. However, it is difficult to find texts that are close to someone’s knowledge level (A1 to C2). You have decided to build a model for English speakers that predicts the difficulty of a French written text. This can be then used, e.g., in a recommendation system, to recommend texts, e.g, recent news articles that are appropriate for someone’s language level. If someone is at A1 French level, it is inappropriate to present a text at B2 level, as she won’t be able to understand it. Ideally, a text should have many known words and may have a few words that are unknown so that the person can improve.\n",
        "\n"
      ],
      "id": "9b95c744-4332-4dd3-84dd-150bb67b1e65"
    },
    {
      "cell_type": "markdown",
      "metadata": {
        "id": "2535074a-62bd-4200-bf54-cb4e1c5fe08d"
      },
      "source": [
        "# 1. Loading the training data"
      ],
      "id": "2535074a-62bd-4200-bf54-cb4e1c5fe08d"
    },
    {
      "cell_type": "code",
      "execution_count": 2,
      "metadata": {
        "id": "efb00cef-ee9a-4f65-b26d-665a2af4a495"
      },
      "outputs": [],
      "source": [
        "import pandas as pd\n",
        "import numpy as np"
      ],
      "id": "efb00cef-ee9a-4f65-b26d-665a2af4a495"
    },
    {
      "cell_type": "code",
      "execution_count": 3,
      "metadata": {
        "id": "c236a273-585d-4de2-bb3e-fd0388bd72e5"
      },
      "outputs": [],
      "source": [
        "df = pd.read_csv('https://raw.githubusercontent.com/BapDanSI/DataMiningProject/main/data/training_data.csv')\n",
        "df_pred = pd.read_csv('https://raw.githubusercontent.com/BapDanSI/DataMiningProject/main/data/unlabelled_test_data.csv')"
      ],
      "id": "c236a273-585d-4de2-bb3e-fd0388bd72e5"
    },
    {
      "cell_type": "code",
      "execution_count": 4,
      "metadata": {
        "colab": {
          "base_uri": "https://localhost:8080/",
          "height": 0
        },
        "id": "aCb1V_K_J14M",
        "outputId": "c3a42092-f4ca-4ecb-b09b-3faa739facb7"
      },
      "outputs": [
        {
          "output_type": "execute_result",
          "data": {
            "text/plain": [
              "   id                                           sentence\n",
              "0   0  Nous dûmes nous excuser des propos que nous eû...\n",
              "1   1  Vous ne pouvez pas savoir le plaisir que j'ai ...\n",
              "2   2  Et, paradoxalement, boire froid n'est pas la b...\n",
              "3   3  Ce n'est pas étonnant, car c'est une saison my...\n",
              "4   4  Le corps de Golo lui-même, d'une essence aussi..."
            ],
            "text/html": [
              "\n",
              "  <div id=\"df-4b9284b6-d393-471e-98e4-f5ef74805e1e\">\n",
              "    <div class=\"colab-df-container\">\n",
              "      <div>\n",
              "<style scoped>\n",
              "    .dataframe tbody tr th:only-of-type {\n",
              "        vertical-align: middle;\n",
              "    }\n",
              "\n",
              "    .dataframe tbody tr th {\n",
              "        vertical-align: top;\n",
              "    }\n",
              "\n",
              "    .dataframe thead th {\n",
              "        text-align: right;\n",
              "    }\n",
              "</style>\n",
              "<table border=\"1\" class=\"dataframe\">\n",
              "  <thead>\n",
              "    <tr style=\"text-align: right;\">\n",
              "      <th></th>\n",
              "      <th>id</th>\n",
              "      <th>sentence</th>\n",
              "    </tr>\n",
              "  </thead>\n",
              "  <tbody>\n",
              "    <tr>\n",
              "      <th>0</th>\n",
              "      <td>0</td>\n",
              "      <td>Nous dûmes nous excuser des propos que nous eû...</td>\n",
              "    </tr>\n",
              "    <tr>\n",
              "      <th>1</th>\n",
              "      <td>1</td>\n",
              "      <td>Vous ne pouvez pas savoir le plaisir que j'ai ...</td>\n",
              "    </tr>\n",
              "    <tr>\n",
              "      <th>2</th>\n",
              "      <td>2</td>\n",
              "      <td>Et, paradoxalement, boire froid n'est pas la b...</td>\n",
              "    </tr>\n",
              "    <tr>\n",
              "      <th>3</th>\n",
              "      <td>3</td>\n",
              "      <td>Ce n'est pas étonnant, car c'est une saison my...</td>\n",
              "    </tr>\n",
              "    <tr>\n",
              "      <th>4</th>\n",
              "      <td>4</td>\n",
              "      <td>Le corps de Golo lui-même, d'une essence aussi...</td>\n",
              "    </tr>\n",
              "  </tbody>\n",
              "</table>\n",
              "</div>\n",
              "      <button class=\"colab-df-convert\" onclick=\"convertToInteractive('df-4b9284b6-d393-471e-98e4-f5ef74805e1e')\"\n",
              "              title=\"Convert this dataframe to an interactive table.\"\n",
              "              style=\"display:none;\">\n",
              "        \n",
              "  <svg xmlns=\"http://www.w3.org/2000/svg\" height=\"24px\"viewBox=\"0 0 24 24\"\n",
              "       width=\"24px\">\n",
              "    <path d=\"M0 0h24v24H0V0z\" fill=\"none\"/>\n",
              "    <path d=\"M18.56 5.44l.94 2.06.94-2.06 2.06-.94-2.06-.94-.94-2.06-.94 2.06-2.06.94zm-11 1L8.5 8.5l.94-2.06 2.06-.94-2.06-.94L8.5 2.5l-.94 2.06-2.06.94zm10 10l.94 2.06.94-2.06 2.06-.94-2.06-.94-.94-2.06-.94 2.06-2.06.94z\"/><path d=\"M17.41 7.96l-1.37-1.37c-.4-.4-.92-.59-1.43-.59-.52 0-1.04.2-1.43.59L10.3 9.45l-7.72 7.72c-.78.78-.78 2.05 0 2.83L4 21.41c.39.39.9.59 1.41.59.51 0 1.02-.2 1.41-.59l7.78-7.78 2.81-2.81c.8-.78.8-2.07 0-2.86zM5.41 20L4 18.59l7.72-7.72 1.47 1.35L5.41 20z\"/>\n",
              "  </svg>\n",
              "      </button>\n",
              "      \n",
              "  <style>\n",
              "    .colab-df-container {\n",
              "      display:flex;\n",
              "      flex-wrap:wrap;\n",
              "      gap: 12px;\n",
              "    }\n",
              "\n",
              "    .colab-df-convert {\n",
              "      background-color: #E8F0FE;\n",
              "      border: none;\n",
              "      border-radius: 50%;\n",
              "      cursor: pointer;\n",
              "      display: none;\n",
              "      fill: #1967D2;\n",
              "      height: 32px;\n",
              "      padding: 0 0 0 0;\n",
              "      width: 32px;\n",
              "    }\n",
              "\n",
              "    .colab-df-convert:hover {\n",
              "      background-color: #E2EBFA;\n",
              "      box-shadow: 0px 1px 2px rgba(60, 64, 67, 0.3), 0px 1px 3px 1px rgba(60, 64, 67, 0.15);\n",
              "      fill: #174EA6;\n",
              "    }\n",
              "\n",
              "    [theme=dark] .colab-df-convert {\n",
              "      background-color: #3B4455;\n",
              "      fill: #D2E3FC;\n",
              "    }\n",
              "\n",
              "    [theme=dark] .colab-df-convert:hover {\n",
              "      background-color: #434B5C;\n",
              "      box-shadow: 0px 1px 3px 1px rgba(0, 0, 0, 0.15);\n",
              "      filter: drop-shadow(0px 1px 2px rgba(0, 0, 0, 0.3));\n",
              "      fill: #FFFFFF;\n",
              "    }\n",
              "  </style>\n",
              "\n",
              "      <script>\n",
              "        const buttonEl =\n",
              "          document.querySelector('#df-4b9284b6-d393-471e-98e4-f5ef74805e1e button.colab-df-convert');\n",
              "        buttonEl.style.display =\n",
              "          google.colab.kernel.accessAllowed ? 'block' : 'none';\n",
              "\n",
              "        async function convertToInteractive(key) {\n",
              "          const element = document.querySelector('#df-4b9284b6-d393-471e-98e4-f5ef74805e1e');\n",
              "          const dataTable =\n",
              "            await google.colab.kernel.invokeFunction('convertToInteractive',\n",
              "                                                     [key], {});\n",
              "          if (!dataTable) return;\n",
              "\n",
              "          const docLinkHtml = 'Like what you see? Visit the ' +\n",
              "            '<a target=\"_blank\" href=https://colab.research.google.com/notebooks/data_table.ipynb>data table notebook</a>'\n",
              "            + ' to learn more about interactive tables.';\n",
              "          element.innerHTML = '';\n",
              "          dataTable['output_type'] = 'display_data';\n",
              "          await google.colab.output.renderOutput(dataTable, element);\n",
              "          const docLink = document.createElement('div');\n",
              "          docLink.innerHTML = docLinkHtml;\n",
              "          element.appendChild(docLink);\n",
              "        }\n",
              "      </script>\n",
              "    </div>\n",
              "  </div>\n",
              "  "
            ]
          },
          "metadata": {},
          "execution_count": 4
        }
      ],
      "source": [
        "df_pred.head()"
      ],
      "id": "aCb1V_K_J14M"
    },
    {
      "cell_type": "code",
      "execution_count": 5,
      "metadata": {
        "colab": {
          "base_uri": "https://localhost:8080/",
          "height": 0
        },
        "id": "tGnKB_yEJ7HD",
        "outputId": "7263f6a5-503f-4af7-b725-483a1e869b01"
      },
      "outputs": [
        {
          "output_type": "execute_result",
          "data": {
            "text/plain": [
              "   id                                           sentence difficulty\n",
              "0   0  Les coûts kilométriques réels peuvent diverger...         C1\n",
              "1   1  Le bleu, c'est ma couleur préférée mais je n'a...         A1\n",
              "2   2  Le test de niveau en français est sur le site ...         A1\n",
              "3   3           Est-ce que ton mari est aussi de Boston?         A1\n",
              "4   4  Dans les écoles de commerce, dans les couloirs...         B1"
            ],
            "text/html": [
              "\n",
              "  <div id=\"df-1cb2b53f-8493-4e94-93b7-a6f79759fd8c\">\n",
              "    <div class=\"colab-df-container\">\n",
              "      <div>\n",
              "<style scoped>\n",
              "    .dataframe tbody tr th:only-of-type {\n",
              "        vertical-align: middle;\n",
              "    }\n",
              "\n",
              "    .dataframe tbody tr th {\n",
              "        vertical-align: top;\n",
              "    }\n",
              "\n",
              "    .dataframe thead th {\n",
              "        text-align: right;\n",
              "    }\n",
              "</style>\n",
              "<table border=\"1\" class=\"dataframe\">\n",
              "  <thead>\n",
              "    <tr style=\"text-align: right;\">\n",
              "      <th></th>\n",
              "      <th>id</th>\n",
              "      <th>sentence</th>\n",
              "      <th>difficulty</th>\n",
              "    </tr>\n",
              "  </thead>\n",
              "  <tbody>\n",
              "    <tr>\n",
              "      <th>0</th>\n",
              "      <td>0</td>\n",
              "      <td>Les coûts kilométriques réels peuvent diverger...</td>\n",
              "      <td>C1</td>\n",
              "    </tr>\n",
              "    <tr>\n",
              "      <th>1</th>\n",
              "      <td>1</td>\n",
              "      <td>Le bleu, c'est ma couleur préférée mais je n'a...</td>\n",
              "      <td>A1</td>\n",
              "    </tr>\n",
              "    <tr>\n",
              "      <th>2</th>\n",
              "      <td>2</td>\n",
              "      <td>Le test de niveau en français est sur le site ...</td>\n",
              "      <td>A1</td>\n",
              "    </tr>\n",
              "    <tr>\n",
              "      <th>3</th>\n",
              "      <td>3</td>\n",
              "      <td>Est-ce que ton mari est aussi de Boston?</td>\n",
              "      <td>A1</td>\n",
              "    </tr>\n",
              "    <tr>\n",
              "      <th>4</th>\n",
              "      <td>4</td>\n",
              "      <td>Dans les écoles de commerce, dans les couloirs...</td>\n",
              "      <td>B1</td>\n",
              "    </tr>\n",
              "  </tbody>\n",
              "</table>\n",
              "</div>\n",
              "      <button class=\"colab-df-convert\" onclick=\"convertToInteractive('df-1cb2b53f-8493-4e94-93b7-a6f79759fd8c')\"\n",
              "              title=\"Convert this dataframe to an interactive table.\"\n",
              "              style=\"display:none;\">\n",
              "        \n",
              "  <svg xmlns=\"http://www.w3.org/2000/svg\" height=\"24px\"viewBox=\"0 0 24 24\"\n",
              "       width=\"24px\">\n",
              "    <path d=\"M0 0h24v24H0V0z\" fill=\"none\"/>\n",
              "    <path d=\"M18.56 5.44l.94 2.06.94-2.06 2.06-.94-2.06-.94-.94-2.06-.94 2.06-2.06.94zm-11 1L8.5 8.5l.94-2.06 2.06-.94-2.06-.94L8.5 2.5l-.94 2.06-2.06.94zm10 10l.94 2.06.94-2.06 2.06-.94-2.06-.94-.94-2.06-.94 2.06-2.06.94z\"/><path d=\"M17.41 7.96l-1.37-1.37c-.4-.4-.92-.59-1.43-.59-.52 0-1.04.2-1.43.59L10.3 9.45l-7.72 7.72c-.78.78-.78 2.05 0 2.83L4 21.41c.39.39.9.59 1.41.59.51 0 1.02-.2 1.41-.59l7.78-7.78 2.81-2.81c.8-.78.8-2.07 0-2.86zM5.41 20L4 18.59l7.72-7.72 1.47 1.35L5.41 20z\"/>\n",
              "  </svg>\n",
              "      </button>\n",
              "      \n",
              "  <style>\n",
              "    .colab-df-container {\n",
              "      display:flex;\n",
              "      flex-wrap:wrap;\n",
              "      gap: 12px;\n",
              "    }\n",
              "\n",
              "    .colab-df-convert {\n",
              "      background-color: #E8F0FE;\n",
              "      border: none;\n",
              "      border-radius: 50%;\n",
              "      cursor: pointer;\n",
              "      display: none;\n",
              "      fill: #1967D2;\n",
              "      height: 32px;\n",
              "      padding: 0 0 0 0;\n",
              "      width: 32px;\n",
              "    }\n",
              "\n",
              "    .colab-df-convert:hover {\n",
              "      background-color: #E2EBFA;\n",
              "      box-shadow: 0px 1px 2px rgba(60, 64, 67, 0.3), 0px 1px 3px 1px rgba(60, 64, 67, 0.15);\n",
              "      fill: #174EA6;\n",
              "    }\n",
              "\n",
              "    [theme=dark] .colab-df-convert {\n",
              "      background-color: #3B4455;\n",
              "      fill: #D2E3FC;\n",
              "    }\n",
              "\n",
              "    [theme=dark] .colab-df-convert:hover {\n",
              "      background-color: #434B5C;\n",
              "      box-shadow: 0px 1px 3px 1px rgba(0, 0, 0, 0.15);\n",
              "      filter: drop-shadow(0px 1px 2px rgba(0, 0, 0, 0.3));\n",
              "      fill: #FFFFFF;\n",
              "    }\n",
              "  </style>\n",
              "\n",
              "      <script>\n",
              "        const buttonEl =\n",
              "          document.querySelector('#df-1cb2b53f-8493-4e94-93b7-a6f79759fd8c button.colab-df-convert');\n",
              "        buttonEl.style.display =\n",
              "          google.colab.kernel.accessAllowed ? 'block' : 'none';\n",
              "\n",
              "        async function convertToInteractive(key) {\n",
              "          const element = document.querySelector('#df-1cb2b53f-8493-4e94-93b7-a6f79759fd8c');\n",
              "          const dataTable =\n",
              "            await google.colab.kernel.invokeFunction('convertToInteractive',\n",
              "                                                     [key], {});\n",
              "          if (!dataTable) return;\n",
              "\n",
              "          const docLinkHtml = 'Like what you see? Visit the ' +\n",
              "            '<a target=\"_blank\" href=https://colab.research.google.com/notebooks/data_table.ipynb>data table notebook</a>'\n",
              "            + ' to learn more about interactive tables.';\n",
              "          element.innerHTML = '';\n",
              "          dataTable['output_type'] = 'display_data';\n",
              "          await google.colab.output.renderOutput(dataTable, element);\n",
              "          const docLink = document.createElement('div');\n",
              "          docLink.innerHTML = docLinkHtml;\n",
              "          element.appendChild(docLink);\n",
              "        }\n",
              "      </script>\n",
              "    </div>\n",
              "  </div>\n",
              "  "
            ]
          },
          "metadata": {},
          "execution_count": 5
        }
      ],
      "source": [
        "df.head()"
      ],
      "id": "tGnKB_yEJ7HD"
    },
    {
      "cell_type": "markdown",
      "metadata": {
        "id": "2b16163c-97fe-4498-9f17-43c9e006c052"
      },
      "source": [
        "# 2. Dataframe analysis\n"
      ],
      "id": "2b16163c-97fe-4498-9f17-43c9e006c052"
    },
    {
      "cell_type": "code",
      "execution_count": 6,
      "metadata": {
        "colab": {
          "base_uri": "https://localhost:8080/"
        },
        "id": "2cd9a579-ea5a-4784-8618-db9c78da73d2",
        "outputId": "2742c490-06aa-4f35-954b-32877aa4aaaa"
      },
      "outputs": [
        {
          "output_type": "execute_result",
          "data": {
            "text/plain": [
              "(4800, 3)"
            ]
          },
          "metadata": {},
          "execution_count": 6
        }
      ],
      "source": [
        "df.shape"
      ],
      "id": "2cd9a579-ea5a-4784-8618-db9c78da73d2"
    },
    {
      "cell_type": "markdown",
      "metadata": {
        "id": "7855622d-9196-4b1f-9aa4-4655c6395ee7"
      },
      "source": [
        "-> 4800 rows and 2 columns (excluding first column \"id\")"
      ],
      "id": "7855622d-9196-4b1f-9aa4-4655c6395ee7"
    },
    {
      "cell_type": "code",
      "execution_count": 7,
      "metadata": {
        "colab": {
          "base_uri": "https://localhost:8080/"
        },
        "id": "5431a208-4167-412d-a126-38e70c7eee7d",
        "outputId": "8e3ef16b-86d9-4b3f-cd28-f38a110db5f4"
      },
      "outputs": [
        {
          "output_type": "execute_result",
          "data": {
            "text/plain": [
              "id            0\n",
              "sentence      0\n",
              "difficulty    0\n",
              "dtype: int64"
            ]
          },
          "metadata": {},
          "execution_count": 7
        }
      ],
      "source": [
        "df.isnull().sum()"
      ],
      "id": "5431a208-4167-412d-a126-38e70c7eee7d"
    },
    {
      "cell_type": "markdown",
      "metadata": {
        "id": "e2fece64-23ff-43a4-9232-9d8471470502"
      },
      "source": [
        "-> no NAs"
      ],
      "id": "e2fece64-23ff-43a4-9232-9d8471470502"
    },
    {
      "cell_type": "code",
      "execution_count": 8,
      "metadata": {
        "colab": {
          "base_uri": "https://localhost:8080/"
        },
        "id": "103665f5-d9f3-449e-a976-02847f92adf2",
        "outputId": "e08a1982-9f2c-4f17-b31f-2cf86aa95baa"
      },
      "outputs": [
        {
          "output_type": "execute_result",
          "data": {
            "text/plain": [
              "False    4800\n",
              "dtype: int64"
            ]
          },
          "metadata": {},
          "execution_count": 8
        }
      ],
      "source": [
        "df.duplicated(subset=\"sentence\").value_counts()"
      ],
      "id": "103665f5-d9f3-449e-a976-02847f92adf2"
    },
    {
      "cell_type": "markdown",
      "metadata": {
        "id": "GmiS9BcW-nMD"
      },
      "source": [
        "-> no duplicate in the data"
      ],
      "id": "GmiS9BcW-nMD"
    },
    {
      "cell_type": "markdown",
      "metadata": {
        "id": "IpDCZoOFvcnf"
      },
      "source": [
        "#3.  Baseline"
      ],
      "id": "IpDCZoOFvcnf"
    },
    {
      "cell_type": "code",
      "execution_count": 9,
      "metadata": {
        "id": "ZmFYriXHOngk"
      },
      "outputs": [],
      "source": [
        "np.random.seed = 0"
      ],
      "id": "ZmFYriXHOngk"
    },
    {
      "cell_type": "code",
      "execution_count": 10,
      "metadata": {
        "colab": {
          "base_uri": "https://localhost:8080/"
        },
        "id": "QQKu9HnhvNLH",
        "outputId": "905825e9-d02e-4b27-8214-62358ac1b55d"
      },
      "outputs": [
        {
          "output_type": "stream",
          "name": "stdout",
          "text": [
            "Base rate: 0.1694\n"
          ]
        }
      ],
      "source": [
        "base_rate = max(df.value_counts('difficulty'))/df.shape[0]\n",
        "print('Base rate:', round(base_rate,4))"
      ],
      "id": "QQKu9HnhvNLH"
    },
    {
      "cell_type": "markdown",
      "metadata": {
        "id": "1ed9b8ac-ceff-49e6-8eba-75f4ebdca118"
      },
      "source": [
        "# 4. Classification Algorithms\n",
        "\n",
        "Dependent variable (y) is the column named \"difficulty\".\n",
        "<br>We split the data into 80% training and 20% test set.\n"
      ],
      "id": "1ed9b8ac-ceff-49e6-8eba-75f4ebdca118"
    },
    {
      "cell_type": "code",
      "execution_count": 11,
      "metadata": {
        "id": "_SuSQwepLpjG"
      },
      "outputs": [],
      "source": [
        "y = df['difficulty']\n",
        "X = df['sentence']\n",
        "X_pred = df_pred['sentence']"
      ],
      "id": "_SuSQwepLpjG"
    },
    {
      "cell_type": "markdown",
      "metadata": {
        "id": "851a232b-52ae-4fef-b899-f4fdc366ca40"
      },
      "source": [
        "### i. Logistic Regression.\n",
        "We use the following parameters for the LogisticRegressionCV():\n",
        "\n",
        "* cross-validation to 5 folds\n",
        "* maximum interation to 1000\n",
        "* random state to 0"
      ],
      "id": "851a232b-52ae-4fef-b899-f4fdc366ca40"
    },
    {
      "cell_type": "code",
      "execution_count": 12,
      "metadata": {
        "id": "tkJ877iFyfro"
      },
      "outputs": [],
      "source": [
        "from sklearn.feature_extraction.text import CountVectorizer, TfidfVectorizer\n",
        "from sklearn.linear_model import LogisticRegression, LogisticRegressionCV\n",
        "from sklearn.pipeline import Pipeline\n",
        "from sklearn.model_selection import train_test_split\n",
        "from sklearn.metrics import confusion_matrix, accuracy_score, precision_score, recall_score, f1_score"
      ],
      "id": "tkJ877iFyfro"
    },
    {
      "cell_type": "code",
      "execution_count": 13,
      "metadata": {
        "id": "RRlFzNyzyitq"
      },
      "outputs": [],
      "source": [
        "tfidf = TfidfVectorizer(ngram_range=(1, 1))"
      ],
      "id": "RRlFzNyzyitq"
    },
    {
      "cell_type": "code",
      "execution_count": 14,
      "metadata": {
        "colab": {
          "base_uri": "https://localhost:8080/"
        },
        "id": "J4RfJ_iZylZn",
        "outputId": "644ddee6-ed52-4754-83ac-ed2df08eb71c"
      },
      "outputs": [
        {
          "output_type": "execute_result",
          "data": {
            "text/plain": [
              "Pipeline(steps=[('vectorizer', TfidfVectorizer()),\n",
              "                ('classifier',\n",
              "                 LogisticRegressionCV(cv=5, max_iter=1000, random_state=0))])"
            ]
          },
          "metadata": {},
          "execution_count": 14
        }
      ],
      "source": [
        "X_train, X_test, y_train, y_test = train_test_split(X, y, test_size=0.2, random_state=0)\n",
        "\n",
        "classifier = LogisticRegressionCV(solver='lbfgs', cv=5, max_iter=1000, random_state=0)\n",
        "pl = Pipeline([('vectorizer', tfidf),\n",
        "                 ('classifier', classifier)])\n",
        "pl.fit(X_train, y_train)"
      ],
      "id": "J4RfJ_iZylZn"
    },
    {
      "cell_type": "code",
      "execution_count": 15,
      "metadata": {
        "id": "INIElRiHz0UX"
      },
      "outputs": [],
      "source": [
        "def evaluate(true, pred):\n",
        "    precision = precision_score(true, pred,average='macro')\n",
        "    recall = recall_score(true, pred,average='macro')\n",
        "    f1 = f1_score(true, pred,average='macro')\n",
        "    print(f\"CONFUSION MATRIX:\\n{confusion_matrix(true, pred)}\")\n",
        "    print(f\"ACCURACY SCORE:\\n{accuracy_score(true, pred):.4f}\")\n",
        "    print(f\"CLASSIFICATION REPORT:\\n\\tPrecision: {precision:.4f}\\n\\tRecall: {recall:.4f}\\n\\tF1_Score: {f1:.4f}\")"
      ],
      "id": "INIElRiHz0UX"
    },
    {
      "cell_type": "code",
      "execution_count": 16,
      "metadata": {
        "colab": {
          "base_uri": "https://localhost:8080/"
        },
        "id": "Sy_GwZGjz2Gd",
        "outputId": "b6ec57e3-090c-4996-e61e-a8cc32ecec6a"
      },
      "outputs": [
        {
          "output_type": "stream",
          "name": "stdout",
          "text": [
            "CONFUSION MATRIX:\n",
            "[[91 34 20  9  4  3]\n",
            " [50 62 34  3  5 10]\n",
            " [12 35 72 14  7 20]\n",
            " [ 6  6 18 67 24 23]\n",
            " [ 3  5 13 40 65 47]\n",
            " [ 7  6  9 16 23 97]]\n",
            "ACCURACY SCORE:\n",
            "0.4729\n",
            "CLASSIFICATION REPORT:\n",
            "\tPrecision: 0.4723\n",
            "\tRecall: 0.4747\n",
            "\tF1_Score: 0.4703\n"
          ]
        }
      ],
      "source": [
        "y_pred = pl.predict(X_test)\n",
        "evaluate(y_test, y_pred)"
      ],
      "id": "Sy_GwZGjz2Gd"
    },
    {
      "cell_type": "code",
      "execution_count": 17,
      "metadata": {
        "id": "mkzoV43wUXg7"
      },
      "outputs": [],
      "source": [
        "predict = pl.predict(X_pred)"
      ],
      "id": "mkzoV43wUXg7"
    },
    {
      "cell_type": "code",
      "execution_count": 18,
      "metadata": {
        "id": "ATPRd253PKOi"
      },
      "outputs": [],
      "source": [
        "submission= pd.DataFrame()\n",
        "submission['id']= df_pred.index\n",
        "submission['difficulty'] = predict"
      ],
      "id": "ATPRd253PKOi"
    },
    {
      "cell_type": "code",
      "execution_count": 19,
      "metadata": {
        "id": "e5Xw5TVOVcHH"
      },
      "outputs": [],
      "source": [
        "submission.to_csv(\"submission.csv\", index=False)"
      ],
      "id": "e5Xw5TVOVcHH"
    },
    {
      "cell_type": "markdown",
      "metadata": {
        "id": "e11dd429-ad14-423c-9259-c6a3ee7c0d14"
      },
      "source": [
        "### ii. kNNeighbours"
      ],
      "id": "e11dd429-ad14-423c-9259-c6a3ee7c0d14"
    },
    {
      "cell_type": "code",
      "execution_count": 20,
      "metadata": {
        "colab": {
          "base_uri": "https://localhost:8080/"
        },
        "id": "75f2e491-b232-4843-9c4a-605c8993ce66",
        "outputId": "ab58cd3b-8b9d-4de3-f399-1ac1cd5640a2"
      },
      "outputs": [
        {
          "output_type": "stream",
          "name": "stdout",
          "text": [
            "Hyperparameters: {'n_neighbors': 63, 'p': 2, 'weights': 'distance'}\n"
          ]
        }
      ],
      "source": [
        "from sklearn.neighbors import KNeighborsClassifier\n",
        "from sklearn.model_selection import GridSearchCV\n",
        "\n",
        "grid = {'n_neighbors':np.arange(1,100),\n",
        "        'p':np.arange(1,3),\n",
        "        'weights':['uniform','distance']}\n",
        "\n",
        "knn = KNeighborsClassifier()\n",
        "classifier_knn = GridSearchCV(knn, grid, cv=5)\n",
        "\n",
        "pl_knn = Pipeline([('vectorizer', tfidf),\n",
        "                 ('classifier', classifier_knn)])\n",
        "\n",
        "pl_knn.fit(X_train, y_train)\n",
        "\n",
        "print(\"Hyperparameters:\", classifier_knn.best_params_)"
      ],
      "id": "75f2e491-b232-4843-9c4a-605c8993ce66"
    },
    {
      "cell_type": "code",
      "execution_count": 21,
      "metadata": {
        "colab": {
          "base_uri": "https://localhost:8080/"
        },
        "id": "ed483f3e-f0e5-413b-bd2c-872ce23ef324",
        "outputId": "b1289ddf-fa36-4395-928c-2c564a347dce"
      },
      "outputs": [
        {
          "output_type": "stream",
          "name": "stdout",
          "text": [
            "CONFUSION MATRIX:\n",
            "[[105  36  13   0   1   6]\n",
            " [ 83  59  19   0   0   3]\n",
            " [ 60  48  37   3   1  11]\n",
            " [ 18  24  22  32  12  36]\n",
            " [ 14  19  29  22  20  69]\n",
            " [ 18  20  10  10   7  93]]\n",
            "ACCURACY SCORE:\n",
            "0.3604\n",
            "CLASSIFICATION REPORT:\n",
            "\tPrecision: 0.3859\n",
            "\tRecall: 0.3616\n",
            "\tF1_Score: 0.3361\n"
          ]
        }
      ],
      "source": [
        "y_knn_predict = pl_knn.predict(X_test)\n",
        "evaluate(y_test, y_knn_predict)"
      ],
      "id": "ed483f3e-f0e5-413b-bd2c-872ce23ef324"
    },
    {
      "cell_type": "code",
      "execution_count": 22,
      "metadata": {
        "id": "_CtTVrqAbjZu"
      },
      "outputs": [],
      "source": [
        "knn_predict = pl_knn.predict(X_pred)\n",
        "submission_knn= pd.DataFrame()\n",
        "submission_knn['id']= df_pred.index\n",
        "submission_knn['difficulty'] = knn_predict\n",
        "submission_knn.to_csv(\"submissionknn.csv\", index=False)"
      ],
      "id": "_CtTVrqAbjZu"
    },
    {
      "cell_type": "markdown",
      "metadata": {
        "id": "303c76ba-3145-44cc-8bf2-b3126a7e8d1e"
      },
      "source": [
        "###  iii. Decision Trees"
      ],
      "id": "303c76ba-3145-44cc-8bf2-b3126a7e8d1e"
    },
    {
      "cell_type": "code",
      "execution_count": 23,
      "metadata": {
        "colab": {
          "base_uri": "https://localhost:8080/"
        },
        "id": "671ccc9f-8938-455f-a81c-32e0f72eae3a",
        "outputId": "55f41645-eecf-4fb8-a93d-6381fb3c6ca9"
      },
      "outputs": [
        {
          "output_type": "stream",
          "name": "stdout",
          "text": [
            "CONFUSION MATRIX:\n",
            "[[80 41 23  9  2  6]\n",
            " [44 52 39 18  4  7]\n",
            " [29 42 34 20 20 15]\n",
            " [ 7 20 37 37 23 20]\n",
            " [11 15 35 36 38 38]\n",
            " [10 11 32 33 32 40]]\n",
            "ACCURACY SCORE:\n",
            "0.2927\n",
            "CLASSIFICATION REPORT:\n",
            "\tPrecision: 0.2963\n",
            "\tRecall: 0.2927\n",
            "\tF1_Score: 0.2915\n"
          ]
        }
      ],
      "source": [
        "from sklearn.tree import DecisionTreeClassifier\n",
        "\n",
        "dtc = DecisionTreeClassifier()\n",
        "pl_dtc = Pipeline([('vectorizer', tfidf),\n",
        "                 ('classifier', dtc)])\n",
        "pl_dtc.fit(X_train, y_train)\n",
        "y_pred_dtc = pl_dtc.predict(X_test)\n",
        "\n",
        "evaluate(y_test, y_pred_dtc)"
      ],
      "id": "671ccc9f-8938-455f-a81c-32e0f72eae3a"
    },
    {
      "cell_type": "code",
      "execution_count": 24,
      "metadata": {
        "id": "fQtbzd0q72Ci"
      },
      "outputs": [],
      "source": [
        "dtc_predict = pl_dtc.predict(X_pred)\n",
        "submission_dtc= pd.DataFrame()\n",
        "submission_dtc['id']= df_pred.index\n",
        "submission_dtc['difficulty'] = dtc_predict\n",
        "submission_dtc.to_csv(\"submissiondtc.csv\", index=False)"
      ],
      "id": "fQtbzd0q72Ci"
    },
    {
      "cell_type": "markdown",
      "metadata": {
        "id": "c16f0415-3d38-4e34-9da0-72e9136a0275"
      },
      "source": [
        "### iv. Random Forest Model"
      ],
      "id": "c16f0415-3d38-4e34-9da0-72e9136a0275"
    },
    {
      "cell_type": "code",
      "execution_count": 25,
      "metadata": {
        "colab": {
          "base_uri": "https://localhost:8080/"
        },
        "id": "6c9cd5fd-8887-4620-b129-79b3d98a4985",
        "outputId": "298384ab-07c0-4692-e1b6-c4a8a981c56e"
      },
      "outputs": [
        {
          "output_type": "stream",
          "name": "stdout",
          "text": [
            "CONFUSION MATRIX:\n",
            "[[118  22  11  10   0   0]\n",
            " [ 75  57  23   4   2   3]\n",
            " [ 35  40  48  24   9   4]\n",
            " [ 16  20  10  62  22  14]\n",
            " [ 21  11  21  49  45  26]\n",
            " [ 19  12  13  32  26  56]]\n",
            "ACCURACY SCORE:\n",
            "0.4021\n",
            "CLASSIFICATION REPORT:\n",
            "\tPrecision: 0.4112\n",
            "\tRecall: 0.4043\n",
            "\tF1_Score: 0.3919\n"
          ]
        }
      ],
      "source": [
        "from sklearn.ensemble import RandomForestClassifier\n",
        "rfc = RandomForestClassifier()\n",
        "pl_rfc = Pipeline([('vectorizer', tfidf),\n",
        "                 ('classifier', rfc)])\n",
        "\n",
        "pl_rfc.fit(X_train, y_train)\n",
        "\n",
        "y_pred_rfc = pl_rfc.predict(X_test)\n",
        "\n",
        "evaluate(y_test, y_pred_rfc)"
      ],
      "id": "6c9cd5fd-8887-4620-b129-79b3d98a4985"
    },
    {
      "cell_type": "code",
      "execution_count": 26,
      "metadata": {
        "id": "zdpqS6XQ9Fka"
      },
      "outputs": [],
      "source": [
        "rfc_predict = pl_rfc.predict(X_pred)\n",
        "submission_rfc= pd.DataFrame()\n",
        "submission_rfc['id']= df_pred.index\n",
        "submission_rfc['difficulty'] = rfc_predict\n",
        "submission_rfc.to_csv(\"submissionrfc.csv\", index=False)"
      ],
      "id": "zdpqS6XQ9Fka"
    },
    {
      "cell_type": "markdown",
      "metadata": {
        "id": "cjIECG4mKsx6"
      },
      "source": [
        "#5. Comparing the models"
      ],
      "id": "cjIECG4mKsx6"
    },
    {
      "cell_type": "code",
      "execution_count": 27,
      "metadata": {
        "colab": {
          "base_uri": "https://localhost:8080/",
          "height": 175
        },
        "id": "bcK67GUEK2L6",
        "outputId": "7792c9de-4e46-41ea-94dd-4146409d6104"
      },
      "outputs": [
        {
          "output_type": "execute_result",
          "data": {
            "text/plain": [
              "      Model_Name Base_Rate Precisions  Recall F1-Score Accuracy\n",
              "0   Logistic Reg    0.1694     0.4723  0.4747   0.4703   0.4729\n",
              "1            KNN    0.1694     0.3859  0.3616   0.3361   0.3604\n",
              "2           Tree    0.1694     0.3044  0.3018   0.2933   0.3010\n",
              "3  Random Forest    0.1694     0.4089  0.4075   0.3940   0.4062"
            ],
            "text/html": [
              "\n",
              "  <div id=\"df-49309cc0-f2eb-41dd-8def-3fb500f29823\">\n",
              "    <div class=\"colab-df-container\">\n",
              "      <div>\n",
              "<style scoped>\n",
              "    .dataframe tbody tr th:only-of-type {\n",
              "        vertical-align: middle;\n",
              "    }\n",
              "\n",
              "    .dataframe tbody tr th {\n",
              "        vertical-align: top;\n",
              "    }\n",
              "\n",
              "    .dataframe thead th {\n",
              "        text-align: right;\n",
              "    }\n",
              "</style>\n",
              "<table border=\"1\" class=\"dataframe\">\n",
              "  <thead>\n",
              "    <tr style=\"text-align: right;\">\n",
              "      <th></th>\n",
              "      <th>Model_Name</th>\n",
              "      <th>Base_Rate</th>\n",
              "      <th>Precisions</th>\n",
              "      <th>Recall</th>\n",
              "      <th>F1-Score</th>\n",
              "      <th>Accuracy</th>\n",
              "    </tr>\n",
              "  </thead>\n",
              "  <tbody>\n",
              "    <tr>\n",
              "      <th>0</th>\n",
              "      <td>Logistic Reg</td>\n",
              "      <td>0.1694</td>\n",
              "      <td>0.4723</td>\n",
              "      <td>0.4747</td>\n",
              "      <td>0.4703</td>\n",
              "      <td>0.4729</td>\n",
              "    </tr>\n",
              "    <tr>\n",
              "      <th>1</th>\n",
              "      <td>KNN</td>\n",
              "      <td>0.1694</td>\n",
              "      <td>0.3859</td>\n",
              "      <td>0.3616</td>\n",
              "      <td>0.3361</td>\n",
              "      <td>0.3604</td>\n",
              "    </tr>\n",
              "    <tr>\n",
              "      <th>2</th>\n",
              "      <td>Tree</td>\n",
              "      <td>0.1694</td>\n",
              "      <td>0.3044</td>\n",
              "      <td>0.3018</td>\n",
              "      <td>0.2933</td>\n",
              "      <td>0.3010</td>\n",
              "    </tr>\n",
              "    <tr>\n",
              "      <th>3</th>\n",
              "      <td>Random Forest</td>\n",
              "      <td>0.1694</td>\n",
              "      <td>0.4089</td>\n",
              "      <td>0.4075</td>\n",
              "      <td>0.3940</td>\n",
              "      <td>0.4062</td>\n",
              "    </tr>\n",
              "  </tbody>\n",
              "</table>\n",
              "</div>\n",
              "      <button class=\"colab-df-convert\" onclick=\"convertToInteractive('df-49309cc0-f2eb-41dd-8def-3fb500f29823')\"\n",
              "              title=\"Convert this dataframe to an interactive table.\"\n",
              "              style=\"display:none;\">\n",
              "        \n",
              "  <svg xmlns=\"http://www.w3.org/2000/svg\" height=\"24px\"viewBox=\"0 0 24 24\"\n",
              "       width=\"24px\">\n",
              "    <path d=\"M0 0h24v24H0V0z\" fill=\"none\"/>\n",
              "    <path d=\"M18.56 5.44l.94 2.06.94-2.06 2.06-.94-2.06-.94-.94-2.06-.94 2.06-2.06.94zm-11 1L8.5 8.5l.94-2.06 2.06-.94-2.06-.94L8.5 2.5l-.94 2.06-2.06.94zm10 10l.94 2.06.94-2.06 2.06-.94-2.06-.94-.94-2.06-.94 2.06-2.06.94z\"/><path d=\"M17.41 7.96l-1.37-1.37c-.4-.4-.92-.59-1.43-.59-.52 0-1.04.2-1.43.59L10.3 9.45l-7.72 7.72c-.78.78-.78 2.05 0 2.83L4 21.41c.39.39.9.59 1.41.59.51 0 1.02-.2 1.41-.59l7.78-7.78 2.81-2.81c.8-.78.8-2.07 0-2.86zM5.41 20L4 18.59l7.72-7.72 1.47 1.35L5.41 20z\"/>\n",
              "  </svg>\n",
              "      </button>\n",
              "      \n",
              "  <style>\n",
              "    .colab-df-container {\n",
              "      display:flex;\n",
              "      flex-wrap:wrap;\n",
              "      gap: 12px;\n",
              "    }\n",
              "\n",
              "    .colab-df-convert {\n",
              "      background-color: #E8F0FE;\n",
              "      border: none;\n",
              "      border-radius: 50%;\n",
              "      cursor: pointer;\n",
              "      display: none;\n",
              "      fill: #1967D2;\n",
              "      height: 32px;\n",
              "      padding: 0 0 0 0;\n",
              "      width: 32px;\n",
              "    }\n",
              "\n",
              "    .colab-df-convert:hover {\n",
              "      background-color: #E2EBFA;\n",
              "      box-shadow: 0px 1px 2px rgba(60, 64, 67, 0.3), 0px 1px 3px 1px rgba(60, 64, 67, 0.15);\n",
              "      fill: #174EA6;\n",
              "    }\n",
              "\n",
              "    [theme=dark] .colab-df-convert {\n",
              "      background-color: #3B4455;\n",
              "      fill: #D2E3FC;\n",
              "    }\n",
              "\n",
              "    [theme=dark] .colab-df-convert:hover {\n",
              "      background-color: #434B5C;\n",
              "      box-shadow: 0px 1px 3px 1px rgba(0, 0, 0, 0.15);\n",
              "      filter: drop-shadow(0px 1px 2px rgba(0, 0, 0, 0.3));\n",
              "      fill: #FFFFFF;\n",
              "    }\n",
              "  </style>\n",
              "\n",
              "      <script>\n",
              "        const buttonEl =\n",
              "          document.querySelector('#df-49309cc0-f2eb-41dd-8def-3fb500f29823 button.colab-df-convert');\n",
              "        buttonEl.style.display =\n",
              "          google.colab.kernel.accessAllowed ? 'block' : 'none';\n",
              "\n",
              "        async function convertToInteractive(key) {\n",
              "          const element = document.querySelector('#df-49309cc0-f2eb-41dd-8def-3fb500f29823');\n",
              "          const dataTable =\n",
              "            await google.colab.kernel.invokeFunction('convertToInteractive',\n",
              "                                                     [key], {});\n",
              "          if (!dataTable) return;\n",
              "\n",
              "          const docLinkHtml = 'Like what you see? Visit the ' +\n",
              "            '<a target=\"_blank\" href=https://colab.research.google.com/notebooks/data_table.ipynb>data table notebook</a>'\n",
              "            + ' to learn more about interactive tables.';\n",
              "          element.innerHTML = '';\n",
              "          dataTable['output_type'] = 'display_data';\n",
              "          await google.colab.output.renderOutput(dataTable, element);\n",
              "          const docLink = document.createElement('div');\n",
              "          docLink.innerHTML = docLinkHtml;\n",
              "          element.appendChild(docLink);\n",
              "        }\n",
              "      </script>\n",
              "    </div>\n",
              "  </div>\n",
              "  "
            ]
          },
          "metadata": {},
          "execution_count": 27
        }
      ],
      "source": [
        "df_comparison = pd.DataFrame(columns=['Model_Name', 'Base_Rate', 'Precisions','Recall','F1-Score', 'Accuracy'])\n",
        "\n",
        "\n",
        "df_comparison['Model_Name'] = ['Logistic Reg', 'KNN', 'Tree', 'Random Forest']\n",
        "df_comparison['Base_Rate'] = ['0.1694', '0.1694', '0.1694', '0.1694']\n",
        "df_comparison['Precisions'] = ['0.4723', '0.3859', '0.3044','0.4089']\n",
        "df_comparison['Recall'] = ['0.4747', '0.3616', '0.3018','0.4075']\n",
        "df_comparison['F1-Score'] = ['0.4703', '0.3361', '0.2933','0.3940']\n",
        "df_comparison['Accuracy'] = ['0.4729', '0.3604', '0.3010','0.4062']\n",
        "\n",
        "\n",
        "df_comparison"
      ],
      "id": "bcK67GUEK2L6"
    }
  ],
  "metadata": {
    "colab": {
      "collapsed_sections": [
        "2535074a-62bd-4200-bf54-cb4e1c5fe08d",
        "2b16163c-97fe-4498-9f17-43c9e006c052",
        "IpDCZoOFvcnf"
      ],
      "provenance": []
    },
    "kernelspec": {
      "display_name": "Python 3 (ipykernel)",
      "language": "python",
      "name": "python3"
    },
    "language_info": {
      "codemirror_mode": {
        "name": "ipython",
        "version": 3
      },
      "file_extension": ".py",
      "mimetype": "text/x-python",
      "name": "python",
      "nbconvert_exporter": "python",
      "pygments_lexer": "ipython3",
      "version": "3.9.12"
    }
  },
  "nbformat": 4,
  "nbformat_minor": 5
}
