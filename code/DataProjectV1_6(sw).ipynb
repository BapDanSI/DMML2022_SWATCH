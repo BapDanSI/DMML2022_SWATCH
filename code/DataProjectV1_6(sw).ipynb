{
  "cells": [
    {
      "cell_type": "markdown",
      "metadata": {
        "id": "9b95c744-4332-4dd3-84dd-150bb67b1e65"
      },
      "source": [
        "#DATAMINING PROJECT V1.6\n",
        "***From Baptiste Danichert & Ahmed Abdel Aziz***\n",
        "\n",
        "**Last update**: deleting Stopwords\n",
        "\n",
        "**Description:** You have noticed that to improve one’s skills in a new foreign language, it is important to read texts in that language. These texts have to be at the reader’s language level. However, it is difficult to find texts that are close to someone’s knowledge level (A1 to C2). You have decided to build a model for English speakers that predicts the difficulty of a French written text. This can be then used, e.g., in a recommendation system, to recommend texts, e.g, recent news articles that are appropriate for someone’s language level. If someone is at A1 French level, it is inappropriate to present a text at B2 level, as she won’t be able to understand it. Ideally, a text should have many known words and may have a few words that are unknown so that the person can improve.\n",
        "\n"
      ],
      "id": "9b95c744-4332-4dd3-84dd-150bb67b1e65"
    },
    {
      "cell_type": "markdown",
      "metadata": {
        "id": "2535074a-62bd-4200-bf54-cb4e1c5fe08d"
      },
      "source": [
        "# 1. Loading the training data"
      ],
      "id": "2535074a-62bd-4200-bf54-cb4e1c5fe08d"
    },
    {
      "cell_type": "code",
      "execution_count": null,
      "metadata": {
        "id": "efb00cef-ee9a-4f65-b26d-665a2af4a495"
      },
      "outputs": [],
      "source": [
        "import pandas as pd\n",
        "import numpy as np"
      ],
      "id": "efb00cef-ee9a-4f65-b26d-665a2af4a495"
    },
    {
      "cell_type": "code",
      "execution_count": null,
      "metadata": {
        "id": "c236a273-585d-4de2-bb3e-fd0388bd72e5"
      },
      "outputs": [],
      "source": [
        "df = pd.read_csv('https://raw.githubusercontent.com/BapDanSI/DataMiningProject/main/data/training_data.csv')\n",
        "df_pred = pd.read_csv('https://raw.githubusercontent.com/BapDanSI/DataMiningProject/main/data/unlabelled_test_data.csv')"
      ],
      "id": "c236a273-585d-4de2-bb3e-fd0388bd72e5"
    },
    {
      "cell_type": "code",
      "source": [
        "df_pred.head()"
      ],
      "metadata": {
        "colab": {
          "base_uri": "https://localhost:8080/"
        },
        "id": "aCb1V_K_J14M",
        "outputId": "f3d89718-7946-47ff-dd4c-1d1b20e864d4"
      },
      "id": "aCb1V_K_J14M",
      "execution_count": null,
      "outputs": [
        {
          "output_type": "execute_result",
          "data": {
            "text/plain": [
              "   id                                           sentence\n",
              "0   0  Nous dûmes nous excuser des propos que nous eû...\n",
              "1   1  Vous ne pouvez pas savoir le plaisir que j'ai ...\n",
              "2   2  Et, paradoxalement, boire froid n'est pas la b...\n",
              "3   3  Ce n'est pas étonnant, car c'est une saison my...\n",
              "4   4  Le corps de Golo lui-même, d'une essence aussi..."
            ],
            "text/html": [
              "\n",
              "  <div id=\"df-92f75488-efe4-4768-bc30-9c65744dd080\">\n",
              "    <div class=\"colab-df-container\">\n",
              "      <div>\n",
              "<style scoped>\n",
              "    .dataframe tbody tr th:only-of-type {\n",
              "        vertical-align: middle;\n",
              "    }\n",
              "\n",
              "    .dataframe tbody tr th {\n",
              "        vertical-align: top;\n",
              "    }\n",
              "\n",
              "    .dataframe thead th {\n",
              "        text-align: right;\n",
              "    }\n",
              "</style>\n",
              "<table border=\"1\" class=\"dataframe\">\n",
              "  <thead>\n",
              "    <tr style=\"text-align: right;\">\n",
              "      <th></th>\n",
              "      <th>id</th>\n",
              "      <th>sentence</th>\n",
              "    </tr>\n",
              "  </thead>\n",
              "  <tbody>\n",
              "    <tr>\n",
              "      <th>0</th>\n",
              "      <td>0</td>\n",
              "      <td>Nous dûmes nous excuser des propos que nous eû...</td>\n",
              "    </tr>\n",
              "    <tr>\n",
              "      <th>1</th>\n",
              "      <td>1</td>\n",
              "      <td>Vous ne pouvez pas savoir le plaisir que j'ai ...</td>\n",
              "    </tr>\n",
              "    <tr>\n",
              "      <th>2</th>\n",
              "      <td>2</td>\n",
              "      <td>Et, paradoxalement, boire froid n'est pas la b...</td>\n",
              "    </tr>\n",
              "    <tr>\n",
              "      <th>3</th>\n",
              "      <td>3</td>\n",
              "      <td>Ce n'est pas étonnant, car c'est une saison my...</td>\n",
              "    </tr>\n",
              "    <tr>\n",
              "      <th>4</th>\n",
              "      <td>4</td>\n",
              "      <td>Le corps de Golo lui-même, d'une essence aussi...</td>\n",
              "    </tr>\n",
              "  </tbody>\n",
              "</table>\n",
              "</div>\n",
              "      <button class=\"colab-df-convert\" onclick=\"convertToInteractive('df-92f75488-efe4-4768-bc30-9c65744dd080')\"\n",
              "              title=\"Convert this dataframe to an interactive table.\"\n",
              "              style=\"display:none;\">\n",
              "        \n",
              "  <svg xmlns=\"http://www.w3.org/2000/svg\" height=\"24px\"viewBox=\"0 0 24 24\"\n",
              "       width=\"24px\">\n",
              "    <path d=\"M0 0h24v24H0V0z\" fill=\"none\"/>\n",
              "    <path d=\"M18.56 5.44l.94 2.06.94-2.06 2.06-.94-2.06-.94-.94-2.06-.94 2.06-2.06.94zm-11 1L8.5 8.5l.94-2.06 2.06-.94-2.06-.94L8.5 2.5l-.94 2.06-2.06.94zm10 10l.94 2.06.94-2.06 2.06-.94-2.06-.94-.94-2.06-.94 2.06-2.06.94z\"/><path d=\"M17.41 7.96l-1.37-1.37c-.4-.4-.92-.59-1.43-.59-.52 0-1.04.2-1.43.59L10.3 9.45l-7.72 7.72c-.78.78-.78 2.05 0 2.83L4 21.41c.39.39.9.59 1.41.59.51 0 1.02-.2 1.41-.59l7.78-7.78 2.81-2.81c.8-.78.8-2.07 0-2.86zM5.41 20L4 18.59l7.72-7.72 1.47 1.35L5.41 20z\"/>\n",
              "  </svg>\n",
              "      </button>\n",
              "      \n",
              "  <style>\n",
              "    .colab-df-container {\n",
              "      display:flex;\n",
              "      flex-wrap:wrap;\n",
              "      gap: 12px;\n",
              "    }\n",
              "\n",
              "    .colab-df-convert {\n",
              "      background-color: #E8F0FE;\n",
              "      border: none;\n",
              "      border-radius: 50%;\n",
              "      cursor: pointer;\n",
              "      display: none;\n",
              "      fill: #1967D2;\n",
              "      height: 32px;\n",
              "      padding: 0 0 0 0;\n",
              "      width: 32px;\n",
              "    }\n",
              "\n",
              "    .colab-df-convert:hover {\n",
              "      background-color: #E2EBFA;\n",
              "      box-shadow: 0px 1px 2px rgba(60, 64, 67, 0.3), 0px 1px 3px 1px rgba(60, 64, 67, 0.15);\n",
              "      fill: #174EA6;\n",
              "    }\n",
              "\n",
              "    [theme=dark] .colab-df-convert {\n",
              "      background-color: #3B4455;\n",
              "      fill: #D2E3FC;\n",
              "    }\n",
              "\n",
              "    [theme=dark] .colab-df-convert:hover {\n",
              "      background-color: #434B5C;\n",
              "      box-shadow: 0px 1px 3px 1px rgba(0, 0, 0, 0.15);\n",
              "      filter: drop-shadow(0px 1px 2px rgba(0, 0, 0, 0.3));\n",
              "      fill: #FFFFFF;\n",
              "    }\n",
              "  </style>\n",
              "\n",
              "      <script>\n",
              "        const buttonEl =\n",
              "          document.querySelector('#df-92f75488-efe4-4768-bc30-9c65744dd080 button.colab-df-convert');\n",
              "        buttonEl.style.display =\n",
              "          google.colab.kernel.accessAllowed ? 'block' : 'none';\n",
              "\n",
              "        async function convertToInteractive(key) {\n",
              "          const element = document.querySelector('#df-92f75488-efe4-4768-bc30-9c65744dd080');\n",
              "          const dataTable =\n",
              "            await google.colab.kernel.invokeFunction('convertToInteractive',\n",
              "                                                     [key], {});\n",
              "          if (!dataTable) return;\n",
              "\n",
              "          const docLinkHtml = 'Like what you see? Visit the ' +\n",
              "            '<a target=\"_blank\" href=https://colab.research.google.com/notebooks/data_table.ipynb>data table notebook</a>'\n",
              "            + ' to learn more about interactive tables.';\n",
              "          element.innerHTML = '';\n",
              "          dataTable['output_type'] = 'display_data';\n",
              "          await google.colab.output.renderOutput(dataTable, element);\n",
              "          const docLink = document.createElement('div');\n",
              "          docLink.innerHTML = docLinkHtml;\n",
              "          element.appendChild(docLink);\n",
              "        }\n",
              "      </script>\n",
              "    </div>\n",
              "  </div>\n",
              "  "
            ]
          },
          "metadata": {},
          "execution_count": 3
        }
      ]
    },
    {
      "cell_type": "code",
      "source": [
        "df.head()"
      ],
      "metadata": {
        "colab": {
          "base_uri": "https://localhost:8080/"
        },
        "id": "tGnKB_yEJ7HD",
        "outputId": "2b75218f-65ce-4235-9250-b6dfd92c6790"
      },
      "id": "tGnKB_yEJ7HD",
      "execution_count": null,
      "outputs": [
        {
          "output_type": "execute_result",
          "data": {
            "text/plain": [
              "   id                                           sentence difficulty\n",
              "0   0  Les coûts kilométriques réels peuvent diverger...         C1\n",
              "1   1  Le bleu, c'est ma couleur préférée mais je n'a...         A1\n",
              "2   2  Le test de niveau en français est sur le site ...         A1\n",
              "3   3           Est-ce que ton mari est aussi de Boston?         A1\n",
              "4   4  Dans les écoles de commerce, dans les couloirs...         B1"
            ],
            "text/html": [
              "\n",
              "  <div id=\"df-8e626ad2-6bea-4e57-bb8e-27dd1b93f722\">\n",
              "    <div class=\"colab-df-container\">\n",
              "      <div>\n",
              "<style scoped>\n",
              "    .dataframe tbody tr th:only-of-type {\n",
              "        vertical-align: middle;\n",
              "    }\n",
              "\n",
              "    .dataframe tbody tr th {\n",
              "        vertical-align: top;\n",
              "    }\n",
              "\n",
              "    .dataframe thead th {\n",
              "        text-align: right;\n",
              "    }\n",
              "</style>\n",
              "<table border=\"1\" class=\"dataframe\">\n",
              "  <thead>\n",
              "    <tr style=\"text-align: right;\">\n",
              "      <th></th>\n",
              "      <th>id</th>\n",
              "      <th>sentence</th>\n",
              "      <th>difficulty</th>\n",
              "    </tr>\n",
              "  </thead>\n",
              "  <tbody>\n",
              "    <tr>\n",
              "      <th>0</th>\n",
              "      <td>0</td>\n",
              "      <td>Les coûts kilométriques réels peuvent diverger...</td>\n",
              "      <td>C1</td>\n",
              "    </tr>\n",
              "    <tr>\n",
              "      <th>1</th>\n",
              "      <td>1</td>\n",
              "      <td>Le bleu, c'est ma couleur préférée mais je n'a...</td>\n",
              "      <td>A1</td>\n",
              "    </tr>\n",
              "    <tr>\n",
              "      <th>2</th>\n",
              "      <td>2</td>\n",
              "      <td>Le test de niveau en français est sur le site ...</td>\n",
              "      <td>A1</td>\n",
              "    </tr>\n",
              "    <tr>\n",
              "      <th>3</th>\n",
              "      <td>3</td>\n",
              "      <td>Est-ce que ton mari est aussi de Boston?</td>\n",
              "      <td>A1</td>\n",
              "    </tr>\n",
              "    <tr>\n",
              "      <th>4</th>\n",
              "      <td>4</td>\n",
              "      <td>Dans les écoles de commerce, dans les couloirs...</td>\n",
              "      <td>B1</td>\n",
              "    </tr>\n",
              "  </tbody>\n",
              "</table>\n",
              "</div>\n",
              "      <button class=\"colab-df-convert\" onclick=\"convertToInteractive('df-8e626ad2-6bea-4e57-bb8e-27dd1b93f722')\"\n",
              "              title=\"Convert this dataframe to an interactive table.\"\n",
              "              style=\"display:none;\">\n",
              "        \n",
              "  <svg xmlns=\"http://www.w3.org/2000/svg\" height=\"24px\"viewBox=\"0 0 24 24\"\n",
              "       width=\"24px\">\n",
              "    <path d=\"M0 0h24v24H0V0z\" fill=\"none\"/>\n",
              "    <path d=\"M18.56 5.44l.94 2.06.94-2.06 2.06-.94-2.06-.94-.94-2.06-.94 2.06-2.06.94zm-11 1L8.5 8.5l.94-2.06 2.06-.94-2.06-.94L8.5 2.5l-.94 2.06-2.06.94zm10 10l.94 2.06.94-2.06 2.06-.94-2.06-.94-.94-2.06-.94 2.06-2.06.94z\"/><path d=\"M17.41 7.96l-1.37-1.37c-.4-.4-.92-.59-1.43-.59-.52 0-1.04.2-1.43.59L10.3 9.45l-7.72 7.72c-.78.78-.78 2.05 0 2.83L4 21.41c.39.39.9.59 1.41.59.51 0 1.02-.2 1.41-.59l7.78-7.78 2.81-2.81c.8-.78.8-2.07 0-2.86zM5.41 20L4 18.59l7.72-7.72 1.47 1.35L5.41 20z\"/>\n",
              "  </svg>\n",
              "      </button>\n",
              "      \n",
              "  <style>\n",
              "    .colab-df-container {\n",
              "      display:flex;\n",
              "      flex-wrap:wrap;\n",
              "      gap: 12px;\n",
              "    }\n",
              "\n",
              "    .colab-df-convert {\n",
              "      background-color: #E8F0FE;\n",
              "      border: none;\n",
              "      border-radius: 50%;\n",
              "      cursor: pointer;\n",
              "      display: none;\n",
              "      fill: #1967D2;\n",
              "      height: 32px;\n",
              "      padding: 0 0 0 0;\n",
              "      width: 32px;\n",
              "    }\n",
              "\n",
              "    .colab-df-convert:hover {\n",
              "      background-color: #E2EBFA;\n",
              "      box-shadow: 0px 1px 2px rgba(60, 64, 67, 0.3), 0px 1px 3px 1px rgba(60, 64, 67, 0.15);\n",
              "      fill: #174EA6;\n",
              "    }\n",
              "\n",
              "    [theme=dark] .colab-df-convert {\n",
              "      background-color: #3B4455;\n",
              "      fill: #D2E3FC;\n",
              "    }\n",
              "\n",
              "    [theme=dark] .colab-df-convert:hover {\n",
              "      background-color: #434B5C;\n",
              "      box-shadow: 0px 1px 3px 1px rgba(0, 0, 0, 0.15);\n",
              "      filter: drop-shadow(0px 1px 2px rgba(0, 0, 0, 0.3));\n",
              "      fill: #FFFFFF;\n",
              "    }\n",
              "  </style>\n",
              "\n",
              "      <script>\n",
              "        const buttonEl =\n",
              "          document.querySelector('#df-8e626ad2-6bea-4e57-bb8e-27dd1b93f722 button.colab-df-convert');\n",
              "        buttonEl.style.display =\n",
              "          google.colab.kernel.accessAllowed ? 'block' : 'none';\n",
              "\n",
              "        async function convertToInteractive(key) {\n",
              "          const element = document.querySelector('#df-8e626ad2-6bea-4e57-bb8e-27dd1b93f722');\n",
              "          const dataTable =\n",
              "            await google.colab.kernel.invokeFunction('convertToInteractive',\n",
              "                                                     [key], {});\n",
              "          if (!dataTable) return;\n",
              "\n",
              "          const docLinkHtml = 'Like what you see? Visit the ' +\n",
              "            '<a target=\"_blank\" href=https://colab.research.google.com/notebooks/data_table.ipynb>data table notebook</a>'\n",
              "            + ' to learn more about interactive tables.';\n",
              "          element.innerHTML = '';\n",
              "          dataTable['output_type'] = 'display_data';\n",
              "          await google.colab.output.renderOutput(dataTable, element);\n",
              "          const docLink = document.createElement('div');\n",
              "          docLink.innerHTML = docLinkHtml;\n",
              "          element.appendChild(docLink);\n",
              "        }\n",
              "      </script>\n",
              "    </div>\n",
              "  </div>\n",
              "  "
            ]
          },
          "metadata": {},
          "execution_count": 4
        }
      ]
    },
    {
      "cell_type": "markdown",
      "metadata": {
        "id": "2b16163c-97fe-4498-9f17-43c9e006c052"
      },
      "source": [
        "# 2. Dataframe analysis\n"
      ],
      "id": "2b16163c-97fe-4498-9f17-43c9e006c052"
    },
    {
      "cell_type": "code",
      "execution_count": null,
      "metadata": {
        "colab": {
          "base_uri": "https://localhost:8080/"
        },
        "id": "2cd9a579-ea5a-4784-8618-db9c78da73d2",
        "outputId": "4edde3b3-a5f6-4109-cb21-ce7c9df38dcf"
      },
      "outputs": [
        {
          "output_type": "execute_result",
          "data": {
            "text/plain": [
              "(4800, 3)"
            ]
          },
          "metadata": {},
          "execution_count": 5
        }
      ],
      "source": [
        "df.shape"
      ],
      "id": "2cd9a579-ea5a-4784-8618-db9c78da73d2"
    },
    {
      "cell_type": "markdown",
      "metadata": {
        "id": "7855622d-9196-4b1f-9aa4-4655c6395ee7"
      },
      "source": [
        "-> 4800 rows and 2 columns (excluding first column \"id\")"
      ],
      "id": "7855622d-9196-4b1f-9aa4-4655c6395ee7"
    },
    {
      "cell_type": "code",
      "execution_count": null,
      "metadata": {
        "colab": {
          "base_uri": "https://localhost:8080/"
        },
        "id": "5431a208-4167-412d-a126-38e70c7eee7d",
        "outputId": "a0b76112-f181-4813-fde6-746802de01db"
      },
      "outputs": [
        {
          "output_type": "execute_result",
          "data": {
            "text/plain": [
              "id            0\n",
              "sentence      0\n",
              "difficulty    0\n",
              "dtype: int64"
            ]
          },
          "metadata": {},
          "execution_count": 6
        }
      ],
      "source": [
        "df.isnull().sum()"
      ],
      "id": "5431a208-4167-412d-a126-38e70c7eee7d"
    },
    {
      "cell_type": "markdown",
      "metadata": {
        "id": "e2fece64-23ff-43a4-9232-9d8471470502"
      },
      "source": [
        "-> no NAs"
      ],
      "id": "e2fece64-23ff-43a4-9232-9d8471470502"
    },
    {
      "cell_type": "code",
      "execution_count": null,
      "metadata": {
        "colab": {
          "base_uri": "https://localhost:8080/"
        },
        "id": "103665f5-d9f3-449e-a976-02847f92adf2",
        "outputId": "b49d8aa6-0a7a-42b1-d655-66d202269e5a"
      },
      "outputs": [
        {
          "output_type": "execute_result",
          "data": {
            "text/plain": [
              "False    4800\n",
              "dtype: int64"
            ]
          },
          "metadata": {},
          "execution_count": 7
        }
      ],
      "source": [
        "df.duplicated(subset=\"sentence\").value_counts()"
      ],
      "id": "103665f5-d9f3-449e-a976-02847f92adf2"
    },
    {
      "cell_type": "markdown",
      "metadata": {
        "id": "GmiS9BcW-nMD"
      },
      "source": [
        "-> no duplicate in the data"
      ],
      "id": "GmiS9BcW-nMD"
    },
    {
      "cell_type": "markdown",
      "source": [
        "#3.  Baseline"
      ],
      "metadata": {
        "id": "IpDCZoOFvcnf"
      },
      "id": "IpDCZoOFvcnf"
    },
    {
      "cell_type": "code",
      "source": [
        "np.random.seed = 0"
      ],
      "metadata": {
        "id": "ZmFYriXHOngk"
      },
      "id": "ZmFYriXHOngk",
      "execution_count": null,
      "outputs": []
    },
    {
      "cell_type": "code",
      "source": [
        "base_rate = max(df.value_counts('difficulty'))/df.shape[0]\n",
        "print('Base rate:', round(base_rate,4))"
      ],
      "metadata": {
        "colab": {
          "base_uri": "https://localhost:8080/"
        },
        "id": "QQKu9HnhvNLH",
        "outputId": "38068d5d-6f82-49fa-9f86-fede96337b1e"
      },
      "id": "QQKu9HnhvNLH",
      "execution_count": null,
      "outputs": [
        {
          "output_type": "stream",
          "name": "stdout",
          "text": [
            "Base rate: 0.1694\n"
          ]
        }
      ]
    },
    {
      "cell_type": "markdown",
      "source": [
        "# 4. Data Cleaning"
      ],
      "metadata": {
        "id": "d9y3Bx7j1FN6"
      },
      "id": "d9y3Bx7j1FN6"
    },
    {
      "cell_type": "code",
      "source": [
        "df['sentence'] = df['sentence'].str.lower()\n",
        "df_pred['sentence'] = df_pred['sentence'].str.lower()"
      ],
      "metadata": {
        "id": "A4Fpfr7x1Va4"
      },
      "id": "A4Fpfr7x1Va4",
      "execution_count": null,
      "outputs": []
    },
    {
      "cell_type": "code",
      "source": [
        "df['sentence'] = df['sentence'].str.replace('[^\\w\\s]','')\n",
        "df_pred['sentence'] = df_pred['sentence'].str.replace('[^\\w\\s]','')"
      ],
      "metadata": {
        "colab": {
          "base_uri": "https://localhost:8080/"
        },
        "id": "8sujLpGx1V-0",
        "outputId": "95d56141-119c-4d50-f8fe-5616400d70bf"
      },
      "id": "8sujLpGx1V-0",
      "execution_count": null,
      "outputs": [
        {
          "output_type": "stream",
          "name": "stderr",
          "text": [
            "<ipython-input-11-858d7f573432>:1: FutureWarning: The default value of regex will change from True to False in a future version.\n",
            "  df['sentence'] = df['sentence'].str.replace('[^\\w\\s]','')\n",
            "<ipython-input-11-858d7f573432>:2: FutureWarning: The default value of regex will change from True to False in a future version.\n",
            "  df_pred['sentence'] = df_pred['sentence'].str.replace('[^\\w\\s]','')\n"
          ]
        }
      ]
    },
    {
      "cell_type": "code",
      "source": [
        "!pip install -U pip setuptools wheel\n",
        "!pip install -U spacy\n",
        "!pip install -U wordstats\n",
        "!python -m spacy download fr_core_news_sm\n",
        "from spacy.lang.fr.stop_words import STOP_WORDS as fr_stopwords\n",
        "from wordstats import Word, common_words\n",
        "from collections import Counter\n",
        "import string\n",
        "import nltk\n",
        "import spacy\n",
        "nlp = spacy.load(\"fr_core_news_sm\")"
      ],
      "metadata": {
        "colab": {
          "base_uri": "https://localhost:8080/"
        },
        "id": "X_vOIItQ6WZB",
        "outputId": "232b3c31-8d36-4439-d9ce-086e06296dcf"
      },
      "id": "X_vOIItQ6WZB",
      "execution_count": null,
      "outputs": [
        {
          "output_type": "stream",
          "name": "stdout",
          "text": [
            "Looking in indexes: https://pypi.org/simple, https://us-python.pkg.dev/colab-wheels/public/simple/\n",
            "Requirement already satisfied: pip in /usr/local/lib/python3.8/dist-packages (21.1.3)\n",
            "Collecting pip\n",
            "  Downloading pip-22.3.1-py3-none-any.whl (2.1 MB)\n",
            "\u001b[K     |████████████████████████████████| 2.1 MB 5.3 MB/s \n",
            "\u001b[?25hRequirement already satisfied: setuptools in /usr/local/lib/python3.8/dist-packages (57.4.0)\n",
            "Collecting setuptools\n",
            "  Downloading setuptools-65.6.3-py3-none-any.whl (1.2 MB)\n",
            "\u001b[K     |████████████████████████████████| 1.2 MB 46.9 MB/s \n",
            "\u001b[?25hRequirement already satisfied: wheel in /usr/local/lib/python3.8/dist-packages (0.38.4)\n",
            "Installing collected packages: setuptools, pip\n",
            "  Attempting uninstall: setuptools\n",
            "    Found existing installation: setuptools 57.4.0\n",
            "    Uninstalling setuptools-57.4.0:\n",
            "      Successfully uninstalled setuptools-57.4.0\n",
            "  Attempting uninstall: pip\n",
            "    Found existing installation: pip 21.1.3\n",
            "    Uninstalling pip-21.1.3:\n",
            "      Successfully uninstalled pip-21.1.3\n",
            "\u001b[31mERROR: pip's dependency resolver does not currently take into account all the packages that are installed. This behaviour is the source of the following dependency conflicts.\n",
            "ipython 7.9.0 requires jedi>=0.10, which is not installed.\u001b[0m\n",
            "Successfully installed pip-22.3.1 setuptools-65.6.3\n"
          ]
        },
        {
          "output_type": "display_data",
          "data": {
            "application/vnd.colab-display-data+json": {
              "pip_warning": {
                "packages": [
                  "pkg_resources"
                ]
              }
            }
          },
          "metadata": {}
        },
        {
          "output_type": "stream",
          "name": "stdout",
          "text": [
            "Looking in indexes: https://pypi.org/simple, https://us-python.pkg.dev/colab-wheels/public/simple/\n",
            "Requirement already satisfied: spacy in /usr/local/lib/python3.8/dist-packages (3.4.4)\n",
            "Requirement already satisfied: requests<3.0.0,>=2.13.0 in /usr/local/lib/python3.8/dist-packages (from spacy) (2.23.0)\n",
            "Requirement already satisfied: numpy>=1.15.0 in /usr/local/lib/python3.8/dist-packages (from spacy) (1.21.6)\n",
            "Requirement already satisfied: packaging>=20.0 in /usr/local/lib/python3.8/dist-packages (from spacy) (21.3)\n",
            "Requirement already satisfied: jinja2 in /usr/local/lib/python3.8/dist-packages (from spacy) (2.11.3)\n",
            "Requirement already satisfied: srsly<3.0.0,>=2.4.3 in /usr/local/lib/python3.8/dist-packages (from spacy) (2.4.5)\n",
            "Requirement already satisfied: langcodes<4.0.0,>=3.2.0 in /usr/local/lib/python3.8/dist-packages (from spacy) (3.3.0)\n",
            "Requirement already satisfied: spacy-loggers<2.0.0,>=1.0.0 in /usr/local/lib/python3.8/dist-packages (from spacy) (1.0.4)\n",
            "Requirement already satisfied: murmurhash<1.1.0,>=0.28.0 in /usr/local/lib/python3.8/dist-packages (from spacy) (1.0.9)\n",
            "Requirement already satisfied: typer<0.8.0,>=0.3.0 in /usr/local/lib/python3.8/dist-packages (from spacy) (0.7.0)\n",
            "Requirement already satisfied: thinc<8.2.0,>=8.1.0 in /usr/local/lib/python3.8/dist-packages (from spacy) (8.1.5)\n",
            "Requirement already satisfied: pydantic!=1.8,!=1.8.1,<1.11.0,>=1.7.4 in /usr/local/lib/python3.8/dist-packages (from spacy) (1.10.2)\n",
            "Requirement already satisfied: cymem<2.1.0,>=2.0.2 in /usr/local/lib/python3.8/dist-packages (from spacy) (2.0.7)\n",
            "Requirement already satisfied: setuptools in /usr/local/lib/python3.8/dist-packages (from spacy) (65.6.3)\n",
            "Requirement already satisfied: preshed<3.1.0,>=3.0.2 in /usr/local/lib/python3.8/dist-packages (from spacy) (3.0.8)\n",
            "Requirement already satisfied: wasabi<1.1.0,>=0.9.1 in /usr/local/lib/python3.8/dist-packages (from spacy) (0.10.1)\n",
            "Requirement already satisfied: smart-open<7.0.0,>=5.2.1 in /usr/local/lib/python3.8/dist-packages (from spacy) (6.3.0)\n",
            "Requirement already satisfied: spacy-legacy<3.1.0,>=3.0.10 in /usr/local/lib/python3.8/dist-packages (from spacy) (3.0.10)\n",
            "Requirement already satisfied: pathy>=0.3.5 in /usr/local/lib/python3.8/dist-packages (from spacy) (0.10.1)\n",
            "Requirement already satisfied: catalogue<2.1.0,>=2.0.6 in /usr/local/lib/python3.8/dist-packages (from spacy) (2.0.8)\n",
            "Requirement already satisfied: tqdm<5.0.0,>=4.38.0 in /usr/local/lib/python3.8/dist-packages (from spacy) (4.64.1)\n",
            "Requirement already satisfied: pyparsing!=3.0.5,>=2.0.2 in /usr/local/lib/python3.8/dist-packages (from packaging>=20.0->spacy) (3.0.9)\n",
            "Requirement already satisfied: typing-extensions>=4.1.0 in /usr/local/lib/python3.8/dist-packages (from pydantic!=1.8,!=1.8.1,<1.11.0,>=1.7.4->spacy) (4.4.0)\n",
            "Requirement already satisfied: certifi>=2017.4.17 in /usr/local/lib/python3.8/dist-packages (from requests<3.0.0,>=2.13.0->spacy) (2022.12.7)\n",
            "Requirement already satisfied: chardet<4,>=3.0.2 in /usr/local/lib/python3.8/dist-packages (from requests<3.0.0,>=2.13.0->spacy) (3.0.4)\n",
            "Requirement already satisfied: urllib3!=1.25.0,!=1.25.1,<1.26,>=1.21.1 in /usr/local/lib/python3.8/dist-packages (from requests<3.0.0,>=2.13.0->spacy) (1.24.3)\n",
            "Requirement already satisfied: idna<3,>=2.5 in /usr/local/lib/python3.8/dist-packages (from requests<3.0.0,>=2.13.0->spacy) (2.10)\n",
            "Requirement already satisfied: confection<1.0.0,>=0.0.1 in /usr/local/lib/python3.8/dist-packages (from thinc<8.2.0,>=8.1.0->spacy) (0.0.3)\n",
            "Requirement already satisfied: blis<0.8.0,>=0.7.8 in /usr/local/lib/python3.8/dist-packages (from thinc<8.2.0,>=8.1.0->spacy) (0.7.9)\n",
            "Requirement already satisfied: click<9.0.0,>=7.1.1 in /usr/local/lib/python3.8/dist-packages (from typer<0.8.0,>=0.3.0->spacy) (7.1.2)\n",
            "Requirement already satisfied: MarkupSafe>=0.23 in /usr/local/lib/python3.8/dist-packages (from jinja2->spacy) (2.0.1)\n",
            "\u001b[33mWARNING: Running pip as the 'root' user can result in broken permissions and conflicting behaviour with the system package manager. It is recommended to use a virtual environment instead: https://pip.pypa.io/warnings/venv\u001b[0m\u001b[33m\n",
            "\u001b[0mLooking in indexes: https://pypi.org/simple, https://us-python.pkg.dev/colab-wheels/public/simple/\n",
            "Collecting wordstats\n",
            "  Downloading wordstats-1.0.7.tar.gz (3.6 MB)\n",
            "\u001b[2K     \u001b[90m━━━━━━━━━━━━━━━━━━━━━━━━━━━━━━━━━━━━━━━━\u001b[0m \u001b[32m3.6/3.6 MB\u001b[0m \u001b[31m36.4 MB/s\u001b[0m eta \u001b[36m0:00:00\u001b[0m\n",
            "\u001b[?25h  Preparing metadata (setup.py) ... \u001b[?25l\u001b[?25hdone\n",
            "Collecting configobj\n",
            "  Downloading configobj-5.0.6.tar.gz (33 kB)\n",
            "  Preparing metadata (setup.py) ... \u001b[?25l\u001b[?25hdone\n",
            "Requirement already satisfied: sqlalchemy in /usr/local/lib/python3.8/dist-packages (from wordstats) (1.4.45)\n",
            "Requirement already satisfied: six in /usr/local/lib/python3.8/dist-packages (from configobj->wordstats) (1.15.0)\n",
            "Requirement already satisfied: greenlet!=0.4.17 in /usr/local/lib/python3.8/dist-packages (from sqlalchemy->wordstats) (2.0.1)\n",
            "Building wheels for collected packages: wordstats, configobj\n",
            "  Building wheel for wordstats (setup.py) ... \u001b[?25l\u001b[?25hdone\n",
            "  Created wheel for wordstats: filename=wordstats-1.0.7-py3-none-any.whl size=3616363 sha256=91cc7406ceaa589c080387ef3c1e51849b47516b2655157b08f6d721ff7732c4\n",
            "  Stored in directory: /root/.cache/pip/wheels/07/27/7d/24ade697c516ed02f369a90c5fec463286a6a67a299f75b711\n",
            "  Building wheel for configobj (setup.py) ... \u001b[?25l\u001b[?25hdone\n",
            "  Created wheel for configobj: filename=configobj-5.0.6-py3-none-any.whl size=34527 sha256=cf37a91baf009d0d20ad21a75982647922a8983c80e89950d18e9ee7d891c2f5\n",
            "  Stored in directory: /root/.cache/pip/wheels/e0/ea/e1/7b17c0af6f0228de33d82556dbad4fe823d90696fc50f2c81d\n",
            "Successfully built wordstats configobj\n",
            "Installing collected packages: configobj, wordstats\n",
            "Successfully installed configobj-5.0.6 wordstats-1.0.7\n",
            "\u001b[33mWARNING: Running pip as the 'root' user can result in broken permissions and conflicting behaviour with the system package manager. It is recommended to use a virtual environment instead: https://pip.pypa.io/warnings/venv\u001b[0m\u001b[33m\n",
            "\u001b[0m/usr/local/lib/python3.8/dist-packages/torch/cuda/__init__.py:497: UserWarning: Can't initialize NVML\n",
            "  warnings.warn(\"Can't initialize NVML\")\n",
            "2022-12-21 12:01:32.095762: E tensorflow/stream_executor/cuda/cuda_driver.cc:271] failed call to cuInit: CUDA_ERROR_NO_DEVICE: no CUDA-capable device is detected\n",
            "Looking in indexes: https://pypi.org/simple, https://us-python.pkg.dev/colab-wheels/public/simple/\n",
            "Collecting fr-core-news-sm==3.4.0\n",
            "  Downloading https://github.com/explosion/spacy-models/releases/download/fr_core_news_sm-3.4.0/fr_core_news_sm-3.4.0-py3-none-any.whl (16.3 MB)\n",
            "\u001b[2K     \u001b[90m━━━━━━━━━━━━━━━━━━━━━━━━━━━━━━━━━━━━━━━━\u001b[0m \u001b[32m16.3/16.3 MB\u001b[0m \u001b[31m48.4 MB/s\u001b[0m eta \u001b[36m0:00:00\u001b[0m\n",
            "\u001b[?25hRequirement already satisfied: spacy<3.5.0,>=3.4.0 in /usr/local/lib/python3.8/dist-packages (from fr-core-news-sm==3.4.0) (3.4.4)\n",
            "Requirement already satisfied: packaging>=20.0 in /usr/local/lib/python3.8/dist-packages (from spacy<3.5.0,>=3.4.0->fr-core-news-sm==3.4.0) (21.3)\n",
            "Requirement already satisfied: catalogue<2.1.0,>=2.0.6 in /usr/local/lib/python3.8/dist-packages (from spacy<3.5.0,>=3.4.0->fr-core-news-sm==3.4.0) (2.0.8)\n",
            "Requirement already satisfied: smart-open<7.0.0,>=5.2.1 in /usr/local/lib/python3.8/dist-packages (from spacy<3.5.0,>=3.4.0->fr-core-news-sm==3.4.0) (6.3.0)\n",
            "Requirement already satisfied: pathy>=0.3.5 in /usr/local/lib/python3.8/dist-packages (from spacy<3.5.0,>=3.4.0->fr-core-news-sm==3.4.0) (0.10.1)\n",
            "Requirement already satisfied: preshed<3.1.0,>=3.0.2 in /usr/local/lib/python3.8/dist-packages (from spacy<3.5.0,>=3.4.0->fr-core-news-sm==3.4.0) (3.0.8)\n",
            "Requirement already satisfied: typer<0.8.0,>=0.3.0 in /usr/local/lib/python3.8/dist-packages (from spacy<3.5.0,>=3.4.0->fr-core-news-sm==3.4.0) (0.7.0)\n",
            "Requirement already satisfied: langcodes<4.0.0,>=3.2.0 in /usr/local/lib/python3.8/dist-packages (from spacy<3.5.0,>=3.4.0->fr-core-news-sm==3.4.0) (3.3.0)\n",
            "Requirement already satisfied: requests<3.0.0,>=2.13.0 in /usr/local/lib/python3.8/dist-packages (from spacy<3.5.0,>=3.4.0->fr-core-news-sm==3.4.0) (2.23.0)\n",
            "Requirement already satisfied: wasabi<1.1.0,>=0.9.1 in /usr/local/lib/python3.8/dist-packages (from spacy<3.5.0,>=3.4.0->fr-core-news-sm==3.4.0) (0.10.1)\n",
            "Requirement already satisfied: spacy-loggers<2.0.0,>=1.0.0 in /usr/local/lib/python3.8/dist-packages (from spacy<3.5.0,>=3.4.0->fr-core-news-sm==3.4.0) (1.0.4)\n",
            "Requirement already satisfied: setuptools in /usr/local/lib/python3.8/dist-packages (from spacy<3.5.0,>=3.4.0->fr-core-news-sm==3.4.0) (65.6.3)\n",
            "Requirement already satisfied: jinja2 in /usr/local/lib/python3.8/dist-packages (from spacy<3.5.0,>=3.4.0->fr-core-news-sm==3.4.0) (2.11.3)\n",
            "Requirement already satisfied: murmurhash<1.1.0,>=0.28.0 in /usr/local/lib/python3.8/dist-packages (from spacy<3.5.0,>=3.4.0->fr-core-news-sm==3.4.0) (1.0.9)\n",
            "Requirement already satisfied: srsly<3.0.0,>=2.4.3 in /usr/local/lib/python3.8/dist-packages (from spacy<3.5.0,>=3.4.0->fr-core-news-sm==3.4.0) (2.4.5)\n",
            "Requirement already satisfied: cymem<2.1.0,>=2.0.2 in /usr/local/lib/python3.8/dist-packages (from spacy<3.5.0,>=3.4.0->fr-core-news-sm==3.4.0) (2.0.7)\n",
            "Requirement already satisfied: numpy>=1.15.0 in /usr/local/lib/python3.8/dist-packages (from spacy<3.5.0,>=3.4.0->fr-core-news-sm==3.4.0) (1.21.6)\n",
            "Requirement already satisfied: spacy-legacy<3.1.0,>=3.0.10 in /usr/local/lib/python3.8/dist-packages (from spacy<3.5.0,>=3.4.0->fr-core-news-sm==3.4.0) (3.0.10)\n",
            "Requirement already satisfied: tqdm<5.0.0,>=4.38.0 in /usr/local/lib/python3.8/dist-packages (from spacy<3.5.0,>=3.4.0->fr-core-news-sm==3.4.0) (4.64.1)\n",
            "Requirement already satisfied: pydantic!=1.8,!=1.8.1,<1.11.0,>=1.7.4 in /usr/local/lib/python3.8/dist-packages (from spacy<3.5.0,>=3.4.0->fr-core-news-sm==3.4.0) (1.10.2)\n",
            "Requirement already satisfied: thinc<8.2.0,>=8.1.0 in /usr/local/lib/python3.8/dist-packages (from spacy<3.5.0,>=3.4.0->fr-core-news-sm==3.4.0) (8.1.5)\n",
            "Requirement already satisfied: pyparsing!=3.0.5,>=2.0.2 in /usr/local/lib/python3.8/dist-packages (from packaging>=20.0->spacy<3.5.0,>=3.4.0->fr-core-news-sm==3.4.0) (3.0.9)\n",
            "Requirement already satisfied: typing-extensions>=4.1.0 in /usr/local/lib/python3.8/dist-packages (from pydantic!=1.8,!=1.8.1,<1.11.0,>=1.7.4->spacy<3.5.0,>=3.4.0->fr-core-news-sm==3.4.0) (4.4.0)\n",
            "Requirement already satisfied: certifi>=2017.4.17 in /usr/local/lib/python3.8/dist-packages (from requests<3.0.0,>=2.13.0->spacy<3.5.0,>=3.4.0->fr-core-news-sm==3.4.0) (2022.12.7)\n",
            "Requirement already satisfied: idna<3,>=2.5 in /usr/local/lib/python3.8/dist-packages (from requests<3.0.0,>=2.13.0->spacy<3.5.0,>=3.4.0->fr-core-news-sm==3.4.0) (2.10)\n",
            "Requirement already satisfied: urllib3!=1.25.0,!=1.25.1,<1.26,>=1.21.1 in /usr/local/lib/python3.8/dist-packages (from requests<3.0.0,>=2.13.0->spacy<3.5.0,>=3.4.0->fr-core-news-sm==3.4.0) (1.24.3)\n",
            "Requirement already satisfied: chardet<4,>=3.0.2 in /usr/local/lib/python3.8/dist-packages (from requests<3.0.0,>=2.13.0->spacy<3.5.0,>=3.4.0->fr-core-news-sm==3.4.0) (3.0.4)\n",
            "Requirement already satisfied: blis<0.8.0,>=0.7.8 in /usr/local/lib/python3.8/dist-packages (from thinc<8.2.0,>=8.1.0->spacy<3.5.0,>=3.4.0->fr-core-news-sm==3.4.0) (0.7.9)\n",
            "Requirement already satisfied: confection<1.0.0,>=0.0.1 in /usr/local/lib/python3.8/dist-packages (from thinc<8.2.0,>=8.1.0->spacy<3.5.0,>=3.4.0->fr-core-news-sm==3.4.0) (0.0.3)\n",
            "Requirement already satisfied: click<9.0.0,>=7.1.1 in /usr/local/lib/python3.8/dist-packages (from typer<0.8.0,>=0.3.0->spacy<3.5.0,>=3.4.0->fr-core-news-sm==3.4.0) (7.1.2)\n",
            "Requirement already satisfied: MarkupSafe>=0.23 in /usr/local/lib/python3.8/dist-packages (from jinja2->spacy<3.5.0,>=3.4.0->fr-core-news-sm==3.4.0) (2.0.1)\n",
            "Installing collected packages: fr-core-news-sm\n",
            "Successfully installed fr-core-news-sm-3.4.0\n",
            "\u001b[33mWARNING: Running pip as the 'root' user can result in broken permissions and conflicting behaviour with the system package manager. It is recommended to use a virtual environment instead: https://pip.pypa.io/warnings/venv\u001b[0m\u001b[33m\n",
            "\u001b[0m\u001b[38;5;2m✔ Download and installation successful\u001b[0m\n",
            "You can now load the package via spacy.load('fr_core_news_sm')\n"
          ]
        },
        {
          "output_type": "stream",
          "name": "stderr",
          "text": [
            "/usr/local/lib/python3.8/dist-packages/torch/cuda/__init__.py:497: UserWarning: Can't initialize NVML\n",
            "  warnings.warn(\"Can't initialize NVML\")\n"
          ]
        }
      ]
    },
    {
      "cell_type": "code",
      "source": [
        "spacy_stopwords = spacy.lang.fr.stop_words.STOP_WORDS\n",
        "print('Number of stopwords: %d' % len(spacy_stopwords))"
      ],
      "metadata": {
        "id": "dHSQRtj86Kt5",
        "colab": {
          "base_uri": "https://localhost:8080/"
        },
        "outputId": "210c08d4-4c82-4a45-8ebf-24c72c6c3bd5"
      },
      "id": "dHSQRtj86Kt5",
      "execution_count": null,
      "outputs": [
        {
          "output_type": "stream",
          "name": "stdout",
          "text": [
            "Number of stopwords: 507\n"
          ]
        }
      ]
    },
    {
      "cell_type": "code",
      "source": [
        "def remove_stopwords(text):\n",
        "    doc = nlp(text)\n",
        "    words = [chunk.lemma_ for chunk in doc.noun_chunks if chunk.lemma_ not in nlp.Defaults.stop_words]\n",
        "    return \" \".join(words)\n",
        "df['sentence'] = df['sentence'].apply(remove_stopwords)\n",
        "df_pred['sentence'] = df_pred['sentence'].apply(remove_stopwords)"
      ],
      "metadata": {
        "id": "V8Jg4W6-6NBC"
      },
      "id": "V8Jg4W6-6NBC",
      "execution_count": null,
      "outputs": []
    },
    {
      "cell_type": "markdown",
      "metadata": {
        "id": "1ed9b8ac-ceff-49e6-8eba-75f4ebdca118"
      },
      "source": [
        "# 5. Classification Algorithms\n",
        "\n",
        "Dependent variable (y) is the column named \"difficulty\".\n",
        "<br>We split the data into 80% training and 20% test set.\n"
      ],
      "id": "1ed9b8ac-ceff-49e6-8eba-75f4ebdca118"
    },
    {
      "cell_type": "code",
      "source": [
        "y = df['difficulty']\n",
        "X = df['sentence']\n",
        "X_pred = df_pred['sentence']"
      ],
      "metadata": {
        "id": "_SuSQwepLpjG"
      },
      "id": "_SuSQwepLpjG",
      "execution_count": null,
      "outputs": []
    },
    {
      "cell_type": "markdown",
      "metadata": {
        "id": "851a232b-52ae-4fef-b899-f4fdc366ca40"
      },
      "source": [
        "### i. Logistic Regression.\n",
        "We use the following parameters for the LogisticRegressionCV():\n",
        "\n",
        "* cross-validation to 5 folds\n",
        "* maximum interation to 1000\n",
        "* random state to 0"
      ],
      "id": "851a232b-52ae-4fef-b899-f4fdc366ca40"
    },
    {
      "cell_type": "code",
      "source": [
        "from sklearn.feature_extraction.text import CountVectorizer, TfidfVectorizer\n",
        "from sklearn.linear_model import LogisticRegression, LogisticRegressionCV\n",
        "from sklearn.pipeline import Pipeline\n",
        "from sklearn.model_selection import train_test_split\n",
        "from sklearn.metrics import confusion_matrix, accuracy_score, precision_score, recall_score, f1_score"
      ],
      "metadata": {
        "id": "tkJ877iFyfro"
      },
      "id": "tkJ877iFyfro",
      "execution_count": null,
      "outputs": []
    },
    {
      "cell_type": "code",
      "source": [
        "tfidf = TfidfVectorizer(ngram_range=(1, 1))"
      ],
      "metadata": {
        "id": "RRlFzNyzyitq"
      },
      "id": "RRlFzNyzyitq",
      "execution_count": null,
      "outputs": []
    },
    {
      "cell_type": "code",
      "source": [
        "X_train, X_test, y_train, y_test = train_test_split(X, y, test_size=0.2, random_state=0)\n",
        "\n",
        "classifier = LogisticRegressionCV(solver='lbfgs', cv=5, max_iter=1000, random_state=0)\n",
        "pl = Pipeline([('vectorizer', tfidf),\n",
        "                 ('classifier', classifier)])\n",
        "pl.fit(X_train, y_train)"
      ],
      "metadata": {
        "id": "J4RfJ_iZylZn",
        "colab": {
          "base_uri": "https://localhost:8080/"
        },
        "outputId": "f9ad81d5-0194-4624-cffe-e1e6e1babb9e"
      },
      "id": "J4RfJ_iZylZn",
      "execution_count": null,
      "outputs": [
        {
          "output_type": "stream",
          "name": "stderr",
          "text": [
            "/usr/local/lib/python3.8/dist-packages/sklearn/linear_model/_logistic.py:814: ConvergenceWarning: lbfgs failed to converge (status=1):\n",
            "STOP: TOTAL NO. of ITERATIONS REACHED LIMIT.\n",
            "\n",
            "Increase the number of iterations (max_iter) or scale the data as shown in:\n",
            "    https://scikit-learn.org/stable/modules/preprocessing.html\n",
            "Please also refer to the documentation for alternative solver options:\n",
            "    https://scikit-learn.org/stable/modules/linear_model.html#logistic-regression\n",
            "  n_iter_i = _check_optimize_result(\n",
            "/usr/local/lib/python3.8/dist-packages/sklearn/linear_model/_logistic.py:814: ConvergenceWarning: lbfgs failed to converge (status=1):\n",
            "STOP: TOTAL NO. of ITERATIONS REACHED LIMIT.\n",
            "\n",
            "Increase the number of iterations (max_iter) or scale the data as shown in:\n",
            "    https://scikit-learn.org/stable/modules/preprocessing.html\n",
            "Please also refer to the documentation for alternative solver options:\n",
            "    https://scikit-learn.org/stable/modules/linear_model.html#logistic-regression\n",
            "  n_iter_i = _check_optimize_result(\n",
            "/usr/local/lib/python3.8/dist-packages/sklearn/linear_model/_logistic.py:814: ConvergenceWarning: lbfgs failed to converge (status=1):\n",
            "STOP: TOTAL NO. of ITERATIONS REACHED LIMIT.\n",
            "\n",
            "Increase the number of iterations (max_iter) or scale the data as shown in:\n",
            "    https://scikit-learn.org/stable/modules/preprocessing.html\n",
            "Please also refer to the documentation for alternative solver options:\n",
            "    https://scikit-learn.org/stable/modules/linear_model.html#logistic-regression\n",
            "  n_iter_i = _check_optimize_result(\n",
            "/usr/local/lib/python3.8/dist-packages/sklearn/linear_model/_logistic.py:814: ConvergenceWarning: lbfgs failed to converge (status=1):\n",
            "STOP: TOTAL NO. of ITERATIONS REACHED LIMIT.\n",
            "\n",
            "Increase the number of iterations (max_iter) or scale the data as shown in:\n",
            "    https://scikit-learn.org/stable/modules/preprocessing.html\n",
            "Please also refer to the documentation for alternative solver options:\n",
            "    https://scikit-learn.org/stable/modules/linear_model.html#logistic-regression\n",
            "  n_iter_i = _check_optimize_result(\n",
            "/usr/local/lib/python3.8/dist-packages/sklearn/linear_model/_logistic.py:814: ConvergenceWarning: lbfgs failed to converge (status=1):\n",
            "STOP: TOTAL NO. of ITERATIONS REACHED LIMIT.\n",
            "\n",
            "Increase the number of iterations (max_iter) or scale the data as shown in:\n",
            "    https://scikit-learn.org/stable/modules/preprocessing.html\n",
            "Please also refer to the documentation for alternative solver options:\n",
            "    https://scikit-learn.org/stable/modules/linear_model.html#logistic-regression\n",
            "  n_iter_i = _check_optimize_result(\n"
          ]
        },
        {
          "output_type": "execute_result",
          "data": {
            "text/plain": [
              "Pipeline(steps=[('vectorizer', TfidfVectorizer()),\n",
              "                ('classifier',\n",
              "                 LogisticRegressionCV(cv=5, max_iter=1000, random_state=0))])"
            ]
          },
          "metadata": {},
          "execution_count": 18
        }
      ]
    },
    {
      "cell_type": "code",
      "source": [
        "def evaluate(true, pred):\n",
        "    precision = precision_score(true, pred,average='macro')\n",
        "    recall = recall_score(true, pred,average='macro')\n",
        "    f1 = f1_score(true, pred,average='macro')\n",
        "    print(f\"CONFUSION MATRIX:\\n{confusion_matrix(true, pred)}\")\n",
        "    print(f\"ACCURACY SCORE:\\n{accuracy_score(true, pred):.4f}\")\n",
        "    print(f\"CLASSIFICATION REPORT:\\n\\tPrecision: {precision:.4f}\\n\\tRecall: {recall:.4f}\\n\\tF1_Score: {f1:.4f}\")"
      ],
      "metadata": {
        "id": "INIElRiHz0UX"
      },
      "id": "INIElRiHz0UX",
      "execution_count": null,
      "outputs": []
    },
    {
      "cell_type": "code",
      "source": [
        "y_pred = pl.predict(X_test)\n",
        "evaluate(y_test, y_pred)"
      ],
      "metadata": {
        "id": "Sy_GwZGjz2Gd",
        "colab": {
          "base_uri": "https://localhost:8080/"
        },
        "outputId": "930d60fb-6c69-4c7a-f372-0139834447cd"
      },
      "id": "Sy_GwZGjz2Gd",
      "execution_count": null,
      "outputs": [
        {
          "output_type": "stream",
          "name": "stdout",
          "text": [
            "CONFUSION MATRIX:\n",
            "[[88 28 23  7 12  3]\n",
            " [54 51 27  8 13 11]\n",
            " [25 29 52 17 12 25]\n",
            " [11 13 17 49 24 30]\n",
            " [17  2 21 36 59 38]\n",
            " [12 10  8 19 35 74]]\n",
            "ACCURACY SCORE:\n",
            "0.3885\n",
            "CLASSIFICATION REPORT:\n",
            "\tPrecision: 0.3850\n",
            "\tRecall: 0.3887\n",
            "\tF1_Score: 0.3843\n"
          ]
        }
      ]
    },
    {
      "cell_type": "code",
      "source": [
        "predict = pl.predict(X_pred)"
      ],
      "metadata": {
        "id": "mkzoV43wUXg7"
      },
      "id": "mkzoV43wUXg7",
      "execution_count": null,
      "outputs": []
    },
    {
      "cell_type": "code",
      "source": [
        "submission= pd.DataFrame()\n",
        "submission['id']= df_pred.index\n",
        "submission['difficulty'] = predict"
      ],
      "metadata": {
        "id": "ATPRd253PKOi"
      },
      "id": "ATPRd253PKOi",
      "execution_count": null,
      "outputs": []
    },
    {
      "cell_type": "code",
      "source": [
        "submission.to_csv(\"submission.csv\", index=False)"
      ],
      "metadata": {
        "id": "e5Xw5TVOVcHH"
      },
      "id": "e5Xw5TVOVcHH",
      "execution_count": null,
      "outputs": []
    },
    {
      "cell_type": "markdown",
      "metadata": {
        "id": "e11dd429-ad14-423c-9259-c6a3ee7c0d14"
      },
      "source": [
        "### ii. kNNeighbours"
      ],
      "id": "e11dd429-ad14-423c-9259-c6a3ee7c0d14"
    },
    {
      "cell_type": "code",
      "execution_count": null,
      "metadata": {
        "id": "75f2e491-b232-4843-9c4a-605c8993ce66",
        "colab": {
          "base_uri": "https://localhost:8080/"
        },
        "outputId": "b82087e1-a1c8-4f71-e866-6d26ae99365b"
      },
      "outputs": [
        {
          "output_type": "stream",
          "name": "stdout",
          "text": [
            "Hyperparameters: {'n_neighbors': 1, 'p': 1, 'weights': 'uniform'}\n"
          ]
        }
      ],
      "source": [
        "from sklearn.neighbors import KNeighborsClassifier\n",
        "from sklearn.model_selection import GridSearchCV\n",
        "\n",
        "grid = {'n_neighbors':np.arange(1,100),\n",
        "        'p':np.arange(1,3),\n",
        "        'weights':['uniform','distance']}\n",
        "\n",
        "knn = KNeighborsClassifier()\n",
        "classifier_knn = GridSearchCV(knn, grid, cv=5)\n",
        "\n",
        "pl_knn = Pipeline([('vectorizer', tfidf),\n",
        "                 ('classifier', classifier_knn)])\n",
        "\n",
        "pl_knn.fit(X_train, y_train)\n",
        "\n",
        "print(\"Hyperparameters:\", classifier_knn.best_params_)"
      ],
      "id": "75f2e491-b232-4843-9c4a-605c8993ce66"
    },
    {
      "cell_type": "code",
      "execution_count": null,
      "metadata": {
        "id": "ed483f3e-f0e5-413b-bd2c-872ce23ef324",
        "colab": {
          "base_uri": "https://localhost:8080/"
        },
        "outputId": "d73df980-e48e-42b4-8447-42d2492b4694"
      },
      "outputs": [
        {
          "output_type": "stream",
          "name": "stdout",
          "text": [
            "CONFUSION MATRIX:\n",
            "[[126  20  11   4   0   0]\n",
            " [119  35   9   1   0   0]\n",
            " [120  25  12   2   0   1]\n",
            " [118  11   6   8   0   1]\n",
            " [151   3   6   3   7   3]\n",
            " [134   8   2   2   3   9]]\n",
            "ACCURACY SCORE:\n",
            "0.2052\n",
            "CLASSIFICATION REPORT:\n",
            "\tPrecision: 0.4185\n",
            "\tRecall: 0.2040\n",
            "\tF1_Score: 0.1549\n"
          ]
        }
      ],
      "source": [
        "y_knn_predict = pl_knn.predict(X_test)\n",
        "evaluate(y_test, y_knn_predict)"
      ],
      "id": "ed483f3e-f0e5-413b-bd2c-872ce23ef324"
    },
    {
      "cell_type": "code",
      "source": [
        "knn_predict = pl_knn.predict(X_pred)\n",
        "submission_knn= pd.DataFrame()\n",
        "submission_knn['id']= df_pred.index\n",
        "submission_knn['difficulty'] = knn_predict\n",
        "submission_knn.to_csv(\"submissionknn.csv\", index=False)"
      ],
      "metadata": {
        "id": "_CtTVrqAbjZu"
      },
      "id": "_CtTVrqAbjZu",
      "execution_count": null,
      "outputs": []
    },
    {
      "cell_type": "markdown",
      "metadata": {
        "id": "303c76ba-3145-44cc-8bf2-b3126a7e8d1e"
      },
      "source": [
        "###  iii. Decision Trees"
      ],
      "id": "303c76ba-3145-44cc-8bf2-b3126a7e8d1e"
    },
    {
      "cell_type": "code",
      "execution_count": null,
      "metadata": {
        "id": "671ccc9f-8938-455f-a81c-32e0f72eae3a",
        "colab": {
          "base_uri": "https://localhost:8080/"
        },
        "outputId": "c40eb918-906b-4776-c1c2-04fabbf72e6a"
      },
      "outputs": [
        {
          "output_type": "stream",
          "name": "stdout",
          "text": [
            "CONFUSION MATRIX:\n",
            "[[82 21 30 14  7  7]\n",
            " [61 40 24 22  8  9]\n",
            " [28 28 58 24  7 15]\n",
            " [14 13 21 49 23 24]\n",
            " [10 19 35 40 28 41]\n",
            " [16 18 22 30 33 39]]\n",
            "ACCURACY SCORE:\n",
            "0.3083\n",
            "CLASSIFICATION REPORT:\n",
            "\tPrecision: 0.3014\n",
            "\tRecall: 0.3108\n",
            "\tF1_Score: 0.3011\n"
          ]
        }
      ],
      "source": [
        "from sklearn.tree import DecisionTreeClassifier\n",
        "\n",
        "dtc = DecisionTreeClassifier()\n",
        "pl_dtc = Pipeline([('vectorizer', tfidf),\n",
        "                 ('classifier', dtc)])\n",
        "pl_dtc.fit(X_train, y_train)\n",
        "y_pred_dtc = pl_dtc.predict(X_test)\n",
        "\n",
        "evaluate(y_test, y_pred_dtc)"
      ],
      "id": "671ccc9f-8938-455f-a81c-32e0f72eae3a"
    },
    {
      "cell_type": "code",
      "source": [
        "dtc_predict = pl_dtc.predict(X_pred)\n",
        "submission_dtc= pd.DataFrame()\n",
        "submission_dtc['id']= df_pred.index\n",
        "submission_dtc['difficulty'] = dtc_predict\n",
        "submission_dtc.to_csv(\"submissiondtc.csv\", index=False)"
      ],
      "metadata": {
        "id": "fQtbzd0q72Ci"
      },
      "id": "fQtbzd0q72Ci",
      "execution_count": null,
      "outputs": []
    },
    {
      "cell_type": "markdown",
      "metadata": {
        "id": "c16f0415-3d38-4e34-9da0-72e9136a0275"
      },
      "source": [
        "### iv. Random Forest Model"
      ],
      "id": "c16f0415-3d38-4e34-9da0-72e9136a0275"
    },
    {
      "cell_type": "code",
      "execution_count": null,
      "metadata": {
        "id": "6c9cd5fd-8887-4620-b129-79b3d98a4985",
        "colab": {
          "base_uri": "https://localhost:8080/"
        },
        "outputId": "8065bcdf-8b1c-4e45-f78c-d76861a6a800"
      },
      "outputs": [
        {
          "output_type": "stream",
          "name": "stdout",
          "text": [
            "CONFUSION MATRIX:\n",
            "[[97 30 23  8  1  2]\n",
            " [65 55 32  6  4  2]\n",
            " [29 45 53 12  4 17]\n",
            " [22 15 25 38 13 31]\n",
            " [13 18 28 35 44 35]\n",
            " [16 18 20 19 19 66]]\n",
            "ACCURACY SCORE:\n",
            "0.3677\n",
            "CLASSIFICATION REPORT:\n",
            "\tPrecision: 0.3781\n",
            "\tRecall: 0.3675\n",
            "\tF1_Score: 0.3611\n"
          ]
        }
      ],
      "source": [
        "from sklearn.ensemble import RandomForestClassifier\n",
        "rfc = RandomForestClassifier()\n",
        "pl_rfc = Pipeline([('vectorizer', tfidf),\n",
        "                 ('classifier', rfc)])\n",
        "\n",
        "pl_rfc.fit(X_train, y_train)\n",
        "\n",
        "y_pred_rfc = pl_rfc.predict(X_test)\n",
        "\n",
        "evaluate(y_test, y_pred_rfc)"
      ],
      "id": "6c9cd5fd-8887-4620-b129-79b3d98a4985"
    },
    {
      "cell_type": "code",
      "source": [
        "rfc_predict = pl_rfc.predict(X_pred)\n",
        "submission_rfc= pd.DataFrame()\n",
        "submission_rfc['id']= df_pred.index\n",
        "submission_rfc['difficulty'] = rfc_predict\n",
        "submission_rfc.to_csv(\"submissionrfc.csv\", index=False)"
      ],
      "metadata": {
        "id": "zdpqS6XQ9Fka"
      },
      "id": "zdpqS6XQ9Fka",
      "execution_count": null,
      "outputs": []
    },
    {
      "cell_type": "markdown",
      "source": [
        "### v. Support Vector Classifier"
      ],
      "metadata": {
        "id": "t5cvCAopGqnu"
      },
      "id": "t5cvCAopGqnu"
    },
    {
      "cell_type": "code",
      "source": [
        "from sklearn.svm import SVC\n",
        "\n",
        "svc = SVC()\n",
        "pl_svc = Pipeline([('vectorizer', tfidf),\n",
        "                 ('classifier', svc)])\n",
        "\n",
        "pl_svc.fit(X_train, y_train)\n",
        "\n",
        "y_pred_svc = pl_svc.predict(X_test)\n",
        "\n",
        "evaluate(y_test, y_pred_svc)"
      ],
      "metadata": {
        "id": "eGcgutdQHFPL",
        "colab": {
          "base_uri": "https://localhost:8080/"
        },
        "outputId": "fbe2f468-dc9c-4bc7-c8a0-ec9c7c3932ee"
      },
      "id": "eGcgutdQHFPL",
      "execution_count": null,
      "outputs": [
        {
          "output_type": "stream",
          "name": "stdout",
          "text": [
            "CONFUSION MATRIX:\n",
            "[[83 25 30 14  7  2]\n",
            " [47 49 31 15 11 11]\n",
            " [14 26 59 26 12 23]\n",
            " [ 6  7 21 59 17 34]\n",
            " [ 3  3 24 47 52 44]\n",
            " [ 7 12  9 24 30 76]]\n",
            "ACCURACY SCORE:\n",
            "0.3937\n",
            "CLASSIFICATION REPORT:\n",
            "\tPrecision: 0.3969\n",
            "\tRecall: 0.3957\n",
            "\tF1_Score: 0.3921\n"
          ]
        }
      ]
    },
    {
      "cell_type": "code",
      "source": [
        "svc_predict = pl_svc.predict(X_pred)\n",
        "submission_svc= pd.DataFrame()\n",
        "submission_svc['id']= df_pred.index\n",
        "submission_svc['difficulty'] = svc_predict\n",
        "submission_svc.to_csv(\"submissionsvc.csv\", index=False)"
      ],
      "metadata": {
        "id": "-1tqMhHUoOWT"
      },
      "id": "-1tqMhHUoOWT",
      "execution_count": null,
      "outputs": []
    },
    {
      "cell_type": "markdown",
      "source": [
        "###vi. AdaBoostClassifier"
      ],
      "metadata": {
        "id": "ONXQmeIaosS7"
      },
      "id": "ONXQmeIaosS7"
    },
    {
      "cell_type": "code",
      "source": [
        "from sklearn.ensemble import AdaBoostClassifier\n",
        "\n",
        "abc = AdaBoostClassifier()\n",
        "pl_abc = Pipeline([('vectorizer', tfidf),\n",
        "                 ('classifier', abc)])\n",
        "\n",
        "pl_abc.fit(X_train, y_train)\n",
        "\n",
        "y_pred_abc = pl_abc.predict(X_test)\n",
        "\n",
        "evaluate(y_test, y_pred_abc)"
      ],
      "metadata": {
        "id": "WucIMtbKor2-",
        "colab": {
          "base_uri": "https://localhost:8080/"
        },
        "outputId": "e3265290-58d0-45e5-dff3-d60c4af4f559"
      },
      "id": "WucIMtbKor2-",
      "execution_count": null,
      "outputs": [
        {
          "output_type": "stream",
          "name": "stdout",
          "text": [
            "CONFUSION MATRIX:\n",
            "[[75 24 27 28  7  0]\n",
            " [58 32 26 38  3  7]\n",
            " [27 29 25 53 13 13]\n",
            " [13  4 19 47 34 27]\n",
            " [11  6 23 52 41 40]\n",
            " [15  4 18 34 30 57]]\n",
            "ACCURACY SCORE:\n",
            "0.2885\n",
            "CLASSIFICATION REPORT:\n",
            "\tPrecision: 0.2973\n",
            "\tRecall: 0.2902\n",
            "\tF1_Score: 0.2858\n"
          ]
        }
      ]
    },
    {
      "cell_type": "code",
      "source": [
        "from sklearn.neural_network import MLPClassifier\n",
        "\n",
        "mlpc = MLPClassifier()\n",
        "pl_mlpc = Pipeline([('vectorizer', tfidf),\n",
        "                 ('classifier', mlpc)])\n",
        "\n",
        "pl_mlpc.fit(X_train, y_train)\n",
        "\n",
        "y_pred_mlpc = pl_mlpc.predict(X_test)\n",
        "\n",
        "evaluate(y_test, y_pred_mlpc)"
      ],
      "metadata": {
        "id": "utYUWabypc4e",
        "colab": {
          "base_uri": "https://localhost:8080/"
        },
        "outputId": "dabd9f63-54cd-42b1-d819-aaa0202cd88f"
      },
      "id": "utYUWabypc4e",
      "execution_count": null,
      "outputs": [
        {
          "output_type": "stream",
          "name": "stdout",
          "text": [
            "CONFUSION MATRIX:\n",
            "[[92 28 24  9  6  2]\n",
            " [58 54 31 11  4  6]\n",
            " [22 48 54 14  9 13]\n",
            " [ 6 28 26 44 20 20]\n",
            " [ 9 22 30 36 53 23]\n",
            " [10 21 15 22 29 61]]\n",
            "ACCURACY SCORE:\n",
            "0.3729\n",
            "CLASSIFICATION REPORT:\n",
            "\tPrecision: 0.3809\n",
            "\tRecall: 0.3727\n",
            "\tF1_Score: 0.3722\n"
          ]
        },
        {
          "output_type": "stream",
          "name": "stderr",
          "text": [
            "/usr/local/lib/python3.8/dist-packages/sklearn/neural_network/_multilayer_perceptron.py:692: ConvergenceWarning: Stochastic Optimizer: Maximum iterations (200) reached and the optimization hasn't converged yet.\n",
            "  warnings.warn(\n"
          ]
        }
      ]
    },
    {
      "cell_type": "code",
      "source": [
        "mlpc_predict = pl_mlpc.predict(X_pred)\n",
        "submission_mlpc= pd.DataFrame()\n",
        "submission_mlpc['id']= df_pred.index\n",
        "submission_mlpc['difficulty'] = mlpc_predict\n",
        "submission_mlpc.to_csv(\"submissionmlpc.csv\", index=False)"
      ],
      "metadata": {
        "id": "YMpAdpswqa-a"
      },
      "id": "YMpAdpswqa-a",
      "execution_count": null,
      "outputs": []
    },
    {
      "cell_type": "markdown",
      "source": [
        "# 6. Comparing the models"
      ],
      "metadata": {
        "id": "5VaAqt-eruDS"
      },
      "id": "5VaAqt-eruDS"
    },
    {
      "cell_type": "code",
      "source": [
        "import pandas as pd\n",
        "\n",
        "df_comparison = pd.DataFrame(columns=['Model_Name', 'Base_Rate', 'Precisions','Recall','F1-Score', 'Accuracy'])\n",
        "\n",
        "\n",
        "df_comparison['Model_Name'] = ['Logistic Reg', 'KNN', 'Tree', 'Random Forest', 'Support Vector', 'AdaBooster', 'MLPC']\n",
        "df_comparison['Base_Rate'] = ['0.1694', '0.1694', '0.1694', '0.1694', '0.1694', '0.1694', '0.1694']\n",
        "df_comparison['Precisions'] = ['0.3850', '0.4185', '0.3014','0.3781', '0.3969', '0.2973', '0.3809']\n",
        "df_comparison['Recall'] = ['0.3887', '0.2040', '0.3108','0.3675', '0.3957', '0.2902', '0.3727']\n",
        "df_comparison['F1-Score'] = ['0.3843', '0.1549', '0.3011','0.3611', '0.3921', '0.2858', '0.3722']\n",
        "df_comparison['Accuracy'] = ['0.3885', '0.2052', '0.3083','0.3677', '0.3937', '0.2885', '0.3729']\n",
        "\n",
        "\n",
        "df_comparison"
      ],
      "metadata": {
        "colab": {
          "base_uri": "https://localhost:8080/",
          "height": 269
        },
        "id": "0syKwaRrrwI0",
        "outputId": "132f737e-f946-4743-90fb-2c9b93bbde23"
      },
      "id": "0syKwaRrrwI0",
      "execution_count": 1,
      "outputs": [
        {
          "output_type": "execute_result",
          "data": {
            "text/plain": [
              "       Model_Name Base_Rate Precisions  Recall F1-Score Accuracy\n",
              "0    Logistic Reg    0.1694     0.3850  0.3887   0.3843   0.3885\n",
              "1             KNN    0.1694     0.4185  0.2040   0.1549   0.2052\n",
              "2            Tree    0.1694     0.3014  0.3108   0.3011   0.3083\n",
              "3   Random Forest    0.1694     0.3781  0.3675   0.3611   0.3677\n",
              "4  Support Vector    0.1694     0.3969  0.3957   0.3921   0.3937\n",
              "5      AdaBooster    0.1694     0.2973  0.2902   0.2858   0.2885\n",
              "6            MLPC    0.1694     0.3809  0.3727   0.3722   0.3729"
            ],
            "text/html": [
              "\n",
              "  <div id=\"df-2a206ba0-ba32-44eb-9dab-b9cd7ff3ec6c\">\n",
              "    <div class=\"colab-df-container\">\n",
              "      <div>\n",
              "<style scoped>\n",
              "    .dataframe tbody tr th:only-of-type {\n",
              "        vertical-align: middle;\n",
              "    }\n",
              "\n",
              "    .dataframe tbody tr th {\n",
              "        vertical-align: top;\n",
              "    }\n",
              "\n",
              "    .dataframe thead th {\n",
              "        text-align: right;\n",
              "    }\n",
              "</style>\n",
              "<table border=\"1\" class=\"dataframe\">\n",
              "  <thead>\n",
              "    <tr style=\"text-align: right;\">\n",
              "      <th></th>\n",
              "      <th>Model_Name</th>\n",
              "      <th>Base_Rate</th>\n",
              "      <th>Precisions</th>\n",
              "      <th>Recall</th>\n",
              "      <th>F1-Score</th>\n",
              "      <th>Accuracy</th>\n",
              "    </tr>\n",
              "  </thead>\n",
              "  <tbody>\n",
              "    <tr>\n",
              "      <th>0</th>\n",
              "      <td>Logistic Reg</td>\n",
              "      <td>0.1694</td>\n",
              "      <td>0.3850</td>\n",
              "      <td>0.3887</td>\n",
              "      <td>0.3843</td>\n",
              "      <td>0.3885</td>\n",
              "    </tr>\n",
              "    <tr>\n",
              "      <th>1</th>\n",
              "      <td>KNN</td>\n",
              "      <td>0.1694</td>\n",
              "      <td>0.4185</td>\n",
              "      <td>0.2040</td>\n",
              "      <td>0.1549</td>\n",
              "      <td>0.2052</td>\n",
              "    </tr>\n",
              "    <tr>\n",
              "      <th>2</th>\n",
              "      <td>Tree</td>\n",
              "      <td>0.1694</td>\n",
              "      <td>0.3014</td>\n",
              "      <td>0.3108</td>\n",
              "      <td>0.3011</td>\n",
              "      <td>0.3083</td>\n",
              "    </tr>\n",
              "    <tr>\n",
              "      <th>3</th>\n",
              "      <td>Random Forest</td>\n",
              "      <td>0.1694</td>\n",
              "      <td>0.3781</td>\n",
              "      <td>0.3675</td>\n",
              "      <td>0.3611</td>\n",
              "      <td>0.3677</td>\n",
              "    </tr>\n",
              "    <tr>\n",
              "      <th>4</th>\n",
              "      <td>Support Vector</td>\n",
              "      <td>0.1694</td>\n",
              "      <td>0.3969</td>\n",
              "      <td>0.3957</td>\n",
              "      <td>0.3921</td>\n",
              "      <td>0.3937</td>\n",
              "    </tr>\n",
              "    <tr>\n",
              "      <th>5</th>\n",
              "      <td>AdaBooster</td>\n",
              "      <td>0.1694</td>\n",
              "      <td>0.2973</td>\n",
              "      <td>0.2902</td>\n",
              "      <td>0.2858</td>\n",
              "      <td>0.2885</td>\n",
              "    </tr>\n",
              "    <tr>\n",
              "      <th>6</th>\n",
              "      <td>MLPC</td>\n",
              "      <td>0.1694</td>\n",
              "      <td>0.3809</td>\n",
              "      <td>0.3727</td>\n",
              "      <td>0.3722</td>\n",
              "      <td>0.3729</td>\n",
              "    </tr>\n",
              "  </tbody>\n",
              "</table>\n",
              "</div>\n",
              "      <button class=\"colab-df-convert\" onclick=\"convertToInteractive('df-2a206ba0-ba32-44eb-9dab-b9cd7ff3ec6c')\"\n",
              "              title=\"Convert this dataframe to an interactive table.\"\n",
              "              style=\"display:none;\">\n",
              "        \n",
              "  <svg xmlns=\"http://www.w3.org/2000/svg\" height=\"24px\"viewBox=\"0 0 24 24\"\n",
              "       width=\"24px\">\n",
              "    <path d=\"M0 0h24v24H0V0z\" fill=\"none\"/>\n",
              "    <path d=\"M18.56 5.44l.94 2.06.94-2.06 2.06-.94-2.06-.94-.94-2.06-.94 2.06-2.06.94zm-11 1L8.5 8.5l.94-2.06 2.06-.94-2.06-.94L8.5 2.5l-.94 2.06-2.06.94zm10 10l.94 2.06.94-2.06 2.06-.94-2.06-.94-.94-2.06-.94 2.06-2.06.94z\"/><path d=\"M17.41 7.96l-1.37-1.37c-.4-.4-.92-.59-1.43-.59-.52 0-1.04.2-1.43.59L10.3 9.45l-7.72 7.72c-.78.78-.78 2.05 0 2.83L4 21.41c.39.39.9.59 1.41.59.51 0 1.02-.2 1.41-.59l7.78-7.78 2.81-2.81c.8-.78.8-2.07 0-2.86zM5.41 20L4 18.59l7.72-7.72 1.47 1.35L5.41 20z\"/>\n",
              "  </svg>\n",
              "      </button>\n",
              "      \n",
              "  <style>\n",
              "    .colab-df-container {\n",
              "      display:flex;\n",
              "      flex-wrap:wrap;\n",
              "      gap: 12px;\n",
              "    }\n",
              "\n",
              "    .colab-df-convert {\n",
              "      background-color: #E8F0FE;\n",
              "      border: none;\n",
              "      border-radius: 50%;\n",
              "      cursor: pointer;\n",
              "      display: none;\n",
              "      fill: #1967D2;\n",
              "      height: 32px;\n",
              "      padding: 0 0 0 0;\n",
              "      width: 32px;\n",
              "    }\n",
              "\n",
              "    .colab-df-convert:hover {\n",
              "      background-color: #E2EBFA;\n",
              "      box-shadow: 0px 1px 2px rgba(60, 64, 67, 0.3), 0px 1px 3px 1px rgba(60, 64, 67, 0.15);\n",
              "      fill: #174EA6;\n",
              "    }\n",
              "\n",
              "    [theme=dark] .colab-df-convert {\n",
              "      background-color: #3B4455;\n",
              "      fill: #D2E3FC;\n",
              "    }\n",
              "\n",
              "    [theme=dark] .colab-df-convert:hover {\n",
              "      background-color: #434B5C;\n",
              "      box-shadow: 0px 1px 3px 1px rgba(0, 0, 0, 0.15);\n",
              "      filter: drop-shadow(0px 1px 2px rgba(0, 0, 0, 0.3));\n",
              "      fill: #FFFFFF;\n",
              "    }\n",
              "  </style>\n",
              "\n",
              "      <script>\n",
              "        const buttonEl =\n",
              "          document.querySelector('#df-2a206ba0-ba32-44eb-9dab-b9cd7ff3ec6c button.colab-df-convert');\n",
              "        buttonEl.style.display =\n",
              "          google.colab.kernel.accessAllowed ? 'block' : 'none';\n",
              "\n",
              "        async function convertToInteractive(key) {\n",
              "          const element = document.querySelector('#df-2a206ba0-ba32-44eb-9dab-b9cd7ff3ec6c');\n",
              "          const dataTable =\n",
              "            await google.colab.kernel.invokeFunction('convertToInteractive',\n",
              "                                                     [key], {});\n",
              "          if (!dataTable) return;\n",
              "\n",
              "          const docLinkHtml = 'Like what you see? Visit the ' +\n",
              "            '<a target=\"_blank\" href=https://colab.research.google.com/notebooks/data_table.ipynb>data table notebook</a>'\n",
              "            + ' to learn more about interactive tables.';\n",
              "          element.innerHTML = '';\n",
              "          dataTable['output_type'] = 'display_data';\n",
              "          await google.colab.output.renderOutput(dataTable, element);\n",
              "          const docLink = document.createElement('div');\n",
              "          docLink.innerHTML = docLinkHtml;\n",
              "          element.appendChild(docLink);\n",
              "        }\n",
              "      </script>\n",
              "    </div>\n",
              "  </div>\n",
              "  "
            ]
          },
          "metadata": {},
          "execution_count": 1
        }
      ]
    }
  ],
  "metadata": {
    "colab": {
      "provenance": [],
      "collapsed_sections": [
        "2535074a-62bd-4200-bf54-cb4e1c5fe08d",
        "2b16163c-97fe-4498-9f17-43c9e006c052",
        "IpDCZoOFvcnf",
        "d9y3Bx7j1FN6"
      ]
    },
    "kernelspec": {
      "display_name": "Python 3 (ipykernel)",
      "language": "python",
      "name": "python3"
    },
    "language_info": {
      "codemirror_mode": {
        "name": "ipython",
        "version": 3
      },
      "file_extension": ".py",
      "mimetype": "text/x-python",
      "name": "python",
      "nbconvert_exporter": "python",
      "pygments_lexer": "ipython3",
      "version": "3.9.12"
    }
  },
  "nbformat": 4,
  "nbformat_minor": 5
}
